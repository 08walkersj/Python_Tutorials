{
 "cells": [
  {
   "cell_type": "markdown",
   "id": "alike-offer",
   "metadata": {},
   "source": [
    "# Tutorial on what dictionaries are and how they can be used\n",
    "### It will cover:\n",
    "- What a dictionary is\n",
    "- How to create a dictionary\n",
    "- Retrieving items from a dictionary\n",
    "- updating a dictionary\n",
    "- creating a dictionary from a for loop\n",
    "- loading a dictionary into a pandas DataFrame\n",
    "- unwrapping a dictionary"
   ]
  },
  {
   "cell_type": "markdown",
   "id": "collective-ranking",
   "metadata": {},
   "source": [
    "## What is a dictionary?\n",
    "A dictionary is an object similar to a list or a tuple, it is a core part of python and requires no imports"
   ]
  },
  {
   "cell_type": "markdown",
   "id": "blond-field",
   "metadata": {},
   "source": [
    "A dictionary can be made using {} (curly brackets)"
   ]
  },
  {
   "cell_type": "code",
   "execution_count": 1,
   "id": "seeing-damages",
   "metadata": {},
   "outputs": [],
   "source": [
    "d={'Item1': 20, 'Item2': 50}"
   ]
  },
  {
   "cell_type": "markdown",
   "id": "cardiac-mileage",
   "metadata": {},
   "source": [
    "This dictionary contains two \"keys\" one is called 'Item1' and the other 'Item2'. After the key name a colon is used (:) and the contents for that key is assigned there and a comma is then used if another key is to be made. These keys can have anything assigned to them, for this example they both have an integer."
   ]
  },
  {
   "cell_type": "code",
   "execution_count": 2,
   "id": "serious-setting",
   "metadata": {},
   "outputs": [
    {
     "data": {
      "text/plain": [
       "20"
      ]
     },
     "execution_count": 2,
     "metadata": {},
     "output_type": "execute_result"
    }
   ],
   "source": [
    "d['Item1']"
   ]
  },
  {
   "cell_type": "markdown",
   "id": "identified-sender",
   "metadata": {},
   "source": [
    "We can retrieve the contents of a key by using square brackets and the name of the key"
   ]
  },
  {
   "cell_type": "code",
   "execution_count": 3,
   "id": "piano-creativity",
   "metadata": {},
   "outputs": [
    {
     "data": {
      "text/plain": [
       "50"
      ]
     },
     "execution_count": 3,
     "metadata": {},
     "output_type": "execute_result"
    }
   ],
   "source": [
    "d['Item2']"
   ]
  },
  {
   "cell_type": "markdown",
   "id": "victorian-surgery",
   "metadata": {},
   "source": [
    "We don't just have to assign integers, here are some examples:"
   ]
  },
  {
   "cell_type": "code",
   "execution_count": 4,
   "id": "significant-dublin",
   "metadata": {},
   "outputs": [],
   "source": [
    "d= {'list': [1, 2, 3, 4], 'tuple': (1,2,3), 'dictionary': {'Item1': 20, 'Item2': 50}}"
   ]
  },
  {
   "cell_type": "code",
   "execution_count": 5,
   "id": "dying-equity",
   "metadata": {},
   "outputs": [
    {
     "name": "stdout",
     "output_type": "stream",
     "text": [
      "[1, 2, 3, 4]\n",
      "(1, 2, 3)\n",
      "{'Item1': 20, 'Item2': 50}\n",
      "20\n",
      "50\n"
     ]
    }
   ],
   "source": [
    "print(d['list'])\n",
    "print(d['tuple'])\n",
    "print(d['dictionary'])\n",
    "print(d['dictionary']['Item1'])\n",
    "print(d['dictionary']['Item2'])"
   ]
  },
  {
   "cell_type": "markdown",
   "id": "gentle-agenda",
   "metadata": {},
   "source": [
    "As you can see in this example you can even assign another dictionary to a key.\n",
    "You don't have to worry about the sizes being the same or the types being the same. The options are pretty much limitless"
   ]
  },
  {
   "cell_type": "markdown",
   "id": "passing-instruction",
   "metadata": {},
   "source": [
    "There are other ways to make dictionaries than using {}. Here is an example using the dict function in python"
   ]
  },
  {
   "cell_type": "code",
   "execution_count": 6,
   "id": "beautiful-poker",
   "metadata": {},
   "outputs": [
    {
     "name": "stdout",
     "output_type": "stream",
     "text": [
      "20\n",
      "30\n"
     ]
    }
   ],
   "source": [
    "d= dict(Item1=20, Item2=30)\n",
    "print(d['Item1'])\n",
    "print(d['Item2'])"
   ]
  },
  {
   "cell_type": "markdown",
   "id": "offensive-california",
   "metadata": {},
   "source": [
    "## Updating a dictionary\n",
    "The ability to update a dictionary is an important tool, it allows new keys to be added after a dictionary has alread been created.\n",
    "You can also change the contents of an existing key as well"
   ]
  },
  {
   "cell_type": "markdown",
   "id": "compatible-spokesman",
   "metadata": {},
   "source": [
    "Changing what is assigned to a key is relatively simple: by calling the key, as you would normally to get to the contents, and then assigning it the new contents the dictionary is updated with the new values"
   ]
  },
  {
   "cell_type": "code",
   "execution_count": 7,
   "id": "intellectual-seating",
   "metadata": {},
   "outputs": [
    {
     "name": "stdout",
     "output_type": "stream",
     "text": [
      "20\n",
      "[1, 2, 3]\n"
     ]
    }
   ],
   "source": [
    "d={'Item1': 20, 'Item2': 50}\n",
    "print(d['Item1'])\n",
    "d['Item1']= [1, 2,3]\n",
    "print(d['Item1'])"
   ]
  },
  {
   "cell_type": "markdown",
   "id": "virgin-migration",
   "metadata": {},
   "source": [
    "To add new keys the dictionary.update attribute is used"
   ]
  },
  {
   "cell_type": "code",
   "execution_count": 8,
   "id": "formal-imagination",
   "metadata": {},
   "outputs": [
    {
     "name": "stdout",
     "output_type": "stream",
     "text": [
      "{'Item1': 20, 'Item2': 50, 'Item3': [80, 30]}\n"
     ]
    }
   ],
   "source": [
    "d={'Item1': 20, 'Item2': 50}\n",
    "d.update({'Item3':[80, 30]})\n",
    "print(d)"
   ]
  },
  {
   "cell_type": "markdown",
   "id": "stretch-arthritis",
   "metadata": {},
   "source": [
    "As you can see in the last example, to update a dictionary you create a new dictionary with the key(s) and content(s) and use it to update the original dictionary.\n",
    "This can also be used to merge two dictionaries in the exact same way"
   ]
  },
  {
   "cell_type": "markdown",
   "id": "dying-hawaii",
   "metadata": {},
   "source": [
    "Another way to add a new key to a dictionary is by assigning the keys contents in the same way as if you were updating the contents of a key already in the dictionary"
   ]
  },
  {
   "cell_type": "code",
   "execution_count": 9,
   "id": "turkish-mumbai",
   "metadata": {},
   "outputs": [],
   "source": [
    "d['Item4']=80"
   ]
  },
  {
   "cell_type": "markdown",
   "id": "concerned-profile",
   "metadata": {},
   "source": [
    "# For loops and dictionaries\n",
    "In the same way that for loops can be used to make lists the same can be done with a dictionary"
   ]
  },
  {
   "cell_type": "markdown",
   "id": "incredible-philosophy",
   "metadata": {},
   "source": [
    "This is an example using a list"
   ]
  },
  {
   "cell_type": "code",
   "execution_count": 10,
   "id": "korean-malpractice",
   "metadata": {},
   "outputs": [
    {
     "name": "stdout",
     "output_type": "stream",
     "text": [
      "['Item0', 'Item1', 'Item2', 'Item3', 'Item4', 'Item5', 'Item6', 'Item7', 'Item8', 'Item9']\n"
     ]
    }
   ],
   "source": [
    "keys= ['Item'+str(i) for i in range(10)]\n",
    "print(keys)"
   ]
  },
  {
   "cell_type": "code",
   "execution_count": 11,
   "id": "terminal-riverside",
   "metadata": {},
   "outputs": [
    {
     "name": "stdout",
     "output_type": "stream",
     "text": [
      "[0, 1, 4, 9, 16, 25, 36, 49, 64, 81]\n"
     ]
    }
   ],
   "source": [
    "contents= [i**2 for i in range(10)]\n",
    "print(contents)"
   ]
  },
  {
   "cell_type": "markdown",
   "id": "hollow-world",
   "metadata": {},
   "source": [
    "This is an example with a dictionary"
   ]
  },
  {
   "cell_type": "code",
   "execution_count": 12,
   "id": "lyric-desert",
   "metadata": {},
   "outputs": [
    {
     "name": "stdout",
     "output_type": "stream",
     "text": [
      "{'Item0': 0, 'Item1': 1, 'Item2': 4, 'Item3': 9, 'Item4': 16, 'Item5': 25, 'Item6': 36, 'Item7': 49, 'Item8': 64, 'Item9': 81}\n"
     ]
    }
   ],
   "source": [
    "d={keys[i]: contents[i] for i in range(10)}\n",
    "print(d)"
   ]
  },
  {
   "cell_type": "markdown",
   "id": "rough-tuner",
   "metadata": {},
   "source": [
    "## Creating a Pandas DataFrame from a dictionary\n",
    "If you are familiar with pandas data frames you may have noticed some similarities in the functionality of dictionaries and data frames so it may not be surprising that you can very easily make a data frame from a dictionary"
   ]
  },
  {
   "cell_type": "code",
   "execution_count": 13,
   "id": "qualified-oracle",
   "metadata": {},
   "outputs": [
    {
     "name": "stdout",
     "output_type": "stream",
     "text": [
      "   Item0  Item1  Item2  Item3  Item4  Item5  Item6  Item7  Item8  Item9\n",
      "0      0      1      4      9     16     25     36     49     64     81\n",
      "1      2      3      4      5      6      7      8      9     10     11\n",
      "2      0      2      4      6      8     10     12     14     16     18\n"
     ]
    }
   ],
   "source": [
    "contents= [[i**2, i+2, i*2] for i in range(10)]\n",
    "d={keys[i]: contents[i] for i in range(10)}\n",
    "import pandas as pd\n",
    "df= pd.DataFrame(d)\n",
    "print(df)"
   ]
  },
  {
   "cell_type": "markdown",
   "id": "fabulous-container",
   "metadata": {},
   "source": [
    "Pandas takes in the dictionary, creates column names from the keys and gives them values based on their contents.\n",
    "Things to remember when doing this is that each key must have the same length of contents and cannot have a single value. \n",
    "If you wanted to just have one row of values in each column then the dictionary must be constructed in the following way:"
   ]
  },
  {
   "cell_type": "code",
   "execution_count": 14,
   "id": "restricted-differential",
   "metadata": {},
   "outputs": [
    {
     "name": "stdout",
     "output_type": "stream",
     "text": [
      "   Item0  Item1  Item2  Item3  Item4  Item5  Item6  Item7  Item8  Item9\n",
      "0      0      1      4      9     16     25     36     49     64     81\n"
     ]
    }
   ],
   "source": [
    "df= pd.DataFrame({'Item'+str(i): [i**2] for i in range(10)})\n",
    "print(df)"
   ]
  },
  {
   "cell_type": "markdown",
   "id": "rising-arbor",
   "metadata": {},
   "source": [
    "In the example you can see that I have put square brackets around what would have been an integer, which converts it into a list. Pandas can except a list of length 1 as the values for the column"
   ]
  },
  {
   "cell_type": "markdown",
   "id": "equal-manitoba",
   "metadata": {},
   "source": [
    "## Unwrapping dictionaries\n",
    "You may have seen in a number of functions that **kwargs is an argument. The following examples will hopefully explain this"
   ]
  },
  {
   "cell_type": "markdown",
   "id": "turned-block",
   "metadata": {},
   "source": [
    "First we will create a function with needed arguments and arguments that have a default value"
   ]
  },
  {
   "cell_type": "code",
   "execution_count": 15,
   "id": "mineral-kelly",
   "metadata": {},
   "outputs": [],
   "source": [
    "def example(a, color='red', car='Ferrari'):\n",
    "    print('He has ' +str(a)+ ' ' +car +'s that are '+ color)\n"
   ]
  },
  {
   "cell_type": "code",
   "execution_count": 16,
   "id": "incident-climate",
   "metadata": {},
   "outputs": [
    {
     "name": "stdout",
     "output_type": "stream",
     "text": [
      "He has 10 Ferraris that are red\n"
     ]
    }
   ],
   "source": [
    "example(10)"
   ]
  },
  {
   "cell_type": "markdown",
   "id": "shared-brake",
   "metadata": {},
   "source": [
    "As you may already know, to change the default arguments to something else you do the following:"
   ]
  },
  {
   "cell_type": "code",
   "execution_count": 17,
   "id": "marked-hudson",
   "metadata": {},
   "outputs": [
    {
     "name": "stdout",
     "output_type": "stream",
     "text": [
      "He has 3 E-type Jaguars that are british racing green\n"
     ]
    }
   ],
   "source": [
    "example(3, color='british racing green', car= 'E-type Jaguar')"
   ]
  },
  {
   "cell_type": "markdown",
   "id": "sixth-element",
   "metadata": {},
   "source": [
    "But if I had a dictionary that contained these variables?"
   ]
  },
  {
   "cell_type": "code",
   "execution_count": 18,
   "id": "hundred-concept",
   "metadata": {},
   "outputs": [
    {
     "name": "stdout",
     "output_type": "stream",
     "text": [
      "He has 2 E-type Jaguars that are british racing green\n"
     ]
    }
   ],
   "source": [
    "car_data= {'car': 'E-type Jaguar', 'color': 'british racing green'}\n",
    "example(2, **car_data)"
   ]
  },
  {
   "cell_type": "markdown",
   "id": "first-warren",
   "metadata": {},
   "source": [
    "You can see by using ** the dictionary is \"unwrapped\" and the keys become the argument names and their contents become the argument values"
   ]
  },
  {
   "cell_type": "markdown",
   "id": "thrown-working",
   "metadata": {},
   "source": [
    "### BUT THERE IS MORE!!!"
   ]
  },
  {
   "cell_type": "code",
   "execution_count": 19,
   "id": "armed-extra",
   "metadata": {},
   "outputs": [],
   "source": [
    "def example(a, **kwargs):\n",
    "    print(a)\n",
    "    print(kwargs)"
   ]
  },
  {
   "cell_type": "code",
   "execution_count": 20,
   "id": "casual-pontiac",
   "metadata": {},
   "outputs": [
    {
     "name": "stdout",
     "output_type": "stream",
     "text": [
      "2\n",
      "{'color': 'british racing green', 'car': 'E-type Jaguar'}\n"
     ]
    }
   ],
   "source": [
    "example(2, color='british racing green', car= 'E-type Jaguar')"
   ]
  },
  {
   "cell_type": "markdown",
   "id": "surprising-charger",
   "metadata": {},
   "source": [
    "By specifying an argument such as **kwargs python creates a dictionary from any variables asigned using the equals sign that aren't already defined in the arguments of the original function\n",
    "\n",
    "This can be useful if you want to pass some of these arguments to another function\n",
    "\n",
    "for example:"
   ]
  },
  {
   "cell_type": "code",
   "execution_count": 21,
   "id": "interim-detective",
   "metadata": {},
   "outputs": [
    {
     "name": "stdout",
     "output_type": "stream",
     "text": [
      "kwargs=  {'color': 'red', 'marker': 'h', 'lw': '15', 'alpha': 0.5}\n"
     ]
    },
    {
     "data": {
      "text/plain": [
       "[<matplotlib.lines.Line2D at 0x7f9124b0faf0>]"
      ]
     },
     "execution_count": 21,
     "metadata": {},
     "output_type": "execute_result"
    },
    {
     "data": {
      "image/png": "[encoded data removed]",
      "text/plain": [
       "<Figure size 640x480 with 1 Axes>"
      ]
     },
     "metadata": {},
     "output_type": "display_data"
    }
   ],
   "source": [
    "import matplotlib.pyplot as plt\n",
    "import numpy as np\n",
    "def plot(x, y, x_multiple= 10, **kwargs):\n",
    "    x= x*10\n",
    "    print('kwargs= ', kwargs)\n",
    "    return plt.plot(x, y, **kwargs)\n",
    "fig= plt.figure()\n",
    "i= np.array([10, 22, 15])\n",
    "j= np.array([44, 8, 6])\n",
    "plot(i, j, x_multiple=5, color='red', marker='h', lw='15', alpha=0.5)"
   ]
  },
  {
   "cell_type": "markdown",
   "id": "suited-snake",
   "metadata": {},
   "source": [
    "As you can see a dictionary is created with keys color, marker, lw and alpha.\n",
    "This dictionary is then unwrapped in plt.plot where it behaves as though you had typed in those arguments.\n",
    "\n",
    "You can also see the x_multiple has not become part of the dictionary as it is an argument defined by the function and therefore isn't captured by **kwargs"
   ]
  }
 ],
 "metadata": {
  "kernelspec": {
   "display_name": "Python 3 (ipykernel)",
   "language": "python",
   "name": "python3"
  },
  "language_info": {
   "codemirror_mode": {
    "name": "ipython",
    "version": 3
   },
   "file_extension": ".py",
   "mimetype": "text/x-python",
   "name": "python",
   "nbconvert_exporter": "python",
   "pygments_lexer": "ipython3",
   "version": "3.10.11"
  }
 },
 "nbformat": 4,
 "nbformat_minor": 5
}
