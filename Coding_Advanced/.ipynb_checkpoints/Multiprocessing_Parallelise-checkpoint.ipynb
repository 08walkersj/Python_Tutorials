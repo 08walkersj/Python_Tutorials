{
 "cells": [
  {
   "cell_type": "markdown",
   "metadata": {},
   "source": [
    "# How to use multiprocessing to enhance python code to use multiple cores"
   ]
  },
  {
   "cell_type": "code",
   "execution_count": 24,
   "metadata": {},
   "outputs": [],
   "source": [
    "from multiprocessing import Pool\n",
    "import numpy as np"
   ]
  },
  {
   "cell_type": "code",
   "execution_count": 25,
   "metadata": {},
   "outputs": [],
   "source": [
    "def f(x): #create a function with one argument\n",
    "    print(x[0])\n",
    "    return np.nanmean(x)\n"
   ]
  },
  {
   "cell_type": "code",
   "execution_count": 26,
   "metadata": {},
   "outputs": [
    {
     "name": "stdout",
     "output_type": "stream",
     "text": [
      "0.4403166232731142\n",
      "0.08406314182080751\n",
      "0.5990915789138282\n",
      "0.5499140886999359\n",
      "1.1830299085895222\n"
     ]
    }
   ],
   "source": [
    "cpu_num= 3\n",
    "p= Pool(cpu_num) # pick the number of cpus you want to use"
   ]
  },
  {
   "cell_type": "code",
   "execution_count": 27,
   "metadata": {},
   "outputs": [],
   "source": [
    "x1= np.random.randn(10)\n",
    "x2= np.random.randn(5)\n",
    "x3= np.random.randn(13)\n",
    "x4= np.random.randn(8)\n",
    "x5= np.random.randn(9)"
   ]
  },
  {
   "cell_type": "code",
   "execution_count": 28,
   "metadata": {},
   "outputs": [],
   "source": [
    "results= p.map(f, [x1,x2,x3,x4,x5]) #map then applies the function to each item in the list on the 3 different cores"
   ]
  },
  {
   "cell_type": "code",
   "execution_count": 23,
   "metadata": {},
   "outputs": [
    {
     "data": {
      "text/plain": [
       "[-0.03334207881331906,\n",
       " 0.05916142553454044,\n",
       " -0.08560879096189236,\n",
       " 0.438174554916662,\n",
       " -0.06966786766712842]"
      ]
     },
     "execution_count": 23,
     "metadata": {},
     "output_type": "execute_result"
    }
   ],
   "source": [
    "results"
   ]
  }
 ],
 "metadata": {
  "kernelspec": {
   "display_name": "Python 3 (ipykernel)",
   "language": "python",
   "name": "python3"
  },
  "language_info": {
   "codemirror_mode": {
    "name": "ipython",
    "version": 3
   },
   "file_extension": ".py",
   "mimetype": "text/x-python",
   "name": "python",
   "nbconvert_exporter": "python",
   "pygments_lexer": "ipython3",
   "version": "3.10.11"
  }
 },
 "nbformat": 4,
 "nbformat_minor": 4
}
