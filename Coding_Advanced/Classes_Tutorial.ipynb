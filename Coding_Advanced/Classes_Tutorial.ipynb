{
 "cells": [
  {
   "cell_type": "markdown",
   "id": "earned-lunch",
   "metadata": {},
   "source": [
    "# Classes Tutorial"
   ]
  },
  {
   "cell_type": "markdown",
   "id": "southern-parking",
   "metadata": {},
   "source": [
    "## This is a tutorial to explain the basics of classes\n",
    "- How to assign attributes\n",
    "- Using init\n",
    "- Assigning functions to a class"
   ]
  },
  {
   "cell_type": "markdown",
   "id": "determined-subscriber",
   "metadata": {},
   "source": [
    "### Classes require no imported modules it is part of the core of python\n",
    "### First we will create a simple class called example1"
   ]
  },
  {
   "cell_type": "code",
   "execution_count": 1,
   "id": "coral-ceiling",
   "metadata": {},
   "outputs": [],
   "source": [
    "class example1():\n",
    "    x=3"
   ]
  },
  {
   "cell_type": "markdown",
   "id": "interstate-animal",
   "metadata": {},
   "source": [
    "### You can see that it is very similar to using a definition\n",
    "### Inside the we have defined x to be equal to 3"
   ]
  },
  {
   "cell_type": "code",
   "execution_count": 2,
   "id": "spare-retrieval",
   "metadata": {},
   "outputs": [
    {
     "data": {
      "text/plain": [
       "3"
      ]
     },
     "execution_count": 2,
     "metadata": {},
     "output_type": "execute_result"
    }
   ],
   "source": [
    "example1.x"
   ]
  },
  {
   "cell_type": "markdown",
   "id": "structural-sarah",
   "metadata": {},
   "source": [
    "### you can see that as a result example1 has an attribute called x that when called returns the value 3\n",
    "### An attribute is anything that comes after a dot (.)\n",
    "### For example in a numpy array:"
   ]
  },
  {
   "cell_type": "code",
   "execution_count": null,
   "id": "professional-commonwealth",
   "metadata": {},
   "outputs": [],
   "source": [
    "import numpy as np\n",
    "arr= np.array([1,2,3])\n",
    "arr.mean()"
   ]
  },
  {
   "cell_type": "markdown",
   "id": "fresh-communist",
   "metadata": {},
   "source": [
    "### Here \"mean\" is an attribute of arr which shows an attribute can also be a function\n",
    "### Below is another example with lists (something else that is a core part of python)"
   ]
  },
  {
   "cell_type": "code",
   "execution_count": null,
   "id": "binding-mexican",
   "metadata": {},
   "outputs": [],
   "source": [
    "ls= ['d', 'D', 'a', 'e']\n",
    "ls.sort()\n",
    "ls"
   ]
  },
  {
   "cell_type": "markdown",
   "id": "renewable-dubai",
   "metadata": {},
   "source": [
    "### In this example the function and attribute \"sort\" changes the list itself. When you have finished this tutorial see if you can make a class that can do this"
   ]
  },
  {
   "cell_type": "markdown",
   "id": "connected-closing",
   "metadata": {},
   "source": [
    "### So lets experiment further with classes and add some functions"
   ]
  },
  {
   "cell_type": "code",
   "execution_count": null,
   "id": "israeli-netherlands",
   "metadata": {},
   "outputs": [],
   "source": [
    "class example2():\n",
    "    def XplusY(x, y):\n",
    "        return x+y"
   ]
  },
  {
   "cell_type": "code",
   "execution_count": null,
   "id": "recreational-telephone",
   "metadata": {},
   "outputs": [],
   "source": [
    "example2.XplusY(1,2)"
   ]
  },
  {
   "cell_type": "markdown",
   "id": "moving-secondary",
   "metadata": {},
   "source": [
    "### So far this just looks like a nice way to organise your code by grouping definitions or values within a class, which can be helpful for you to find definitions and values easier and for others hoping to use your code. However, there is a lot more that can be done\n",
    "\n",
    "### Next we will look at what can be done with init and self"
   ]
  },
  {
   "cell_type": "code",
   "execution_count": 3,
   "id": "behind-volunteer",
   "metadata": {},
   "outputs": [],
   "source": [
    "class example3():\n",
    "    def __init__(self, x, y):\n",
    "        self.x = x\n",
    "        self.y= y\n",
    "        self.XplusY= x+y"
   ]
  },
  {
   "cell_type": "markdown",
   "id": "fabulous-device",
   "metadata": {},
   "source": [
    "### The definition __init__ tells python that when you use this class this definition will be used straight away, it is part of the initial set up"
   ]
  },
  {
   "cell_type": "code",
   "execution_count": 4,
   "id": "typical-moisture",
   "metadata": {},
   "outputs": [],
   "source": [
    "ex= example3(4, 5)"
   ]
  },
  {
   "cell_type": "code",
   "execution_count": 5,
   "id": "british-handling",
   "metadata": {},
   "outputs": [
    {
     "data": {
      "text/plain": [
       "4"
      ]
     },
     "execution_count": 5,
     "metadata": {},
     "output_type": "execute_result"
    }
   ],
   "source": [
    "ex.x"
   ]
  },
  {
   "cell_type": "code",
   "execution_count": 6,
   "id": "affected-hours",
   "metadata": {},
   "outputs": [
    {
     "data": {
      "text/plain": [
       "5"
      ]
     },
     "execution_count": 6,
     "metadata": {},
     "output_type": "execute_result"
    }
   ],
   "source": [
    "ex.y"
   ]
  },
  {
   "cell_type": "code",
   "execution_count": 7,
   "id": "separated-sierra",
   "metadata": {},
   "outputs": [
    {
     "data": {
      "text/plain": [
       "9"
      ]
     },
     "execution_count": 7,
     "metadata": {},
     "output_type": "execute_result"
    }
   ],
   "source": [
    "ex.XplusY"
   ]
  },
  {
   "cell_type": "markdown",
   "id": "regular-charlotte",
   "metadata": {},
   "source": [
    "### Try using the class the way that is shown above. In the same way as when you use a definition, python will show that you need 2 arguments x and y. You will notice that self is an argument of the __init__ definition but you do not put anything in its place when using the class. Self refers to the object ex that is created when you use the class\n",
    "\n",
    "### By using self.x, self.y and self.XplusY, you are adding attributes to self and therefore to ex"
   ]
  },
  {
   "cell_type": "markdown",
   "id": "announced-things",
   "metadata": {},
   "source": [
    "### The use of self is not limited to just the __init__ definition"
   ]
  },
  {
   "cell_type": "code",
   "execution_count": 8,
   "id": "arbitrary-bailey",
   "metadata": {},
   "outputs": [],
   "source": [
    "class example4():\n",
    "    def __init__(self, x, y):\n",
    "        self.x = x\n",
    "        self.y= y\n",
    "    def addXY(self):\n",
    "        return self.x + self.y\n",
    "    def addXYZ(self, z):\n",
    "        return self.x + self.y + z\n",
    "    def timesXY(self):\n",
    "        return self.x * self.y\n",
    "    def timesXYZ(self, z):\n",
    "        return self.x* self.y *z\n"
   ]
  },
  {
   "cell_type": "code",
   "execution_count": 9,
   "id": "raising-wright",
   "metadata": {},
   "outputs": [
    {
     "data": {
      "text/plain": [
       "7"
      ]
     },
     "execution_count": 9,
     "metadata": {},
     "output_type": "execute_result"
    }
   ],
   "source": [
    "ex4= example4(3, 4)\n",
    "ex4.addXY()"
   ]
  },
  {
   "cell_type": "code",
   "execution_count": 10,
   "id": "thick-blend",
   "metadata": {},
   "outputs": [
    {
     "data": {
      "text/plain": [
       "17"
      ]
     },
     "execution_count": 10,
     "metadata": {},
     "output_type": "execute_result"
    }
   ],
   "source": [
    "ex4.addXYZ(10)"
   ]
  },
  {
   "cell_type": "code",
   "execution_count": null,
   "metadata": {},
   "outputs": [],
   "source": []
  },
  {
   "cell_type": "code",
   "execution_count": 11,
   "id": "charged-brake",
   "metadata": {},
   "outputs": [
    {
     "data": {
      "text/plain": [
       "12"
      ]
     },
     "execution_count": 11,
     "metadata": {},
     "output_type": "execute_result"
    }
   ],
   "source": [
    "ex4.timesXY()"
   ]
  },
  {
   "cell_type": "code",
   "execution_count": 12,
   "id": "technical-radius",
   "metadata": {},
   "outputs": [
    {
     "data": {
      "text/plain": [
       "120"
      ]
     },
     "execution_count": 12,
     "metadata": {},
     "output_type": "execute_result"
    }
   ],
   "source": [
    "ex4.timesXYZ(10)"
   ]
  },
  {
   "cell_type": "markdown",
   "id": "expanded-manchester",
   "metadata": {},
   "source": [
    "### Experiment and play around with this and try out your own ideas\n",
    "# There is lots more to discover with classes this is only the beginning!!!!!"
   ]
  },
  {
   "cell_type": "code",
   "execution_count": 42,
   "id": "d51f804c",
   "metadata": {},
   "outputs": [],
   "source": [
    "import numpy as np\n",
    "import matplotlib.pyplot as plt\n",
    "class Polar():\n",
    "    def __init__(self, ax):\n",
    "        self.ax= ax\n",
    "        self.set_mlt_zero_location= ax.set_theta_zero_location\n",
    "        ax.format_coord= self.make_format()\n",
    "        ax.set_xticklabels([0, 3, 6, 9, 12, 15, 18, 21])\n",
    "        ax.set_theta_zero_location('S')\n",
    "        ticks=list(range(0, 100, 10))\n",
    "        ax.set_rticks(ticks[:int(len(ax.get_yticklabels())/2)+2])\n",
    "        labels= np.array((range(90, -10, -10)))\n",
    "        ax.set_yticklabels(labels[:len(ax.get_yticklabels())])\n",
    "        ax.autoscale(enable=False)\n",
    "    def TothetaR(self, mlt, mlat):\n",
    "        mlt=np.array(mlt)\n",
    "        mlat=np.array(mlat)\n",
    "        theta=mlt*np.pi/12\n",
    "        x= -np.sin(theta-np.pi/2)\n",
    "        y= np.sin(theta)\n",
    "        θ = np.arctan2(y, x)\n",
    "        return θ, 90-mlat\n",
    "    def ToMag(self, theta, r):\n",
    "        mlat= 90-np.array([r])\n",
    "        mlt= np.array([theta]) *(12/np.pi)\n",
    "        mlt[mlt<-0]+=24\n",
    "        return mlt, mlat\n",
    "    def vec_theta(self, mlt):\n",
    "        theta=mlt*np.pi/12\n",
    "        x= np.sin(theta)\n",
    "        y= np.sin(theta-np.pi/2)\n",
    "        θ = np.arctan2(y, x)\n",
    "        return θ\n",
    "    def vec_conv(self, dr, dt, theta):\n",
    "        return dr * np.cos(theta) - dt*np.sin(theta), dr*np.sin(theta) + dt*np.cos(theta)\n",
    "    def plot(self, mlt, mlat, **kwargs):\n",
    "        return self.ax.plot(*self.TothetaR(mlt, mlat), **kwargs)\n",
    "    def scatter(self, mlt, mlat, **kwargs):\n",
    "        return self.ax.scatter(*self.TothetaR(mlt, mlat), **kwargs)\n",
    "    def quiver(self, mlt, mlat, East, North, **kwargs):\n",
    "        v_theta= self.vec_theta(mlt)\n",
    "        theta, r= self.TothetaR(mlt, mlat)\n",
    "        return self.ax.quiver(theta, r, *self.vec_conv(-North, East, v_theta), **kwargs)\n",
    "    def make_format(current):\n",
    "        # current and other are axes\n",
    "        def format_coord(theta, r):\n",
    "            # x, y are data coordinates\n",
    "            # convert to display coords\n",
    "            display_coord = current.ToMag(theta,r)\n",
    "            # convert back to data coords with respect to ax\n",
    "            ax_coord= (float(i) for i in display_coord)\n",
    "            string= 'mlt={:.2f}, mlat={:.2f}'.format(*ax_coord) \n",
    "            return (string)\n",
    "        return format_coord\n"
   ]
  },
  {
   "cell_type": "code",
   "execution_count": 45,
   "id": "774593dd",
   "metadata": {},
   "outputs": [
    {
     "name": "stderr",
     "output_type": "stream",
     "text": [
      "/tmp/ipykernel_678618/4162948231.py:8: UserWarning: set_ticklabels() should only be used with a fixed number of ticks, i.e. after set_ticks() or using a FixedLocator.\n",
      "  ax.set_xticklabels([0, 3, 6, 9, 12, 15, 18, 21])\n"
     ]
    }
   ],
   "source": [
    "fig= plt.figure()\n",
    "ax= Polar(fig.add_subplot(111, projection='polar'))\n"
   ]
  },
  {
   "cell_type": "code",
   "execution_count": 46,
   "id": "9254d959",
   "metadata": {},
   "outputs": [
    {
     "data": {
      "text/plain": [
       "<matplotlib.quiver.Quiver at 0x7346b4372ce0>"
      ]
     },
     "execution_count": 46,
     "metadata": {},
     "output_type": "execute_result"
    },
    {
     "name": "stderr",
     "output_type": "stream",
     "text": [
      "/tmp/ipykernel_678618/4162948231.py:51: DeprecationWarning: Conversion of an array with ndim > 0 to a scalar is deprecated, and will error in future. Ensure you extract a single element from your array before performing this operation. (Deprecated NumPy 1.25.)\n",
      "  ax_coord= (float(i) for i in display_coord)\n"
     ]
    }
   ],
   "source": [
    "ax.scatter([1, 2], [70, 75], color='red', marker='x')\n",
    "ax.quiver(np.array([1, 2]), np.array([70, 75]), np.array([1, 0]), np.array([1, -1]))"
   ]
  }
 ],
 "metadata": {
  "kernelspec": {
   "display_name": "Python 3 (ipykernel)",
   "language": "python",
   "name": "python3"
  },
  "language_info": {
   "codemirror_mode": {
    "name": "ipython",
    "version": 3
   },
   "file_extension": ".py",
   "mimetype": "text/x-python",
   "name": "python",
   "nbconvert_exporter": "python",
   "pygments_lexer": "ipython3",
   "version": "3.10.14"
  }
 },
 "nbformat": 4,
 "nbformat_minor": 5
}
