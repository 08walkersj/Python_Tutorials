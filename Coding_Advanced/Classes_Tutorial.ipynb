{
 "cells": [
  {
   "cell_type": "markdown",
   "id": "earned-lunch",
   "metadata": {},
   "source": [
    "# Classes Tutorial"
   ]
  },
  {
   "cell_type": "markdown",
   "id": "southern-parking",
   "metadata": {},
   "source": [
    "## This is a tutorial to explain the basics of classes\n",
    "- How to assign attributes\n",
    "- Using init\n",
    "- Assigning functions to a class"
   ]
  },
  {
   "cell_type": "markdown",
   "id": "determined-subscriber",
   "metadata": {},
   "source": [
    "### Classes require no imported modules it is part of the core of python\n",
    "### First we will create a simple class call example1"
   ]
  },
  {
   "cell_type": "code",
   "execution_count": null,
   "id": "coral-ceiling",
   "metadata": {},
   "outputs": [],
   "source": [
    "class example1():\n",
    "    x=3"
   ]
  },
  {
   "cell_type": "markdown",
   "id": "interstate-animal",
   "metadata": {},
   "source": [
    "### You can see that it is very similar to using a definition\n",
    "### Inside the we have defined x to be equal to 3"
   ]
  },
  {
   "cell_type": "code",
   "execution_count": null,
   "id": "spare-retrieval",
   "metadata": {},
   "outputs": [],
   "source": [
    "example1.x"
   ]
  },
  {
   "cell_type": "markdown",
   "id": "structural-sarah",
   "metadata": {},
   "source": [
    "### you can see that as a result example1 has an attribute called x that when called returns the value 3\n",
    "### An attribute is anything that comes after a dot (.)\n",
    "### For example in a numpy array:"
   ]
  },
  {
   "cell_type": "code",
   "execution_count": null,
   "id": "professional-commonwealth",
   "metadata": {},
   "outputs": [],
   "source": [
    "import numpy as np\n",
    "arr= np.array([1,2,3])\n",
    "arr.mean()"
   ]
  },
  {
   "cell_type": "markdown",
   "id": "fresh-communist",
   "metadata": {},
   "source": [
    "### Here \"mean\" is an attribute of arr which shows an attribute can also be a function\n",
    "### Below is another example with lists (something else that is a core part of python)"
   ]
  },
  {
   "cell_type": "code",
   "execution_count": null,
   "id": "binding-mexican",
   "metadata": {},
   "outputs": [],
   "source": [
    "ls= ['d', 'D', 'a', 'e']\n",
    "ls.sort()\n",
    "ls"
   ]
  },
  {
   "cell_type": "markdown",
   "id": "renewable-dubai",
   "metadata": {},
   "source": [
    "### In this example the function and attribute \"sort\" changes the list itself. When you have finished this tutorial see if you can make a class that can do this"
   ]
  },
  {
   "cell_type": "markdown",
   "id": "connected-closing",
   "metadata": {},
   "source": [
    "### So lets experiment further with classes and add some functions"
   ]
  },
  {
   "cell_type": "code",
   "execution_count": null,
   "id": "israeli-netherlands",
   "metadata": {},
   "outputs": [],
   "source": [
    "class example2():\n",
    "    def XplusY(x, y):\n",
    "        return x+y"
   ]
  },
  {
   "cell_type": "code",
   "execution_count": null,
   "id": "recreational-telephone",
   "metadata": {},
   "outputs": [],
   "source": [
    "example2.XplusY(1,2)"
   ]
  },
  {
   "cell_type": "markdown",
   "id": "moving-secondary",
   "metadata": {},
   "source": [
    "### So far this just looks like a nice way to organise your code by grouping definitions or values within a class, which can be helpful for you to find definitions and values easier and for others hoping to use your code. However, there is a lot more that can be done\n",
    "\n",
    "### Next we will look at what can be done with init and self"
   ]
  },
  {
   "cell_type": "code",
   "execution_count": null,
   "id": "behind-volunteer",
   "metadata": {},
   "outputs": [],
   "source": [
    "class example3():\n",
    "    def __init__(self, x, y):\n",
    "        self.x = x\n",
    "        self.y= y\n",
    "        self.XplusY= x+y"
   ]
  },
  {
   "cell_type": "markdown",
   "id": "fabulous-device",
   "metadata": {},
   "source": [
    "### The definition __init__ tells python that when you use this class this definition will be used straight away, it is part of the initial set up"
   ]
  },
  {
   "cell_type": "code",
   "execution_count": null,
   "id": "typical-moisture",
   "metadata": {},
   "outputs": [],
   "source": [
    "ex= example3(4, 5)"
   ]
  },
  {
   "cell_type": "code",
   "execution_count": null,
   "id": "british-handling",
   "metadata": {},
   "outputs": [],
   "source": [
    "ex.x"
   ]
  },
  {
   "cell_type": "code",
   "execution_count": null,
   "id": "affected-hours",
   "metadata": {},
   "outputs": [],
   "source": [
    "ex.y"
   ]
  },
  {
   "cell_type": "code",
   "execution_count": null,
   "id": "separated-sierra",
   "metadata": {},
   "outputs": [],
   "source": [
    "ex.XplusY"
   ]
  },
  {
   "cell_type": "markdown",
   "id": "regular-charlotte",
   "metadata": {},
   "source": [
    "### Try using the class the way that is shown above. In the same way as when you use a definition, python will show that you need 2 arguments x and y. You will notice that self is an argument of the __init__ definition but you do not put anything in its place when using the class. Self refers to the object ex that is created when you use the class\n",
    "\n",
    "### By using self.x, self.y and self.XplusY, you are adding attributes to self and therefore to ex"
   ]
  },
  {
   "cell_type": "markdown",
   "id": "announced-things",
   "metadata": {},
   "source": [
    "### The use of self is not confined to just the __init__ definition"
   ]
  },
  {
   "cell_type": "code",
   "execution_count": null,
   "id": "arbitrary-bailey",
   "metadata": {},
   "outputs": [],
   "source": [
    "class example4():\n",
    "    def __init__(self, x, y):\n",
    "        self.x = x\n",
    "        self.y= y\n",
    "    def addXY(self):\n",
    "        return self.x + self.y\n",
    "    def addXYZ(self, z):\n",
    "        return self.x + self.y + z\n",
    "    def timesXY(self):\n",
    "        return self.x * self.y\n",
    "    def timesXYZ(self, z):\n",
    "        return self.x* self.y *z\n"
   ]
  },
  {
   "cell_type": "code",
   "execution_count": null,
   "id": "raising-wright",
   "metadata": {},
   "outputs": [],
   "source": [
    "ex4= example4(3, 4)\n",
    "ex4.addXY()"
   ]
  },
  {
   "cell_type": "code",
   "execution_count": null,
   "id": "thick-blend",
   "metadata": {},
   "outputs": [],
   "source": [
    "ex4.addXYZ(10)"
   ]
  },
  {
   "cell_type": "code",
   "execution_count": null,
   "id": "charged-brake",
   "metadata": {},
   "outputs": [],
   "source": [
    "ex4.timesXY()"
   ]
  },
  {
   "cell_type": "code",
   "execution_count": null,
   "id": "technical-radius",
   "metadata": {},
   "outputs": [],
   "source": [
    "ex4.timesXYZ(10)"
   ]
  },
  {
   "cell_type": "markdown",
   "id": "expanded-manchester",
   "metadata": {},
   "source": [
    "### Experiment and play around with this and try out your own ideas\n",
    "# There is lots more to discover with classes this is only the beginning!!!!!"
   ]
  }
 ],
 "metadata": {
  "kernelspec": {
   "display_name": "Python 3 (ipykernel)",
   "language": "python",
   "name": "python3"
  },
  "language_info": {
   "codemirror_mode": {
    "name": "ipython",
    "version": 3
   },
   "file_extension": ".py",
   "mimetype": "text/x-python",
   "name": "python",
   "nbconvert_exporter": "python",
   "pygments_lexer": "ipython3",
   "version": "3.10.11"
  }
 },
 "nbformat": 4,
 "nbformat_minor": 5
}
