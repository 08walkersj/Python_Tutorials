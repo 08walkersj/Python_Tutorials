{
 "cells": [
  {
   "cell_type": "code",
   "execution_count": null,
   "metadata": {
    "slideshow": {
     "slide_type": "skip"
    }
   },
   "outputs": [],
   "source": [
    "%matplotlib notebook\n",
    "import matplotlib.pyplot as plt\n",
    "import numpy as np"
   ]
  },
  {
   "cell_type": "markdown",
   "metadata": {
    "slideshow": {
     "slide_type": "slide"
    }
   },
   "source": [
    "## The following is how to make slides with interactive cells in jupyter notebook:\n",
    "<font size=\"4\"> \n",
    "* First you need to install rise\n",
    "* This can be done using either conda install -c conda-forge rise if you're using anaconda\n",
    "* or using pip install RISE if you're not\n",
    "* Next, whether using RISE or the built in functionality of slides in jupyter notebook you'l need to change view settings.\n",
    "* click on view on the toolbar\n",
    "* select cell toolbar\n",
    "* then select Slideshow\n",
    "* you should now see in the top left corner of each cell slide type followed by a drop down menu.\n",
    "* there are a range of options but for a basic slideshow just either use slide or skip or notes depending on whether you want the slide to be visable, hidden or used to help you present the slide.\n",
    "* finally once you've decided what you want for each slide you can now click on the symbol which looks like a bar chart among your notebook options: ,</font>"
   ]
  },
  {
   "cell_type": "markdown",
   "metadata": {
    "slideshow": {
     "slide_type": "slide"
    }
   },
   "source": [
    "<img src=\"Slideshow_Screenshot.png\" title=\"Slideshow Screenshot\" />"
   ]
  },
  {
   "cell_type": "markdown",
   "metadata": {
    "slideshow": {
     "slide_type": "slide"
    }
   },
   "source": [
    "# First Plot"
   ]
  },
  {
   "cell_type": "code",
   "execution_count": null,
   "metadata": {
    "slideshow": {
     "slide_type": "slide"
    }
   },
   "outputs": [],
   "source": [
    "rad2deg=180/np.pi\n",
    "fig1 = plt.figure(num='Example')\n",
    "theta= np.linspace(-np.pi, np.pi, 100)\n",
    "plt.plot(theta*rad2deg, np.sin(theta))"
   ]
  },
  {
   "cell_type": "markdown",
   "metadata": {
    "slideshow": {
     "slide_type": "slide"
    }
   },
   "source": [
    "# Second Plot"
   ]
  },
  {
   "cell_type": "code",
   "execution_count": null,
   "metadata": {
    "slideshow": {
     "slide_type": "slide"
    }
   },
   "outputs": [],
   "source": [
    "rad2deg=180/np.pi\n",
    "fig2 = plt.figure(num='Example 2')\n",
    "theta= np.linspace(-np.pi, np.pi, 100)\n",
    "plt.plot(theta*rad2deg, np.cos(theta))"
   ]
  },
  {
   "cell_type": "code",
   "execution_count": null,
   "metadata": {
    "slideshow": {
     "slide_type": "slide"
    }
   },
   "outputs": [],
   "source": [
    "x=3"
   ]
  }
 ],
 "metadata": {
  "celltoolbar": "Slideshow",
  "kernelspec": {
   "display_name": "Python 3 (ipykernel)",
   "language": "python",
   "name": "python3"
  },
  "language_info": {
   "codemirror_mode": {
    "name": "ipython",
    "version": 3
   },
   "file_extension": ".py",
   "mimetype": "text/x-python",
   "name": "python",
   "nbconvert_exporter": "python",
   "pygments_lexer": "ipython3",
   "version": "3.10.11"
  }
 },
 "nbformat": 4,
 "nbformat_minor": 4
}
