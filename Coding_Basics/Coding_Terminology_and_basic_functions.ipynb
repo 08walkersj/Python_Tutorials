{
 "cells": [
  {
   "cell_type": "markdown",
   "id": "2966acc8",
   "metadata": {},
   "source": [
    "# Introduction to Python and Coding Terminology\n",
    "### What you will learn in this tutorial:\n",
    "1. Coding terminology basics\n",
    "    - Variables\n",
    "    - Comments\n",
    "    - Strings\n",
    "    - Integers\n",
    "    - Floats\n",
    "    - Lists/Arrays\n",
    "    - Tuples\n",
    "    - Errors\n",
    "2. Variables\n",
    "    - Assigning variables\n",
    "    - Manipulating variables\n",
    "3. Maths functions\n",
    "    - Addition\n",
    "    - Substraction\n",
    "    - etc"
   ]
  },
  {
   "cell_type": "markdown",
   "id": "513daeb6",
   "metadata": {},
   "source": [
    "## First Step Maths and running code\n",
    "In the next \"cell\" you can see I have written a simple equation. In jupyter notebook we tell it to perform this equation by pressing control enter. Python then reads it and tells you what the answer is."
   ]
  },
  {
   "cell_type": "code",
   "execution_count": null,
   "id": "cde2c26d",
   "metadata": {},
   "outputs": [],
   "source": [
    "1+1"
   ]
  },
  {
   "cell_type": "markdown",
   "id": "86302c53",
   "metadata": {},
   "source": [
    "You will now see that you have the answer 2 as the Out (Output) of that peice of code\n",
    "## Maths operations and their syntax\n",
    "- +(addition)\n",
    "- -(substraction)\n",
    "- \\*(multiplication) e.g. In[1] 5*3 Out[1] 15\n",
    "- /(division) e.g. In[1] 1/2 Out[1] 0.5\n",
    "- \\*\\*(powers) e.g. In[1] 3\\*\\*2 (3 squared) Out[1] 9\n",
    "\n",
    "Now use the cell below and test it out."
   ]
  },
  {
   "cell_type": "code",
   "execution_count": null,
   "id": "5129eb6a",
   "metadata": {},
   "outputs": [],
   "source": []
  },
  {
   "cell_type": "markdown",
   "id": "d2ca2be8",
   "metadata": {},
   "source": [
    "Just like in Maths, python performs maths operations in a specific order:\n",
    "BIDMAS\n",
    "1. Brackets\n",
    "2. Indices (this means powers like squaring a number)\n",
    "3. Multiplication\n",
    "4. Addition\n",
    "5. Subtraction\n",
    "\n",
    "Especially in code try not to write too much maths in a line, it might be faster for the computer but it makes it hard to read, there's nothing wrong in doing it over multiple lines (just like reading, python will do each line in order from top to bottom. Also their's nothing wrong in using unneccasary brackets to make it clearer the order things are happening.\n",
    "Below I give examples:"
   ]
  },
  {
   "cell_type": "code",
   "execution_count": null,
   "id": "eee845b5",
   "metadata": {},
   "outputs": [],
   "source": [
    "5*3/2"
   ]
  },
  {
   "cell_type": "code",
   "execution_count": null,
   "id": "da2feb5d",
   "metadata": {},
   "outputs": [],
   "source": [
    "5*(3/2)"
   ]
  },
  {
   "cell_type": "markdown",
   "id": "d4847022",
   "metadata": {},
   "source": [
    "Both these cells do the same thing but the second is much clearer that we first divide 3 by 2 and get 1.5. And then times 5 by 1.5 to get 7.5\n",
    "\n",
    "\n",
    "Writing multiple lines will make python perform the lines in order:"
   ]
  },
  {
   "cell_type": "code",
   "execution_count": null,
   "id": "71281699",
   "metadata": {},
   "outputs": [],
   "source": [
    "10+1\n",
    "8*4"
   ]
  },
  {
   "cell_type": "markdown",
   "id": "6faf9065",
   "metadata": {},
   "source": [
    "You notice that the output when using cells shows only the result from the last line. But the lines are performed from top to bottom. Here we will use the print command in order to show the output from the equations."
   ]
  },
  {
   "cell_type": "code",
   "execution_count": null,
   "id": "37409925",
   "metadata": {},
   "outputs": [],
   "source": [
    "print(10+1)\n",
    "print(8*4)"
   ]
  },
  {
   "cell_type": "markdown",
   "id": "8754b67e",
   "metadata": {},
   "source": [
    "When running lots of lines of code the print command is very useful as it will always show the result of the enclosed code as soon as its complete, so you know where it is in the code, how quickly its running or can be used to know the moment something has gone wrong, allowing you to know if you should stop the code."
   ]
  },
  {
   "cell_type": "code",
   "execution_count": null,
   "id": "3837236c",
   "metadata": {},
   "outputs": [],
   "source": [
    "print(1/0)\n",
    "print(8*4)"
   ]
  },
  {
   "cell_type": "markdown",
   "id": "bf120381",
   "metadata": {},
   "source": [
    "When python cannot do what you asked it to, it gives you an <strong>error</strong> and the code stops at that line."
   ]
  },
  {
   "cell_type": "markdown",
   "id": "eb2e128a",
   "metadata": {},
   "source": [
    "## Welcome to the world of Errors, a world of fustration\n",
    "\n",
    "So, 1 divided by 0 is infinite, it cannot be done. Its such a common <strong>error</strong> that python has create a specific <strong>error</strong>. Python is also really nice it tells you which line the error came from. You can see there is an arrow pointing towards the line that caused the problem and its line number to make it easier to find. You will also notice there is no output from this cell and nothing printed. This is because once python encounters an error it stops. It has tried to run line 1 but could not and therefore has not attempted line 2.\n",
    "\n",
    "\n",
    "The are a vast number of different <strong>errors</strong> with different names, they are designed to help you find the problem and fix it. When writing code if you were there is a specific thing that will cause an <strong>error</strong> then create your own errors with clear explainations. There's nothing worse than cryptic errors when debugging."
   ]
  },
  {
   "cell_type": "code",
   "execution_count": null,
   "id": "b9ce16d7",
   "metadata": {},
   "outputs": [],
   "source": [
    "ValueError('something went wrong')"
   ]
  },
  {
   "cell_type": "code",
   "execution_count": null,
   "id": "dcedbe64",
   "metadata": {},
   "outputs": [],
   "source": [
    "IndentationError"
   ]
  },
  {
   "cell_type": "code",
   "execution_count": null,
   "id": "2526bb67",
   "metadata": {},
   "outputs": [],
   "source": [
    "ZeroDivisionError(\"you can't divide by zero you idiot\")"
   ]
  },
  {
   "cell_type": "code",
   "execution_count": null,
   "id": "ab052f8c",
   "metadata": {},
   "outputs": [],
   "source": [
    "TypeError(\"You're not her type. Move on.\")"
   ]
  },
  {
   "cell_type": "markdown",
   "id": "651acf8a",
   "metadata": {},
   "source": [
    "There are many more <strong>errors</strong> and you can even make your own but for now we will leave it here and return to more advance things you can do with <strong>errors</strong> in a later tutorial"
   ]
  },
  {
   "cell_type": "markdown",
   "id": "df830d85",
   "metadata": {},
   "source": [
    "## Welcome to Algebra... Please don't cry and Please don't run away\n",
    "We'll start with something simple I promise"
   ]
  },
  {
   "cell_type": "code",
   "execution_count": null,
   "id": "fdbc8acc",
   "metadata": {},
   "outputs": [],
   "source": [
    "speed= 100\n",
    "distance= 10"
   ]
  },
  {
   "cell_type": "markdown",
   "id": "2faae21a",
   "metadata": {},
   "source": [
    "How many hours does it take to travel 10 miles if you travel 100 miles an hour (or if you want to be metric, how many seconds does it take to travel 10 meters if you're travelling at 100 meters per second)\n",
    "\n",
    "So we will use this equation we remember from maths:\n",
    "\n",
    "1. speed= distance divided by time\n",
    "\n",
    "This means that:\n",
    "\n",
    "2. time= distance divided by speed"
   ]
  },
  {
   "cell_type": "code",
   "execution_count": null,
   "id": "ad90796d",
   "metadata": {},
   "outputs": [],
   "source": [
    "time= distance/speed\n",
    "print(time)"
   ]
  },
  {
   "cell_type": "markdown",
   "id": "ed52f828",
   "metadata": {},
   "source": [
    "So we have assigned the value of 100 to the <strong>variable</strong> called speed. And assigned the value 10 to the <strong>variable</strong> called distance.\n",
    "This a is nice set up because the code is easy to read and understand. Its clear what the values are and what we find. One extra step we can take to make it even easier for the user to understand is to use <strong>comments</strong>."
   ]
  },
  {
   "cell_type": "code",
   "execution_count": null,
   "id": "ead125ad",
   "metadata": {},
   "outputs": [],
   "source": [
    "speed= 100 #Speed of the car in meter per second\n",
    "distance= 10 #Distance the car travelled in meters\n",
    "time= distance/speed #We calculate the time taken to travel the chosen distance at the chosen speed, in seconds\n",
    "print(time) #We print the calculated time"
   ]
  },
  {
   "cell_type": "markdown",
   "id": "4ec45a27",
   "metadata": {},
   "source": [
    "Here you will see I have written some text after the # symbol at each line. When python sees this symbol it doesn't read anything after it on that line. This means we can use to explain in clear text what the <strong>variable</strong> is, what its units are and what we're trying to accomplish with that particular line of code.\n",
    "\n",
    "In the next cell I would like you to take a well known maths equation and turn it into <strong>variables</strong> and code. Here are some examples, you can go and google them if you like: \n",
    "1. Area of a rectangle\n",
    "2. Volume of a cuboid\n",
    "3. Area of a Circle\n",
    "\n",
    "Q1. And here is a little challenge that I like to use to explain the usefulness of algebra and simultaneous equations:\n",
    "To make pastry we use twice as much flour as we do butter:\n",
    "\n",
    "2\\*butter = flour\n",
    "\n",
    "and we would like to make 350 grams of pastry:\n",
    "\n",
    "butter+flour=350\n",
    "\n",
    "How much flour and butter do we need?"
   ]
  },
  {
   "cell_type": "code",
   "execution_count": null,
   "id": "d7492860",
   "metadata": {},
   "outputs": [],
   "source": []
  },
  {
   "cell_type": "markdown",
   "id": "b598949f",
   "metadata": {},
   "source": [
    "Run the cell below to get the answer"
   ]
  },
  {
   "cell_type": "code",
   "execution_count": null,
   "id": "e6bbc5ef",
   "metadata": {},
   "outputs": [],
   "source": [
    "from Tutorial_Answers import answer\n",
    "print(answer('Q1'))"
   ]
  },
  {
   "cell_type": "markdown",
   "id": "38c196c5",
   "metadata": {},
   "source": [
    "## Check your answer\n",
    "Here is a nice tool you can use to check your answer."
   ]
  },
  {
   "cell_type": "code",
   "execution_count": null,
   "id": "bdeb7f9c",
   "metadata": {},
   "outputs": [],
   "source": [
    "print(butter+flour==350) #Check your answer"
   ]
  },
  {
   "cell_type": "markdown",
   "id": "971c3b8f",
   "metadata": {},
   "source": [
    "When you use == it is different to just using =. Using == asks python if what is on the left side is the same as what is on the right side. It will then return True if they match and False if they do not."
   ]
  },
  {
   "cell_type": "code",
   "execution_count": null,
   "id": "87cb25f1",
   "metadata": {},
   "outputs": [],
   "source": [
    "print(10+1==11)\n",
    "print(10*3==8)"
   ]
  },
  {
   "cell_type": "markdown",
   "id": "52217f63",
   "metadata": {},
   "source": [
    "## Coding Terminology: What are things called?\n",
    "I will try and cover what the basic things are called that you will need to get started\n",
    "### Integers\n",
    "We'll start with the easiest one: integer.\n",
    "The same as it is in Maths an integer is a whole number i.e. it has no decimals\n",
    "e.g. 10 is an integer, 10.2 is not and 10/3 is not.\n",
    "\n",
    "We'll use the type function so you can see what is an integer and what is not"
   ]
  },
  {
   "cell_type": "code",
   "execution_count": null,
   "id": "d4b2d82a",
   "metadata": {},
   "outputs": [],
   "source": [
    "print(type(1))"
   ]
  },
  {
   "cell_type": "markdown",
   "id": "791a082a",
   "metadata": {},
   "source": [
    "You see that we have asked python to print what type or \"<strong>class</strong>\" 1 is.\n",
    "You can see that its <strong>class</strong> is 'int' which is short for <strong>integer</strong>.\n",
    "### Floats\n",
    "Numbers that have a decimal after are called <strong>floats</strong>:"
   ]
  },
  {
   "cell_type": "code",
   "execution_count": null,
   "id": "80a3823f",
   "metadata": {},
   "outputs": [],
   "source": [
    "print(type(1.5))\n",
    "print(type(1.))\n",
    "x= 3.8\n",
    "print(type(x))"
   ]
  },
  {
   "cell_type": "markdown",
   "id": "8b522a7b",
   "metadata": {},
   "source": [
    "You will also notice that even though there is no number after the decimal point just by putting it there makes the number a float rather than an integer\n",
    "### Strings\n",
    "Basically words and letters, we signify that it should be understood that way by using \" \" or ''.\n",
    "I'll show you some examples"
   ]
  },
  {
   "cell_type": "code",
   "execution_count": null,
   "id": "5bf4a7d8",
   "metadata": {},
   "outputs": [],
   "source": [
    "print('I am string and I can prove it:')\n",
    "print(type('10')) # You'll notice that it also works with numbers.\n",
    "print(\"Told ya I'm a string\")"
   ]
  },
  {
   "cell_type": "markdown",
   "id": "01c9726a",
   "metadata": {},
   "source": [
    "### Lists\n",
    "<strong>Lists</strong> are exactly what they sound like it a <strong>list</strong> of whatever you decide. We start a <strong>list</strong> \\[ and end with \\] and we seperate each item with ,. Here's some examples:"
   ]
  },
  {
   "cell_type": "code",
   "execution_count": null,
   "id": "8457b7a4",
   "metadata": {},
   "outputs": [],
   "source": [
    "L= [1, 5.1, \"I'm number 2\"] #We'll call the list L\n",
    "print(L)\n",
    "print(type(L))"
   ]
  },
  {
   "cell_type": "markdown",
   "id": "12444cc3",
   "metadata": {},
   "source": [
    "<strong>Lists</strong> are really useful because we can store lots of different information.\n",
    "We can access each item in the <strong>list</strong> by using its position in the <strong>list</strong>. We use \\[i\\] after a <strong>list</strong> to access an item, where i is an <strong>integer</strong> that refers to the position of the item we want. But one thing you have to remember, which can be different in different coding languages, is python starts counting at 0. I'll show you what I mean:"
   ]
  },
  {
   "cell_type": "code",
   "execution_count": null,
   "id": "ef5c74c7",
   "metadata": {},
   "outputs": [],
   "source": [
    "print(L[0]) #L is the list we made earlier and 0 refers to the first item in the list"
   ]
  },
  {
   "cell_type": "code",
   "execution_count": null,
   "id": "0f6e18f1",
   "metadata": {},
   "outputs": [],
   "source": [
    "print(L[2]) #Here 2 refers to the 3rd item in the list"
   ]
  },
  {
   "cell_type": "markdown",
   "id": "3dad84c3",
   "metadata": {},
   "source": [
    "We can stick literally anything in a <strong>list</strong>, we can even put <strong>lists</strong> in a <strong>list</strong>"
   ]
  },
  {
   "cell_type": "code",
   "execution_count": null,
   "id": "9fda8343",
   "metadata": {},
   "outputs": [],
   "source": [
    "List= [[1., 4, '3'], [42], '11', 'spam']"
   ]
  },
  {
   "cell_type": "markdown",
   "id": "366537dd",
   "metadata": {},
   "source": [
    "Experiment and try and access each item in the <strong>list</strong> individually. You can also access each letter or number in a <strong>string</strong> the same way was with the <strong>list</strong>.\n",
    "Q2. Try and get 'spam' from the <strong>list</strong> and access each letter"
   ]
  },
  {
   "cell_type": "code",
   "execution_count": null,
   "id": "5f7da01f",
   "metadata": {},
   "outputs": [],
   "source": []
  },
  {
   "cell_type": "markdown",
   "id": "bbe43010",
   "metadata": {},
   "source": [
    "Run the next cell to see if you've got the right answer"
   ]
  },
  {
   "cell_type": "code",
   "execution_count": null,
   "id": "a7cd99de",
   "metadata": {},
   "outputs": [],
   "source": [
    "print(answer('Q2'))"
   ]
  },
  {
   "cell_type": "markdown",
   "id": "3845f7c5",
   "metadata": {},
   "source": [
    "We can also access multiple items in a list at once like this:"
   ]
  },
  {
   "cell_type": "code",
   "execution_count": null,
   "id": "9fe0c57c",
   "metadata": {},
   "outputs": [],
   "source": [
    "print(List[1:4]) # This returns the items in the last starting from 1 (the 2nd item) up to 4\n",
    "print('spam and eggs'[:4])"
   ]
  },
  {
   "cell_type": "markdown",
   "id": "ceec17ca",
   "metadata": {},
   "source": [
    "#### Changing parts of a list\n",
    "This works the same as assigning values to variables"
   ]
  },
  {
   "cell_type": "code",
   "execution_count": null,
   "id": "03dd2e8e",
   "metadata": {},
   "outputs": [],
   "source": [
    "print(List)\n",
    "List[-1]='Tim'\n",
    "print(List)"
   ]
  },
  {
   "cell_type": "markdown",
   "id": "02cac5ea",
   "metadata": {},
   "source": [
    "You can see that we've changed the last item in the list from spam to Tim\n",
    "We can also add new items to a list and remove items from a list"
   ]
  },
  {
   "cell_type": "code",
   "execution_count": null,
   "id": "bdea1dba",
   "metadata": {},
   "outputs": [],
   "source": [
    "print(List)\n",
    "List.append('Vimes')\n",
    "print(List)\n",
    "List.remove(List[2])\n",
    "print(List)"
   ]
  },
  {
   "cell_type": "markdown",
   "id": "f9ede274",
   "metadata": {},
   "source": [
    "### Tuples\n",
    "These are very very similar to lists, you use () to create lists:"
   ]
  },
  {
   "cell_type": "code",
   "execution_count": null,
   "id": "9a24f5ff",
   "metadata": {},
   "outputs": [],
   "source": [
    "Tup= (42, [1, 8], 'Rincewind')\n",
    "print(type(Tup))\n",
    "print(Tup)"
   ]
  },
  {
   "cell_type": "markdown",
   "id": "66cae55e",
   "metadata": {},
   "source": [
    "The big difference is you can't change a tuple, items can't be removed, added or changed"
   ]
  },
  {
   "cell_type": "code",
   "execution_count": null,
   "id": "8abf2119",
   "metadata": {},
   "outputs": [],
   "source": [
    "Tup[0]='life+universe+everything'"
   ]
  },
  {
   "cell_type": "markdown",
   "id": "ca4945c4",
   "metadata": {},
   "source": [
    "As you can see when you try to make a change there is an error that repeats what I said."
   ]
  }
 ],
 "metadata": {
  "kernelspec": {
   "display_name": "Python 3 (ipykernel)",
   "language": "python",
   "name": "python3"
  },
  "language_info": {
   "codemirror_mode": {
    "name": "ipython",
    "version": 3
   },
   "file_extension": ".py",
   "mimetype": "text/x-python",
   "name": "python",
   "nbconvert_exporter": "python",
   "pygments_lexer": "ipython3",
   "version": "3.10.11"
  }
 },
 "nbformat": 4,
 "nbformat_minor": 5
}
