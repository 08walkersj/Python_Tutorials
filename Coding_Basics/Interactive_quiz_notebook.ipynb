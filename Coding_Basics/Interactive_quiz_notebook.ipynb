{
 "cells": [
  {
   "cell_type": "markdown",
   "id": "67276faa",
   "metadata": {},
   "source": [
    "# Interactive Question and Answer Session\n",
    "\n",
    "I have designed an interactive question and answer session. To show the sort things you can make in python I have made it completely in python.\n",
    "\n",
    "Match the left column with what it is in the right column. There can be multiple or none matching some of the options.\n",
    "\n",
    "#### To start this notebook go to Kernel at the top and click \"restart and run all\" and also do this if you find it stops working"
   ]
  },
  {
   "cell_type": "code",
   "execution_count": null,
   "id": "01c02b15",
   "metadata": {},
   "outputs": [],
   "source": [
    "%matplotlib notebook \n",
    "# This is just something that enables you interact with the plot"
   ]
  },
  {
   "cell_type": "code",
   "execution_count": null,
   "id": "4e3c6911",
   "metadata": {},
   "outputs": [],
   "source": [
    "import Interactive_QA_1 #this is importing and runnning the code I wrote"
   ]
  },
  {
   "cell_type": "markdown",
   "id": "c63b972b",
   "metadata": {},
   "source": [
    "version information if not working:\n",
    "- jupyter:\n",
    "jupyter                   1.0.0             pyhd8ed1ab_10    conda-forge\n",
    "jupyter_client            7.4.9              pyhd8ed1ab_0    conda-forge\n",
    "jupyter_console           6.6.3              pyhd8ed1ab_0    conda-forge\n",
    "jupyter_core              5.3.0           py310hff52083_0    conda-forge\n",
    "jupyter_events            0.8.0              pyhd8ed1ab_0    conda-forge\n",
    "jupyter_server            2.8.0              pyhd8ed1ab_0    conda-forge\n",
    "jupyter_server_terminals  0.4.4              pyhd8ed1ab_1    conda-forge\n",
    "jupyterlab_pygments       0.2.2              pyhd8ed1ab_0    conda-forge\n",
    "jupyterlab_widgets        3.0.7              pyhd8ed1ab_0    conda-forge\n",
    "\n",
    "- matplotlib\n",
    "matplotlib-base           3.7.1           py310he60537e_0    conda-forge\n",
    "matplotlib-inline         0.1.6              pyhd8ed1ab_0    conda-forge\n",
    "\n",
    "if still not working recommend running the Interactive_QA_1.py file instead"
   ]
  }
 ],
 "metadata": {
  "kernelspec": {
   "display_name": "Python 3 (ipykernel)",
   "language": "python",
   "name": "python3"
  },
  "language_info": {
   "codemirror_mode": {
    "name": "ipython",
    "version": 3
   },
   "file_extension": ".py",
   "mimetype": "text/x-python",
   "name": "python",
   "nbconvert_exporter": "python",
   "pygments_lexer": "ipython3",
   "version": "3.10.11"
  }
 },
 "nbformat": 4,
 "nbformat_minor": 5
}
