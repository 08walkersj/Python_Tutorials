{
 "cells": [
  {
   "cell_type": "markdown",
   "id": "occasional-overall",
   "metadata": {},
   "source": [
    "# Things you can do with assigning variables that you might not have known"
   ]
  },
  {
   "cell_type": "markdown",
   "id": "fabulous-gather",
   "metadata": {},
   "source": [
    "### You can assign x, y and z from a tuple"
   ]
  },
  {
   "cell_type": "code",
   "execution_count": 1,
   "id": "convinced-extent",
   "metadata": {},
   "outputs": [
    {
     "name": "stdout",
     "output_type": "stream",
     "text": [
      "x 1\n",
      "y 2\n",
      "z 3\n"
     ]
    }
   ],
   "source": [
    "(x, y, z)= (1, 2,3)\n",
    "print('x', x)\n",
    "print('y', y)\n",
    "print('z', z)"
   ]
  },
  {
   "cell_type": "markdown",
   "id": "religious-forwarding",
   "metadata": {},
   "source": [
    "### The same can be done with a list"
   ]
  },
  {
   "cell_type": "code",
   "execution_count": 2,
   "id": "original-dispatch",
   "metadata": {},
   "outputs": [
    {
     "name": "stdout",
     "output_type": "stream",
     "text": [
      "x 1\n",
      "y 2\n",
      "z 3\n"
     ]
    }
   ],
   "source": [
    "[x, y, z]= (1, 2, 3)\n",
    "print('x', x)\n",
    "print('y', y)\n",
    "print('z', z)"
   ]
  },
  {
   "cell_type": "markdown",
   "id": "neither-firewall",
   "metadata": {},
   "source": [
    "### This can be taken further, you could assign attributes and utilise knowledge on how the list or tuple is constructed"
   ]
  },
  {
   "cell_type": "code",
   "execution_count": 3,
   "id": "olympic-broadcasting",
   "metadata": {},
   "outputs": [
    {
     "name": "stdout",
     "output_type": "stream",
     "text": [
      "x 1\n",
      "y 2\n",
      "z 3\n",
      "a 10\n",
      "b 20\n",
      "c 30\n"
     ]
    }
   ],
   "source": [
    "((x, y, z), (a, b, c))= ((1,2,3), (10, 20 ,30))\n",
    "print('x', x)\n",
    "print('y', y)\n",
    "print('z', z)\n",
    "print('a', a)\n",
    "print('b', b)\n",
    "print('c', c)"
   ]
  },
  {
   "cell_type": "markdown",
   "id": "understanding-north",
   "metadata": {},
   "source": [
    "### Can also be done with lists"
   ]
  },
  {
   "cell_type": "code",
   "execution_count": 4,
   "id": "complete-brunswick",
   "metadata": {},
   "outputs": [
    {
     "name": "stdout",
     "output_type": "stream",
     "text": [
      "x 1\n",
      "y 2\n",
      "z 3\n",
      "a 10\n",
      "b 20\n",
      "c 30\n"
     ]
    }
   ],
   "source": [
    "[[x, y, z], [a, b, c]]= [[1,2,3], [10, 20 ,30]]\n",
    "print('x', x)\n",
    "print('y', y)\n",
    "print('z', z)\n",
    "print('a', a)\n",
    "print('b', b)\n",
    "print('c', c)"
   ]
  },
  {
   "cell_type": "markdown",
   "id": "august-iceland",
   "metadata": {},
   "source": [
    "### This can also used with uneven size lists and tuples like this"
   ]
  },
  {
   "cell_type": "code",
   "execution_count": 5,
   "id": "statewide-emperor",
   "metadata": {},
   "outputs": [
    {
     "name": "stdout",
     "output_type": "stream",
     "text": [
      "x 1\n",
      "y 1\n",
      "z 2\n",
      "a 10\n"
     ]
    }
   ],
   "source": [
    "((x), (y, z, a))= ((1), (1, 2, 10))\n",
    "print('x', x)\n",
    "print('y', y)\n",
    "print('z', z)\n",
    "print('a', a)"
   ]
  },
  {
   "cell_type": "markdown",
   "id": "afraid-dining",
   "metadata": {},
   "source": [
    "### you can also mix and match with tuples and lists"
   ]
  },
  {
   "cell_type": "code",
   "execution_count": 6,
   "id": "auburn-december",
   "metadata": {},
   "outputs": [
    {
     "name": "stdout",
     "output_type": "stream",
     "text": [
      "x 1\n",
      "y 2\n",
      "z 3\n",
      "a 10\n",
      "b 20\n",
      "c 30\n"
     ]
    }
   ],
   "source": [
    "[[x, y, z], [a, b, c]]= ((1,2,3), (10, 20 ,30))\n",
    "print('x', x)\n",
    "print('y', y)\n",
    "print('z', z)\n",
    "print('a', a)\n",
    "print('b', b)\n",
    "print('c', c)"
   ]
  },
  {
   "cell_type": "markdown",
   "id": "capital-parish",
   "metadata": {},
   "source": [
    "### also works with assigning a list to x, y and z from a list of lists, tuple of tuples, or list of tuples (or vice versa)"
   ]
  },
  {
   "cell_type": "code",
   "execution_count": 7,
   "id": "equivalent-object",
   "metadata": {},
   "outputs": [
    {
     "name": "stdout",
     "output_type": "stream",
     "text": [
      "x:  [1, 2, 3]\n",
      "y:  [10, 20, 30]\n",
      "z:  [100, 200, 300]\n"
     ]
    }
   ],
   "source": [
    "x, y, z= [[1,2,3], [10, 20, 30], [100, 200, 300]]\n",
    "print('x: ', x)\n",
    "print('y: ', y)\n",
    "print('z: ', z)"
   ]
  },
  {
   "cell_type": "markdown",
   "id": "downtown-nitrogen",
   "metadata": {},
   "source": [
    "### There are other examples outside of core python, one example is numpy\n",
    "#### Here I have created an array that contains 3 arrays with a length of 10\n",
    "#### I then assign x, y, z one of those 3 arrays"
   ]
  },
  {
   "cell_type": "code",
   "execution_count": 8,
   "id": "found-reconstruction",
   "metadata": {},
   "outputs": [
    {
     "name": "stdout",
     "output_type": "stream",
     "text": [
      "Data:  [[0.52532792 0.61812068 0.77896858 0.07417141 0.03639371 0.4974649\n",
      "  0.43350928 0.35874908 0.41814526 0.49004238]\n",
      " [0.95896108 0.48299406 0.93593897 0.48691702 0.33278795 0.54335897\n",
      "  0.90094681 0.2828084  0.77165679 0.72075961]\n",
      " [0.5314432  0.55985811 0.87551354 0.04510832 0.59392287 0.59573858\n",
      "  0.51337894 0.95663298 0.04887012 0.5218412 ]]\n",
      "\n",
      "x:  [0.52532792 0.61812068 0.77896858 0.07417141 0.03639371 0.4974649\n",
      " 0.43350928 0.35874908 0.41814526 0.49004238]\n",
      "y:  [0.95896108 0.48299406 0.93593897 0.48691702 0.33278795 0.54335897\n",
      " 0.90094681 0.2828084  0.77165679 0.72075961]\n",
      "z:  [0.5314432  0.55985811 0.87551354 0.04510832 0.59392287 0.59573858\n",
      " 0.51337894 0.95663298 0.04887012 0.5218412 ]\n"
     ]
    }
   ],
   "source": [
    "import numpy as np\n",
    "Data=np.random.uniform(size=(3,10), low= 0, high=1)\n",
    "print('Data: ', Data)\n",
    "x, y, z= Data\n",
    "print('\\nx: ', x)\n",
    "print('y: ', y)\n",
    "print('z: ', z)"
   ]
  },
  {
   "cell_type": "code",
   "execution_count": null,
   "id": "attached-fleet",
   "metadata": {},
   "outputs": [],
   "source": []
  }
 ],
 "metadata": {
  "kernelspec": {
   "display_name": "Python 3",
   "language": "python",
   "name": "python3"
  },
  "language_info": {
   "codemirror_mode": {
    "name": "ipython",
    "version": 3
   },
   "file_extension": ".py",
   "mimetype": "text/x-python",
   "name": "python",
   "nbconvert_exporter": "python",
   "pygments_lexer": "ipython3",
   "version": "3.8.5"
  }
 },
 "nbformat": 4,
 "nbformat_minor": 5
}
