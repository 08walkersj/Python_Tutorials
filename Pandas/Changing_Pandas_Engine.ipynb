{
 "cells": [
  {
   "cell_type": "markdown",
   "metadata": {},
   "source": [
    "# Changing Pandas Engine\n",
    "## Imports"
   ]
  },
  {
   "cell_type": "code",
   "execution_count": 20,
   "metadata": {},
   "outputs": [],
   "source": [
    "import pandas as pd\n",
    "try:\n",
    "    from progressbar import progressbar\n",
    "except ImportError:\n",
    "    def progressbar(*args, **kwargs):\n",
    "        return args[0]\n",
    "import numpy as np"
   ]
  },
  {
   "cell_type": "markdown",
   "metadata": {},
   "source": [
    "## Functions"
   ]
  },
  {
   "cell_type": "code",
   "execution_count": 21,
   "metadata": {},
   "outputs": [],
   "source": [
    "\n",
    "def sin(theta):\n",
    "    \"\"\"\n",
    "    Computes the square of the mean sine of the angles.\n",
    "    \"\"\"\n",
    "    return np.nanmean(np.sin(theta))**2\n",
    "\n",
    "def cos(theta):\n",
    "    \"\"\"\n",
    "    Computes the square of the mean cosine of the angles.\n",
    "    \"\"\"\n",
    "    return np.nanmean(np.cos(theta))**2\n",
    "\n",
    "def Variance(X):\n",
    "    \"\"\"\n",
    "    Calculates the variance of finite values in X.\n",
    "    \"\"\"\n",
    "    X = X[np.isfinite(X)]\n",
    "    if len(X) <= 1:\n",
    "        return np.nan\n",
    "    else:\n",
    "        return np.nansum((X - np.nanmean(X))**2) / (len(X) - 1)\n",
    "\n",
    "def Count(X):\n",
    "    \"\"\"\n",
    "    Counts the number of finite values in X.\n",
    "    \"\"\"\n",
    "    return sum(np.isfinite(X))"
   ]
  },
  {
   "cell_type": "markdown",
   "metadata": {},
   "source": [
    "## Load Data"
   ]
  },
  {
   "cell_type": "code",
   "execution_count": 22,
   "metadata": {},
   "outputs": [],
   "source": [
    "omni= pd.read_hdf('/home/simon/gits/Solar_Wind_Tools/Notebooks/omni_1min.h5', key='omni')"
   ]
  },
  {
   "cell_type": "markdown",
   "metadata": {},
   "source": [
    "## Run Standard"
   ]
  },
  {
   "cell_type": "code",
   "execution_count": 23,
   "metadata": {},
   "outputs": [
    {
     "name": "stderr",
     "output_type": "stream",
     "text": [
      "  0% (0 of 4) |                          | Elapsed Time: 0:00:00 ETA:  --:--:--\n"
     ]
    },
    {
     "ename": "KeyboardInterrupt",
     "evalue": "",
     "output_type": "error",
     "traceback": [
      "\u001b[0;31m---------------------------------------------------------------------------\u001b[0m",
      "\u001b[0;31mKeyboardInterrupt\u001b[0m                         Traceback (most recent call last)",
      "\u001b[1;32mUntitled-1.ipynb Cell 8\u001b[0m line \u001b[0;36m5\n\u001b[1;32m      <a href='vscode-notebook-cell:Untitled-1.ipynb?jupyter-notebook#W3sdW50aXRsZWQ%3D?line=2'>3</a>\u001b[0m \u001b[39m# Calculate variance, mean, and SEM for each column in a rolling window\u001b[39;00m\n\u001b[1;32m      <a href='vscode-notebook-cell:Untitled-1.ipynb?jupyter-notebook#W3sdW50aXRsZWQ%3D?line=3'>4</a>\u001b[0m \u001b[39mfor\u001b[39;00m column \u001b[39min\u001b[39;00m progressbar(columns, max_value\u001b[39m=\u001b[39m\u001b[39mlen\u001b[39m(columns)):\n\u001b[0;32m----> <a href='vscode-notebook-cell:Untitled-1.ipynb?jupyter-notebook#W3sdW50aXRsZWQ%3D?line=4'>5</a>\u001b[0m     omni[column \u001b[39m+\u001b[39m \u001b[39m'\u001b[39m\u001b[39m_Var\u001b[39m\u001b[39m'\u001b[39m] \u001b[39m=\u001b[39m omni[column]\u001b[39m.\u001b[39;49mrolling(window\u001b[39m=\u001b[39;49m\u001b[39mf\u001b[39;49m\u001b[39m'\u001b[39;49m\u001b[39m{\u001b[39;49;00mwindow\u001b[39m}\u001b[39;49;00m\u001b[39mmin\u001b[39;49m\u001b[39m'\u001b[39;49m, min_periods\u001b[39m=\u001b[39;49m\u001b[39m0\u001b[39;49m)\u001b[39m.\u001b[39;49mapply(Variance)\n\u001b[1;32m      <a href='vscode-notebook-cell:Untitled-1.ipynb?jupyter-notebook#W3sdW50aXRsZWQ%3D?line=5'>6</a>\u001b[0m     omni[column \u001b[39m+\u001b[39m \u001b[39m'\u001b[39m\u001b[39m_Mean\u001b[39m\u001b[39m'\u001b[39m] \u001b[39m=\u001b[39m omni[column]\u001b[39m.\u001b[39mrolling(window\u001b[39m=\u001b[39m\u001b[39mf\u001b[39m\u001b[39m'\u001b[39m\u001b[39m{\u001b[39;00mwindow\u001b[39m}\u001b[39;00m\u001b[39mmin\u001b[39m\u001b[39m'\u001b[39m, min_periods\u001b[39m=\u001b[39m\u001b[39m0\u001b[39m)\u001b[39m.\u001b[39mapply(np\u001b[39m.\u001b[39mnanmean)\n\u001b[1;32m      <a href='vscode-notebook-cell:Untitled-1.ipynb?jupyter-notebook#W3sdW50aXRsZWQ%3D?line=6'>7</a>\u001b[0m     omni[column \u001b[39m+\u001b[39m \u001b[39m'\u001b[39m\u001b[39m_Median\u001b[39m\u001b[39m'\u001b[39m] \u001b[39m=\u001b[39m omni[column]\u001b[39m.\u001b[39mrolling(window\u001b[39m=\u001b[39m\u001b[39mf\u001b[39m\u001b[39m'\u001b[39m\u001b[39m{\u001b[39;00mwindow\u001b[39m}\u001b[39;00m\u001b[39mmin\u001b[39m\u001b[39m'\u001b[39m, min_periods\u001b[39m=\u001b[39m\u001b[39m0\u001b[39m)\u001b[39m.\u001b[39mapply(np\u001b[39m.\u001b[39mnanmedian)\n",
      "File \u001b[0;32m~/anaconda3/envs/vscode/lib/python3.10/site-packages/pandas/core/window/rolling.py:2049\u001b[0m, in \u001b[0;36mRolling.apply\u001b[0;34m(self, func, raw, engine, engine_kwargs, args, kwargs)\u001b[0m\n\u001b[1;32m   2016\u001b[0m \u001b[39m@doc\u001b[39m(\n\u001b[1;32m   2017\u001b[0m     template_header,\n\u001b[1;32m   2018\u001b[0m     create_section_header(\u001b[39m\"\u001b[39m\u001b[39mParameters\u001b[39m\u001b[39m\"\u001b[39m),\n\u001b[0;32m   (...)\u001b[0m\n\u001b[1;32m   2047\u001b[0m     kwargs: \u001b[39mdict\u001b[39m[\u001b[39mstr\u001b[39m, Any] \u001b[39m|\u001b[39m \u001b[39mNone\u001b[39;00m \u001b[39m=\u001b[39m \u001b[39mNone\u001b[39;00m,\n\u001b[1;32m   2048\u001b[0m ):\n\u001b[0;32m-> 2049\u001b[0m     \u001b[39mreturn\u001b[39;00m \u001b[39msuper\u001b[39;49m()\u001b[39m.\u001b[39;49mapply(\n\u001b[1;32m   2050\u001b[0m         func,\n\u001b[1;32m   2051\u001b[0m         raw\u001b[39m=\u001b[39;49mraw,\n\u001b[1;32m   2052\u001b[0m         engine\u001b[39m=\u001b[39;49mengine,\n\u001b[1;32m   2053\u001b[0m         engine_kwargs\u001b[39m=\u001b[39;49mengine_kwargs,\n\u001b[1;32m   2054\u001b[0m         args\u001b[39m=\u001b[39;49margs,\n\u001b[1;32m   2055\u001b[0m         kwargs\u001b[39m=\u001b[39;49mkwargs,\n\u001b[1;32m   2056\u001b[0m     )\n",
      "File \u001b[0;32m~/anaconda3/envs/vscode/lib/python3.10/site-packages/pandas/core/window/rolling.py:1508\u001b[0m, in \u001b[0;36mRollingAndExpandingMixin.apply\u001b[0;34m(self, func, raw, engine, engine_kwargs, args, kwargs)\u001b[0m\n\u001b[1;32m   1505\u001b[0m \u001b[39melse\u001b[39;00m:\n\u001b[1;32m   1506\u001b[0m     \u001b[39mraise\u001b[39;00m \u001b[39mValueError\u001b[39;00m(\u001b[39m\"\u001b[39m\u001b[39mengine must be either \u001b[39m\u001b[39m'\u001b[39m\u001b[39mnumba\u001b[39m\u001b[39m'\u001b[39m\u001b[39m or \u001b[39m\u001b[39m'\u001b[39m\u001b[39mcython\u001b[39m\u001b[39m'\u001b[39m\u001b[39m\"\u001b[39m)\n\u001b[0;32m-> 1508\u001b[0m \u001b[39mreturn\u001b[39;00m \u001b[39mself\u001b[39;49m\u001b[39m.\u001b[39;49m_apply(\n\u001b[1;32m   1509\u001b[0m     apply_func,\n\u001b[1;32m   1510\u001b[0m     name\u001b[39m=\u001b[39;49m\u001b[39m\"\u001b[39;49m\u001b[39mapply\u001b[39;49m\u001b[39m\"\u001b[39;49m,\n\u001b[1;32m   1511\u001b[0m     numba_args\u001b[39m=\u001b[39;49mnumba_args,\n\u001b[1;32m   1512\u001b[0m )\n",
      "File \u001b[0;32m~/anaconda3/envs/vscode/lib/python3.10/site-packages/pandas/core/window/rolling.py:619\u001b[0m, in \u001b[0;36mBaseWindow._apply\u001b[0;34m(self, func, name, numeric_only, numba_args, **kwargs)\u001b[0m\n\u001b[1;32m    616\u001b[0m     \u001b[39mreturn\u001b[39;00m result\n\u001b[1;32m    618\u001b[0m \u001b[39mif\u001b[39;00m \u001b[39mself\u001b[39m\u001b[39m.\u001b[39mmethod \u001b[39m==\u001b[39m \u001b[39m\"\u001b[39m\u001b[39msingle\u001b[39m\u001b[39m\"\u001b[39m:\n\u001b[0;32m--> 619\u001b[0m     \u001b[39mreturn\u001b[39;00m \u001b[39mself\u001b[39;49m\u001b[39m.\u001b[39;49m_apply_columnwise(homogeneous_func, name, numeric_only)\n\u001b[1;32m    620\u001b[0m \u001b[39melse\u001b[39;00m:\n\u001b[1;32m    621\u001b[0m     \u001b[39mreturn\u001b[39;00m \u001b[39mself\u001b[39m\u001b[39m.\u001b[39m_apply_tablewise(homogeneous_func, name, numeric_only)\n",
      "File \u001b[0;32m~/anaconda3/envs/vscode/lib/python3.10/site-packages/pandas/core/window/rolling.py:472\u001b[0m, in \u001b[0;36mBaseWindow._apply_columnwise\u001b[0;34m(self, homogeneous_func, name, numeric_only)\u001b[0m\n\u001b[1;32m    470\u001b[0m \u001b[39mself\u001b[39m\u001b[39m.\u001b[39m_validate_numeric_only(name, numeric_only)\n\u001b[1;32m    471\u001b[0m \u001b[39mif\u001b[39;00m \u001b[39mself\u001b[39m\u001b[39m.\u001b[39m_selected_obj\u001b[39m.\u001b[39mndim \u001b[39m==\u001b[39m \u001b[39m1\u001b[39m:\n\u001b[0;32m--> 472\u001b[0m     \u001b[39mreturn\u001b[39;00m \u001b[39mself\u001b[39;49m\u001b[39m.\u001b[39;49m_apply_series(homogeneous_func, name)\n\u001b[1;32m    474\u001b[0m obj \u001b[39m=\u001b[39m \u001b[39mself\u001b[39m\u001b[39m.\u001b[39m_create_data(\u001b[39mself\u001b[39m\u001b[39m.\u001b[39m_selected_obj, numeric_only)\n\u001b[1;32m    475\u001b[0m \u001b[39mif\u001b[39;00m name \u001b[39m==\u001b[39m \u001b[39m\"\u001b[39m\u001b[39mcount\u001b[39m\u001b[39m\"\u001b[39m:\n\u001b[1;32m    476\u001b[0m     \u001b[39m# GH 12541: Special case for count where we support date-like types\u001b[39;00m\n",
      "File \u001b[0;32m~/anaconda3/envs/vscode/lib/python3.10/site-packages/pandas/core/window/rolling.py:456\u001b[0m, in \u001b[0;36mBaseWindow._apply_series\u001b[0;34m(self, homogeneous_func, name)\u001b[0m\n\u001b[1;32m    453\u001b[0m \u001b[39mexcept\u001b[39;00m (\u001b[39mTypeError\u001b[39;00m, \u001b[39mNotImplementedError\u001b[39;00m) \u001b[39mas\u001b[39;00m err:\n\u001b[1;32m    454\u001b[0m     \u001b[39mraise\u001b[39;00m DataError(\u001b[39m\"\u001b[39m\u001b[39mNo numeric types to aggregate\u001b[39m\u001b[39m\"\u001b[39m) \u001b[39mfrom\u001b[39;00m \u001b[39merr\u001b[39;00m\n\u001b[0;32m--> 456\u001b[0m result \u001b[39m=\u001b[39m homogeneous_func(values)\n\u001b[1;32m    457\u001b[0m index \u001b[39m=\u001b[39m \u001b[39mself\u001b[39m\u001b[39m.\u001b[39m_slice_axis_for_step(obj\u001b[39m.\u001b[39mindex, result)\n\u001b[1;32m    458\u001b[0m \u001b[39mreturn\u001b[39;00m obj\u001b[39m.\u001b[39m_constructor(result, index\u001b[39m=\u001b[39mindex, name\u001b[39m=\u001b[39mobj\u001b[39m.\u001b[39mname)\n",
      "File \u001b[0;32m~/anaconda3/envs/vscode/lib/python3.10/site-packages/pandas/core/window/rolling.py:614\u001b[0m, in \u001b[0;36mBaseWindow._apply.<locals>.homogeneous_func\u001b[0;34m(values)\u001b[0m\n\u001b[1;32m    611\u001b[0m     \u001b[39mreturn\u001b[39;00m func(x, start, end, min_periods, \u001b[39m*\u001b[39mnumba_args)\n\u001b[1;32m    613\u001b[0m \u001b[39mwith\u001b[39;00m np\u001b[39m.\u001b[39merrstate(\u001b[39mall\u001b[39m\u001b[39m=\u001b[39m\u001b[39m\"\u001b[39m\u001b[39mignore\u001b[39m\u001b[39m\"\u001b[39m):\n\u001b[0;32m--> 614\u001b[0m     result \u001b[39m=\u001b[39m calc(values)\n\u001b[1;32m    616\u001b[0m \u001b[39mreturn\u001b[39;00m result\n",
      "File \u001b[0;32m~/anaconda3/envs/vscode/lib/python3.10/site-packages/pandas/core/window/rolling.py:611\u001b[0m, in \u001b[0;36mBaseWindow._apply.<locals>.homogeneous_func.<locals>.calc\u001b[0;34m(x)\u001b[0m\n\u001b[1;32m    602\u001b[0m start, end \u001b[39m=\u001b[39m window_indexer\u001b[39m.\u001b[39mget_window_bounds(\n\u001b[1;32m    603\u001b[0m     num_values\u001b[39m=\u001b[39m\u001b[39mlen\u001b[39m(x),\n\u001b[1;32m    604\u001b[0m     min_periods\u001b[39m=\u001b[39mmin_periods,\n\u001b[0;32m   (...)\u001b[0m\n\u001b[1;32m    607\u001b[0m     step\u001b[39m=\u001b[39m\u001b[39mself\u001b[39m\u001b[39m.\u001b[39mstep,\n\u001b[1;32m    608\u001b[0m )\n\u001b[1;32m    609\u001b[0m \u001b[39mself\u001b[39m\u001b[39m.\u001b[39m_check_window_bounds(start, end, \u001b[39mlen\u001b[39m(x))\n\u001b[0;32m--> 611\u001b[0m \u001b[39mreturn\u001b[39;00m func(x, start, end, min_periods, \u001b[39m*\u001b[39;49mnumba_args)\n",
      "File \u001b[0;32m~/anaconda3/envs/vscode/lib/python3.10/site-packages/pandas/core/window/rolling.py:1535\u001b[0m, in \u001b[0;36mRollingAndExpandingMixin._generate_cython_apply_func.<locals>.apply_func\u001b[0;34m(values, begin, end, min_periods, raw)\u001b[0m\n\u001b[1;32m   1532\u001b[0m \u001b[39mif\u001b[39;00m \u001b[39mnot\u001b[39;00m raw:\n\u001b[1;32m   1533\u001b[0m     \u001b[39m# GH 45912\u001b[39;00m\n\u001b[1;32m   1534\u001b[0m     values \u001b[39m=\u001b[39m Series(values, index\u001b[39m=\u001b[39m\u001b[39mself\u001b[39m\u001b[39m.\u001b[39m_on, copy\u001b[39m=\u001b[39m\u001b[39mFalse\u001b[39;00m)\n\u001b[0;32m-> 1535\u001b[0m \u001b[39mreturn\u001b[39;00m window_func(values, begin, end, min_periods)\n",
      "File \u001b[0;32maggregations.pyx:1422\u001b[0m, in \u001b[0;36mpandas._libs.window.aggregations.roll_apply\u001b[0;34m()\u001b[0m\n",
      "\u001b[1;32mUntitled-1.ipynb Cell 8\u001b[0m line \u001b[0;36m2\n\u001b[1;32m     <a href='vscode-notebook-cell:Untitled-1.ipynb?jupyter-notebook#W3sdW50aXRsZWQ%3D?line=18'>19</a>\u001b[0m     \u001b[39mreturn\u001b[39;00m np\u001b[39m.\u001b[39mnan\n\u001b[1;32m     <a href='vscode-notebook-cell:Untitled-1.ipynb?jupyter-notebook#W3sdW50aXRsZWQ%3D?line=19'>20</a>\u001b[0m \u001b[39melse\u001b[39;00m:\n\u001b[0;32m---> <a href='vscode-notebook-cell:Untitled-1.ipynb?jupyter-notebook#W3sdW50aXRsZWQ%3D?line=20'>21</a>\u001b[0m     \u001b[39mreturn\u001b[39;00m np\u001b[39m.\u001b[39mnansum((X \u001b[39m-\u001b[39;49m np\u001b[39m.\u001b[39;49mnanmean(X))\u001b[39m*\u001b[39m\u001b[39m*\u001b[39m\u001b[39m2\u001b[39m) \u001b[39m/\u001b[39m (\u001b[39mlen\u001b[39m(X) \u001b[39m-\u001b[39m \u001b[39m1\u001b[39m)\n",
      "File \u001b[0;32m~/anaconda3/envs/vscode/lib/python3.10/site-packages/pandas/core/ops/common.py:76\u001b[0m, in \u001b[0;36m_unpack_zerodim_and_defer.<locals>.new_method\u001b[0;34m(self, other)\u001b[0m\n\u001b[1;32m     72\u001b[0m             \u001b[39mreturn\u001b[39;00m \u001b[39mNotImplemented\u001b[39m\n\u001b[1;32m     74\u001b[0m other \u001b[39m=\u001b[39m item_from_zerodim(other)\n\u001b[0;32m---> 76\u001b[0m \u001b[39mreturn\u001b[39;00m method(\u001b[39mself\u001b[39;49m, other)\n",
      "File \u001b[0;32m~/anaconda3/envs/vscode/lib/python3.10/site-packages/pandas/core/arraylike.py:194\u001b[0m, in \u001b[0;36mOpsMixin.__sub__\u001b[0;34m(self, other)\u001b[0m\n\u001b[1;32m    192\u001b[0m \u001b[39m@unpack_zerodim_and_defer\u001b[39m(\u001b[39m\"\u001b[39m\u001b[39m__sub__\u001b[39m\u001b[39m\"\u001b[39m)\n\u001b[1;32m    193\u001b[0m \u001b[39mdef\u001b[39;00m \u001b[39m__sub__\u001b[39m(\u001b[39mself\u001b[39m, other):\n\u001b[0;32m--> 194\u001b[0m     \u001b[39mreturn\u001b[39;00m \u001b[39mself\u001b[39;49m\u001b[39m.\u001b[39;49m_arith_method(other, operator\u001b[39m.\u001b[39;49msub)\n",
      "File \u001b[0;32m~/anaconda3/envs/vscode/lib/python3.10/site-packages/pandas/core/series.py:6126\u001b[0m, in \u001b[0;36mSeries._arith_method\u001b[0;34m(self, other, op)\u001b[0m\n\u001b[1;32m   6124\u001b[0m \u001b[39mdef\u001b[39;00m \u001b[39m_arith_method\u001b[39m(\u001b[39mself\u001b[39m, other, op):\n\u001b[1;32m   6125\u001b[0m     \u001b[39mself\u001b[39m, other \u001b[39m=\u001b[39m \u001b[39mself\u001b[39m\u001b[39m.\u001b[39m_align_for_op(other)\n\u001b[0;32m-> 6126\u001b[0m     \u001b[39mreturn\u001b[39;00m base\u001b[39m.\u001b[39;49mIndexOpsMixin\u001b[39m.\u001b[39;49m_arith_method(\u001b[39mself\u001b[39;49m, other, op)\n",
      "File \u001b[0;32m~/anaconda3/envs/vscode/lib/python3.10/site-packages/pandas/core/base.py:1384\u001b[0m, in \u001b[0;36mIndexOpsMixin._arith_method\u001b[0;34m(self, other, op)\u001b[0m\n\u001b[1;32m   1381\u001b[0m \u001b[39mwith\u001b[39;00m np\u001b[39m.\u001b[39merrstate(\u001b[39mall\u001b[39m\u001b[39m=\u001b[39m\u001b[39m\"\u001b[39m\u001b[39mignore\u001b[39m\u001b[39m\"\u001b[39m):\n\u001b[1;32m   1382\u001b[0m     result \u001b[39m=\u001b[39m ops\u001b[39m.\u001b[39marithmetic_op(lvalues, rvalues, op)\n\u001b[0;32m-> 1384\u001b[0m \u001b[39mreturn\u001b[39;00m \u001b[39mself\u001b[39;49m\u001b[39m.\u001b[39;49m_construct_result(result, name\u001b[39m=\u001b[39;49mres_name)\n",
      "File \u001b[0;32m~/anaconda3/envs/vscode/lib/python3.10/site-packages/pandas/core/series.py:6222\u001b[0m, in \u001b[0;36mSeries._construct_result\u001b[0;34m(self, result, name)\u001b[0m\n\u001b[1;32m   6219\u001b[0m \u001b[39m# TODO: result should always be ArrayLike, but this fails for some\u001b[39;00m\n\u001b[1;32m   6220\u001b[0m \u001b[39m#  JSONArray tests\u001b[39;00m\n\u001b[1;32m   6221\u001b[0m dtype \u001b[39m=\u001b[39m \u001b[39mgetattr\u001b[39m(result, \u001b[39m\"\u001b[39m\u001b[39mdtype\u001b[39m\u001b[39m\"\u001b[39m, \u001b[39mNone\u001b[39;00m)\n\u001b[0;32m-> 6222\u001b[0m out \u001b[39m=\u001b[39m \u001b[39mself\u001b[39;49m\u001b[39m.\u001b[39;49m_constructor(result, index\u001b[39m=\u001b[39;49m\u001b[39mself\u001b[39;49m\u001b[39m.\u001b[39;49mindex, dtype\u001b[39m=\u001b[39;49mdtype, copy\u001b[39m=\u001b[39;49m\u001b[39mFalse\u001b[39;49;00m)\n\u001b[1;32m   6223\u001b[0m out \u001b[39m=\u001b[39m out\u001b[39m.\u001b[39m__finalize__(\u001b[39mself\u001b[39m)\n\u001b[1;32m   6225\u001b[0m \u001b[39m# Set the result's name after __finalize__ is called because __finalize__\u001b[39;00m\n\u001b[1;32m   6226\u001b[0m \u001b[39m#  would set it back to self.name\u001b[39;00m\n",
      "File \u001b[0;32m~/anaconda3/envs/vscode/lib/python3.10/site-packages/pandas/core/series.py:586\u001b[0m, in \u001b[0;36mSeries.__init__\u001b[0;34m(self, data, index, dtype, name, copy, fastpath)\u001b[0m\n\u001b[1;32m    583\u001b[0m \u001b[39melse\u001b[39;00m:\n\u001b[1;32m    584\u001b[0m     data \u001b[39m=\u001b[39m sanitize_array(data, index, dtype, copy)\n\u001b[0;32m--> 586\u001b[0m     manager \u001b[39m=\u001b[39m _get_option(\u001b[39m\"\u001b[39;49m\u001b[39mmode.data_manager\u001b[39;49m\u001b[39m\"\u001b[39;49m, silent\u001b[39m=\u001b[39;49m\u001b[39mTrue\u001b[39;49;00m)\n\u001b[1;32m    587\u001b[0m     \u001b[39mif\u001b[39;00m manager \u001b[39m==\u001b[39m \u001b[39m\"\u001b[39m\u001b[39mblock\u001b[39m\u001b[39m\"\u001b[39m:\n\u001b[1;32m    588\u001b[0m         data \u001b[39m=\u001b[39m SingleBlockManager\u001b[39m.\u001b[39mfrom_array(data, index, refs\u001b[39m=\u001b[39mrefs)\n",
      "File \u001b[0;32m~/anaconda3/envs/vscode/lib/python3.10/site-packages/pandas/_config/config.py:146\u001b[0m, in \u001b[0;36m_get_option\u001b[0;34m(pat, silent)\u001b[0m\n\u001b[1;32m    145\u001b[0m \u001b[39mdef\u001b[39;00m \u001b[39m_get_option\u001b[39m(pat: \u001b[39mstr\u001b[39m, silent: \u001b[39mbool\u001b[39m \u001b[39m=\u001b[39m \u001b[39mFalse\u001b[39;00m) \u001b[39m-\u001b[39m\u001b[39m>\u001b[39m Any:\n\u001b[0;32m--> 146\u001b[0m     key \u001b[39m=\u001b[39m _get_single_key(pat, silent)\n\u001b[1;32m    148\u001b[0m     \u001b[39m# walk the nested dict\u001b[39;00m\n\u001b[1;32m    149\u001b[0m     root, k \u001b[39m=\u001b[39m _get_root(key)\n",
      "File \u001b[0;32m~/anaconda3/envs/vscode/lib/python3.10/site-packages/pandas/_config/config.py:137\u001b[0m, in \u001b[0;36m_get_single_key\u001b[0;34m(pat, silent)\u001b[0m\n\u001b[1;32m    134\u001b[0m     \u001b[39mraise\u001b[39;00m OptionError(\u001b[39m\"\u001b[39m\u001b[39mPattern matched multiple keys\u001b[39m\u001b[39m\"\u001b[39m)\n\u001b[1;32m    135\u001b[0m key \u001b[39m=\u001b[39m keys[\u001b[39m0\u001b[39m]\n\u001b[0;32m--> 137\u001b[0m \u001b[39mif\u001b[39;00m \u001b[39mnot\u001b[39;00m silent:\n\u001b[1;32m    138\u001b[0m     _warn_if_deprecated(key)\n\u001b[1;32m    140\u001b[0m key \u001b[39m=\u001b[39m _translate_key(key)\n",
      "\u001b[0;31mKeyboardInterrupt\u001b[0m: "
     ]
    }
   ],
   "source": [
    "columns = ['IMF', 'BX_GSE', 'BY_GSM', 'BZ_GSM']\n",
    "window=30\n",
    "# Calculate variance, mean, and SEM for each column in a rolling window\n",
    "for column in progressbar(columns, max_value=len(columns)):\n",
    "    omni[column + '_Var'] = omni[column].rolling(window=f'{window}min', min_periods=0).apply(Variance)\n",
    "    omni[column + '_Mean'] = omni[column].rolling(window=f'{window}min', min_periods=0).apply(np.nanmean)\n",
    "    omni[column + '_Median'] = omni[column].rolling(window=f'{window}min', min_periods=0).apply(np.nanmedian)"
   ]
  },
  {
   "cell_type": "markdown",
   "metadata": {},
   "source": [
    "## Run Engine='numba'"
   ]
  },
  {
   "cell_type": "code",
   "execution_count": 24,
   "metadata": {},
   "outputs": [
    {
     "name": "stderr",
     "output_type": "stream",
     "text": [
      "  0% (0 of 3) |                          | Elapsed Time: 0:00:00 ETA:  --:--:--\n",
      " 33% (1 of 3) |########                  | Elapsed Time: 0:00:03 ETA:   0:00:07\n",
      " 66% (2 of 3) |#################         | Elapsed Time: 0:00:06 ETA:   0:00:02\n",
      "100% (3 of 3) |##########################| Elapsed Time: 0:00:08 Time:  0:00:08\n"
     ]
    }
   ],
   "source": [
    "columns = ['BX_GSE', 'BY_GSM', 'BZ_GSM']\n",
    "window=30\n",
    "# Calculate variance, mean, and SEM for each column in a rolling window\n",
    "for column in progressbar(columns, max_value=len(columns)):\n",
    "    omni[column + '_Var'] = omni[column].rolling(window=f'{window}min', min_periods=0).apply(Variance, engine='numba', raw=True)\n",
    "    omni[column + '_Mean'] = omni[column].rolling(window=f'{window}min', min_periods=0).apply(np.nanmean, engine='numba', raw=True)\n",
    "    omni[column + '_Median'] = omni[column].rolling(window=f'{window}min', min_periods=0).apply(np.nanmedian, engine='numba', raw=True)"
   ]
  }
 ],
 "metadata": {
  "language_info": {
   "name": "python"
  }
 },
 "nbformat": 4,
 "nbformat_minor": 2
}
