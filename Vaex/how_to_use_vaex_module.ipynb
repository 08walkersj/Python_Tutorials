{
 "cells": [
  {
   "cell_type": "code",
   "execution_count": 1,
   "metadata": {},
   "outputs": [],
   "source": [
    "import time\n",
    "import pandas as pd\n",
    "import vaex #can seem a little slow to import\\n\n",
    "try:\n",
    "    import progressbar\n",
    "    bar=True\n",
    "except:\n",
    "    bar=False\n",
    "    pass\n",
    "import numpy as np"
   ]
  },
  {
   "cell_type": "code",
   "execution_count": 2,
   "metadata": {},
   "outputs": [
    {
     "name": "stderr",
     "output_type": "stream",
     "text": [
      "INFO:MainThread:numexpr.utils:NumExpr defaulting to 8 threads.\n"
     ]
    }
   ],
   "source": [
    "#hdf Store in pandas format\n",
    "store= pd.HDFStore('pandas.hdf5', mode='r')"
   ]
  },
  {
   "cell_type": "code",
   "execution_count": 3,
   "metadata": {},
   "outputs": [
    {
     "name": "stderr",
     "output_type": "stream",
     "text": [
      "| |  #                                                | 1 Elapsed Time: 0:00:40\n"
     ]
    }
   ],
   "source": [
    "#assuming the store is too big to load in one go, load the store in chunks \\n\",\n",
    "if bar:\n",
    "    prog_bar= progressbar.ProgressBar()\n",
    "for i, tmp_df in enumerate(store.select(key='main', chunksize=5_000_000)):\n",
    "    if bar:\n",
    "        prog_bar.update(i)\n",
    "    #converting the pandas data frame into a vaex data frame \\n\",\n",
    "    dfvx= vaex.from_pandas(tmp_df, copy_index=True) #copy_index is important if you're using time in your index\\n\",\n",
    "    dfvx.export_hdf5('batch'+str(i)+'.hdf5') #export the chunk as a hdf file\\n\",\n",
    "if bar:\n",
    "    prog_bar.finish()"
   ]
  },
  {
   "cell_type": "code",
   "execution_count": 4,
   "metadata": {},
   "outputs": [],
   "source": [
    "#this loads all the hdf stores that have been created and treats them as one store\n",
    "vxhdf= vaex.open('batch*.hdf5')"
   ]
  },
  {
   "cell_type": "code",
   "execution_count": 5,
   "metadata": {},
   "outputs": [],
   "source": [
    "#alternatively once loaded the combined store can be saved as one file,\n",
    "vxhdf.export_hdf5('batches_combined.hdf5')"
   ]
  },
  {
   "cell_type": "code",
   "execution_count": 6,
   "metadata": {},
   "outputs": [
    {
     "name": "stdout",
     "output_type": "stream",
     "text": [
      "['1999-01-01T01:01:00.000000000' '1999-01-01T01:01:00.000000000'\n",
      " '1999-01-01T01:01:00.000000000' ... '1999-04-01T00:00:00.000000000'\n",
      " '1999-04-01T00:00:00.000000000' '1999-04-01T00:00:00.000000000']\n"
     ]
    }
   ],
   "source": [
    "#accessing the data from a vaex store is very simple,\n",
    "print(vxhdf.index.values)"
   ]
  },
  {
   "cell_type": "code",
   "execution_count": 7,
   "metadata": {},
   "outputs": [
    {
     "data": {
      "text/html": [
       "<table>\n",
       "<thead>\n",
       "<tr><th>#                             </th><th>glon  </th><th>glat  </th><th>Bphi                </th><th>Btheta             </th><th>Br   </th><th>Declination         </th><th>Site  </th><th>mlat              </th><th>mlt               </th><th>f1_0              </th><th>f1_1               </th><th>f2_0                </th><th>f2_1              </th><th>dst_Index  </th><th>index                        </th></tr>\n",
       "</thead>\n",
       "<tbody>\n",
       "<tr><td><i style='opacity: 0.6'>0</i> </td><td>20.42 </td><td>67.84 </td><td>-0.76164532187404   </td><td>1.479829856323824  </td><td>2.3  </td><td>5.50105325068072    </td><td>KIR   </td><td>64.48617553710938 </td><td>2.8305669148763037</td><td>1.022489309310913 </td><td>0.14385730028152466</td><td>-0.30845537781715393</td><td>0.8980472683906555</td><td>-4.0       </td><td>1999-01-01 01:05:00.000000000</td></tr>\n",
       "<tr><td><i style='opacity: 0.6'>1</i> </td><td>18.82 </td><td>54.61 </td><td>-0.47071630742210235</td><td>-1.3778338644143207</td><td>1.4  </td><td>2.916568243327928   </td><td>HLP   </td><td>50.47977828979492 </td><td>2.3218922932942725</td><td>1.1003310680389404</td><td>0.04359893500804901</td><td>-0.19340701401233673</td><td>0.9350515604019165</td><td>-4.0       </td><td>1999-01-01 01:05:00.000000000</td></tr>\n",
       "<tr><td><i style='opacity: 0.6'>2</i> </td><td>12.68 </td><td>52.07 </td><td>-0.10782239093870846</td><td>-0.3979627269132881</td><td>1.9  </td><td>1.1232996617467088  </td><td>NGK   </td><td>47.811790466308594</td><td>1.9250356038411454</td><td>1.1347672939300537</td><td>0.05207890644669533</td><td>-0.1856136918067932 </td><td>0.9190542101860046</td><td>-4.0       </td><td>1999-01-01 01:05:00.000000000</td></tr>\n",
       "<tr><td><i style='opacity: 0.6'>3</i> </td><td>15.83 </td><td>78.2  </td><td>-3.7718401774507746 </td><td>-3.314094397534281 </td><td>-21.3</td><td>2.889196997800079   </td><td>LYR   </td><td>75.02986145019531 </td><td>3.437208557128905 </td><td>0.9328954815864563</td><td>0.3402070701122284 </td><td>-0.514703094959259  </td><td>0.8120315074920654</td><td>-4.0       </td><td>1999-01-01 01:05:00.000000000</td></tr>\n",
       "<tr><td><i style='opacity: 0.6'>4</i> </td><td>23.53 </td><td>68.02 </td><td>1.7967067456994747  </td><td>1.6036972500936713 </td><td>2.2  </td><td>6.615126484780932   </td><td>MUO   </td><td>64.50875854492188 </td><td>3.0032216389973954</td><td>1.0163499116897583</td><td>0.13149338960647583</td><td>-0.3018020689487457 </td><td>0.9099292159080505</td><td>-4.0       </td><td>1999-01-01 01:05:00.000000000</td></tr>\n",
       "<tr><td>...                           </td><td>...   </td><td>...   </td><td>...                 </td><td>...                </td><td>...  </td><td>...                 </td><td>...   </td><td>...               </td><td>...               </td><td>...               </td><td>...                </td><td>...                 </td><td>...               </td><td>...        </td><td>...                          </td></tr>\n",
       "<tr><td><i style='opacity: 0.6'>61</i></td><td>19.2  </td><td>74.5  </td><td>1.2432700183566503  </td><td>-1.632262130129672 </td><td>2.0  </td><td>5.729075574348678   </td><td>BJN   </td><td>71.24890899658203 </td><td>3.1954416910807275</td><td>0.9774999618530273</td><td>0.23927836120128632</td><td>-0.4114638566970825 </td><td>0.8609490990638733</td><td>-4.0       </td><td>1999-01-01 01:05:00.000000000</td></tr>\n",
       "<tr><td><i style='opacity: 0.6'>62</i></td><td>17.83 </td><td>59.35 </td><td>-3.216810702990014  </td><td>-2.1335718645334847</td><td>0.9  </td><td>3.01842961989791    </td><td>LOV   </td><td>55.68308639526367 </td><td>2.3793034871419287</td><td>1.0766257047653198</td><td>0.08103016763925552</td><td>-0.23433928191661835</td><td>0.9169272184371948</td><td>-4.0       </td><td>1999-01-01 01:05:00.000000000</td></tr>\n",
       "<tr><td><i style='opacity: 0.6'>63</i></td><td>18.82 </td><td>68.35 </td><td>0.748261853632438   </td><td>1.7435894581003146 </td><td>3.4  </td><td>4.7916537507809345  </td><td>ABK   </td><td>65.09888458251953 </td><td>2.7718577067057275</td><td>1.0219682455062866</td><td>0.15699729323387146</td><td>-0.31860607862472534</td><td>0.8896398544311523</td><td>-4.0       </td><td>1999-01-01 01:05:00.000000000</td></tr>\n",
       "<tr><td><i style='opacity: 0.6'>64</i></td><td>9.07  </td><td>53.75 </td><td>-0.9972442077190006 </td><td>-2.1013100652142946</td><td>2.0  </td><td>-0.07516476614205599</td><td>WNG   </td><td>49.866294860839844</td><td>1.7569829305013016</td><td>1.1358120441436768</td><td>0.08060669898986816</td><td>-0.20573362708091736</td><td>0.9010711312294006</td><td>-4.0       </td><td>1999-01-01 01:05:00.000000000</td></tr>\n",
       "<tr><td><i style='opacity: 0.6'>65</i></td><td>4.6   </td><td>50.1  </td><td>-0.7198873898739386 </td><td>0.7821522523783255 </td><td>2.5  </td><td>-1.4403209264732073 </td><td>DOU   </td><td>45.8723030090332  </td><td>1.438750203450521 </td><td>1.1713143587112427</td><td>0.0808456763625145 </td><td>-0.18475230038166046</td><td>0.897162675857544 </td><td>-4.0       </td><td>1999-01-01 01:05:00.000000000</td></tr>\n",
       "</tbody>\n",
       "</table>"
      ],
      "text/plain": [
       "#    glon    glat    Bphi                  Btheta               Br     Declination           Site    mlat                mlt                 f1_0                f1_1                 f2_0                  f2_1                dst_Index    index\n",
       "0    20.42   67.84   -0.76164532187404     1.479829856323824    2.3    5.50105325068072      KIR     64.48617553710938   2.8305669148763037  1.022489309310913   0.14385730028152466  -0.30845537781715393  0.8980472683906555  -4.0         1999-01-01 01:05:00.000000000\n",
       "1    18.82   54.61   -0.47071630742210235  -1.3778338644143207  1.4    2.916568243327928     HLP     50.47977828979492   2.3218922932942725  1.1003310680389404  0.04359893500804901  -0.19340701401233673  0.9350515604019165  -4.0         1999-01-01 01:05:00.000000000\n",
       "2    12.68   52.07   -0.10782239093870846  -0.3979627269132881  1.9    1.1232996617467088    NGK     47.811790466308594  1.9250356038411454  1.1347672939300537  0.05207890644669533  -0.1856136918067932   0.9190542101860046  -4.0         1999-01-01 01:05:00.000000000\n",
       "3    15.83   78.2    -3.7718401774507746   -3.314094397534281   -21.3  2.889196997800079     LYR     75.02986145019531   3.437208557128905   0.9328954815864563  0.3402070701122284   -0.514703094959259    0.8120315074920654  -4.0         1999-01-01 01:05:00.000000000\n",
       "4    23.53   68.02   1.7967067456994747    1.6036972500936713   2.2    6.615126484780932     MUO     64.50875854492188   3.0032216389973954  1.0163499116897583  0.13149338960647583  -0.3018020689487457   0.9099292159080505  -4.0         1999-01-01 01:05:00.000000000\n",
       "...  ...     ...     ...                   ...                  ...    ...                   ...     ...                 ...                 ...                 ...                  ...                   ...                 ...          ...\n",
       "61   19.2    74.5    1.2432700183566503    -1.632262130129672   2.0    5.729075574348678     BJN     71.24890899658203   3.1954416910807275  0.9774999618530273  0.23927836120128632  -0.4114638566970825   0.8609490990638733  -4.0         1999-01-01 01:05:00.000000000\n",
       "62   17.83   59.35   -3.216810702990014    -2.1335718645334847  0.9    3.01842961989791      LOV     55.68308639526367   2.3793034871419287  1.0766257047653198  0.08103016763925552  -0.23433928191661835  0.9169272184371948  -4.0         1999-01-01 01:05:00.000000000\n",
       "63   18.82   68.35   0.748261853632438     1.7435894581003146   3.4    4.7916537507809345    ABK     65.09888458251953   2.7718577067057275  1.0219682455062866  0.15699729323387146  -0.31860607862472534  0.8896398544311523  -4.0         1999-01-01 01:05:00.000000000\n",
       "64   9.07    53.75   -0.9972442077190006   -2.1013100652142946  2.0    -0.07516476614205599  WNG     49.866294860839844  1.7569829305013016  1.1358120441436768  0.08060669898986816  -0.20573362708091736  0.9010711312294006  -4.0         1999-01-01 01:05:00.000000000\n",
       "65   4.6     50.1    -0.7198873898739386   0.7821522523783255   2.5    -1.4403209264732073   DOU     45.8723030090332    1.438750203450521   1.1713143587112427  0.0808456763625145   -0.18475230038166046  0.897162675857544   -4.0         1999-01-01 01:05:00.000000000"
      ]
     },
     "execution_count": 7,
     "metadata": {},
     "output_type": "execute_result"
    }
   ],
   "source": [
    "#selecting data appears much quicker than through pandas\n",
    "date= np.datetime64('1999-01-01T01:05:00')\n",
    "#doesn't work with pandas time stamps due to the default data type of the date column\n",
    "vxhdf[vxhdf.index== date]"
   ]
  },
  {
   "cell_type": "code",
   "execution_count": 8,
   "metadata": {
    "scrolled": true
   },
   "outputs": [
    {
     "data": {
      "text/html": [
       "<table>\n",
       "<thead>\n",
       "<tr><th>#                                 </th><th>glon  </th><th>glat  </th><th>Bphi                </th><th>Btheta             </th><th>Br   </th><th>Declination         </th><th>Site  </th><th>mlat              </th><th>mlt               </th><th>f1_0              </th><th>f1_1               </th><th>f2_0                </th><th>f2_1              </th><th>dst_Index  </th><th>index                        </th></tr>\n",
       "</thead>\n",
       "<tbody>\n",
       "<tr><td><i style='opacity: 0.6'>0</i>     </td><td>20.42 </td><td>67.84 </td><td>-0.9378760059564326 </td><td>0.6931007123436028 </td><td>2.1  </td><td>5.50105325068072    </td><td>KIR   </td><td>64.48617553710938 </td><td>2.8478047688802093</td><td>1.022489309310913 </td><td>0.14385730028152466</td><td>-0.30845537781715393</td><td>0.8980472683906555</td><td>-4.0       </td><td>1999-01-01 01:06:00.000000000</td></tr>\n",
       "<tr><td><i style='opacity: 0.6'>1</i>     </td><td>18.82 </td><td>54.61 </td><td>-0.37084583887734335</td><td>-1.3829220382173968</td><td>1.4  </td><td>2.916568243327928   </td><td>HLP   </td><td>50.47977828979492 </td><td>2.339130147298178 </td><td>1.1003310680389404</td><td>0.04359893500804901</td><td>-0.19340701401233673</td><td>0.9350515604019165</td><td>-4.0       </td><td>1999-01-01 01:06:00.000000000</td></tr>\n",
       "<tr><td><i style='opacity: 0.6'>2</i>     </td><td>12.68 </td><td>52.07 </td><td>-0.7077070845593652 </td><td>-0.3862003139103896</td><td>1.9  </td><td>1.1232996617467088  </td><td>NGK   </td><td>47.811790466308594</td><td>1.942273457845051 </td><td>1.1347672939300537</td><td>0.05207890644669533</td><td>-0.1856136918067932 </td><td>0.9190542101860046</td><td>-4.0       </td><td>1999-01-01 01:06:00.000000000</td></tr>\n",
       "<tr><td><i style='opacity: 0.6'>3</i>     </td><td>15.83 </td><td>78.2  </td><td>-5.639182267232357  </td><td>-2.6190882682590395</td><td>-21.7</td><td>2.889196997800079   </td><td>LYR   </td><td>75.02986145019531 </td><td>3.454446411132814 </td><td>0.9328954815864563</td><td>0.3402070701122284 </td><td>-0.514703094959259  </td><td>0.8120315074920654</td><td>-4.0       </td><td>1999-01-01 01:06:00.000000000</td></tr>\n",
       "<tr><td><i style='opacity: 0.6'>4</i>     </td><td>23.53 </td><td>68.02 </td><td>1.7045472226499325  </td><td>0.809023340674669  </td><td>1.9  </td><td>6.615126484780932   </td><td>MUO   </td><td>64.50875854492188 </td><td>3.020459493001301 </td><td>1.0163499116897583</td><td>0.13149338960647583</td><td>-0.3018020689487457 </td><td>0.9099292159080505</td><td>-4.0       </td><td>1999-01-01 01:06:00.000000000</td></tr>\n",
       "<tr><td>...                               </td><td>...   </td><td>...   </td><td>...                 </td><td>...                </td><td>...  </td><td>...                 </td><td>...   </td><td>...               </td><td>...               </td><td>...               </td><td>...                </td><td>...                 </td><td>...               </td><td>...        </td><td>...                          </td></tr>\n",
       "<tr><td><i style='opacity: 0.6'>97,315</i></td><td>19.2  </td><td>74.5  </td><td>30.825704963011244  </td><td>-63.39381605120001 </td><td>9.2  </td><td>5.729075574348678   </td><td>BJN   </td><td>71.24897766113281 </td><td>3.188336690266926 </td><td>0.9775029420852661</td><td>0.2392718493938446 </td><td>-0.41145622730255127</td><td>0.8609535694122314</td><td>-2.0       </td><td>1999-01-02 01:05:00.000000000</td></tr>\n",
       "<tr><td><i style='opacity: 0.6'>97,316</i></td><td>17.83 </td><td>59.35 </td><td>-0.45718058821405677</td><td>0.8252187041992256 </td><td>-9.9 </td><td>3.01842961989791    </td><td>LOV   </td><td>55.68312072753906 </td><td>2.3722106933593743</td><td>1.0766266584396362</td><td>0.081025131046772  </td><td>-0.23433440923690796</td><td>0.9169308543205261</td><td>-2.0       </td><td>1999-01-02 01:05:00.000000000</td></tr>\n",
       "<tr><td><i style='opacity: 0.6'>97,317</i></td><td>18.82 </td><td>68.35 </td><td>11.53627601954569   </td><td>-14.414032593304867</td><td>-42.4</td><td>4.7916537507809345  </td><td>ABK   </td><td>65.09893035888672 </td><td>2.764759318033853 </td><td>1.0219700336456299</td><td>0.1569916158914566 </td><td>-0.3185998797416687 </td><td>0.8896437287330627</td><td>-2.0       </td><td>1999-01-02 01:05:00.000000000</td></tr>\n",
       "<tr><td><i style='opacity: 0.6'>97,318</i></td><td>9.07  </td><td>53.75 </td><td>3.699865628904793   </td><td>0.10485384136472393</td><td>-4.5 </td><td>-0.07516476614205599</td><td>WNG   </td><td>49.866294860839844</td><td>1.7498911539713546</td><td>1.1358132362365723</td><td>0.08060088753700256</td><td>-0.20572905242443085</td><td>0.9010748267173767</td><td>-2.0       </td><td>1999-01-02 01:05:00.000000000</td></tr>\n",
       "<tr><td><i style='opacity: 0.6'>97,319</i></td><td>4.6   </td><td>50.1  </td><td>2.5237714414287753  </td><td>3.064404952258843  </td><td>-0.6 </td><td>-1.4403209264732073 </td><td>DOU   </td><td>45.872283935546875</td><td>1.4316589355468743</td><td>1.1713155508041382</td><td>0.08083941787481308</td><td>-0.18474777042865753</td><td>0.89716637134552  </td><td>-2.0       </td><td>1999-01-02 01:05:00.000000000</td></tr>\n",
       "</tbody>\n",
       "</table>"
      ],
      "text/plain": [
       "#       glon    glat    Bphi                  Btheta               Br     Declination           Site    mlat                mlt                 f1_0                f1_1                 f2_0                  f2_1                dst_Index    index\n",
       "0       20.42   67.84   -0.9378760059564326   0.6931007123436028   2.1    5.50105325068072      KIR     64.48617553710938   2.8478047688802093  1.022489309310913   0.14385730028152466  -0.30845537781715393  0.8980472683906555  -4.0         1999-01-01 01:06:00.000000000\n",
       "1       18.82   54.61   -0.37084583887734335  -1.3829220382173968  1.4    2.916568243327928     HLP     50.47977828979492   2.339130147298178   1.1003310680389404  0.04359893500804901  -0.19340701401233673  0.9350515604019165  -4.0         1999-01-01 01:06:00.000000000\n",
       "2       12.68   52.07   -0.7077070845593652   -0.3862003139103896  1.9    1.1232996617467088    NGK     47.811790466308594  1.942273457845051   1.1347672939300537  0.05207890644669533  -0.1856136918067932   0.9190542101860046  -4.0         1999-01-01 01:06:00.000000000\n",
       "3       15.83   78.2    -5.639182267232357    -2.6190882682590395  -21.7  2.889196997800079     LYR     75.02986145019531   3.454446411132814   0.9328954815864563  0.3402070701122284   -0.514703094959259    0.8120315074920654  -4.0         1999-01-01 01:06:00.000000000\n",
       "4       23.53   68.02   1.7045472226499325    0.809023340674669    1.9    6.615126484780932     MUO     64.50875854492188   3.020459493001301   1.0163499116897583  0.13149338960647583  -0.3018020689487457   0.9099292159080505  -4.0         1999-01-01 01:06:00.000000000\n",
       "...     ...     ...     ...                   ...                  ...    ...                   ...     ...                 ...                 ...                 ...                  ...                   ...                 ...          ...\n",
       "97,315  19.2    74.5    30.825704963011244    -63.39381605120001   9.2    5.729075574348678     BJN     71.24897766113281   3.188336690266926   0.9775029420852661  0.2392718493938446   -0.41145622730255127  0.8609535694122314  -2.0         1999-01-02 01:05:00.000000000\n",
       "97,316  17.83   59.35   -0.45718058821405677  0.8252187041992256   -9.9   3.01842961989791      LOV     55.68312072753906   2.3722106933593743  1.0766266584396362  0.081025131046772    -0.23433440923690796  0.9169308543205261  -2.0         1999-01-02 01:05:00.000000000\n",
       "97,317  18.82   68.35   11.53627601954569     -14.414032593304867  -42.4  4.7916537507809345    ABK     65.09893035888672   2.764759318033853   1.0219700336456299  0.1569916158914566   -0.3185998797416687   0.8896437287330627  -2.0         1999-01-02 01:05:00.000000000\n",
       "97,318  9.07    53.75   3.699865628904793     0.10485384136472393  -4.5   -0.07516476614205599  WNG     49.866294860839844  1.7498911539713546  1.1358132362365723  0.08060088753700256  -0.20572905242443085  0.9010748267173767  -2.0         1999-01-02 01:05:00.000000000\n",
       "97,319  4.6     50.1    2.5237714414287753    3.064404952258843    -0.6   -1.4403209264732073   DOU     45.872283935546875  1.4316589355468743  1.1713155508041382  0.08083941787481308  -0.18474777042865753  0.89716637134552    -2.0         1999-01-02 01:05:00.000000000"
      ]
     },
     "execution_count": 8,
     "metadata": {},
     "output_type": "execute_result"
    }
   ],
   "source": [
    "#selecting a range of a day\n",
    "date2=date+np.timedelta64(1, 'D')\n",
    "index= vxhdf.index>date\n",
    "index&=vxhdf.index<=date2\n",
    "# has been done using the index variable as there is a error when applying two condtions at once\n",
    "vxhdf[index]"
   ]
  },
  {
   "cell_type": "code",
   "execution_count": 9,
   "metadata": {},
   "outputs": [
    {
     "name": "stdout",
     "output_type": "stream",
     "text": [
      "average Br of all magnetometers: 2.4802884188803938\n",
      "average Br of magnetometers above 60 mlat: 2.2848380147040874\n"
     ]
    }
   ],
   "source": [
    "#other functionalities can include\n",
    "vxhdf.select(vxhdf.mlat>60)\n",
    "print('average Br of all magnetometers:',vxhdf.mean(vxhdf.Br, selection=False))\n",
    "print('average Br of magnetometers above 60 mlat:',vxhdf.mean(vxhdf.Br, selection=True))"
   ]
  },
  {
   "cell_type": "markdown",
   "metadata": {},
   "source": [
    "- vaex can convert to and from pandas data frames\n",
    "- vaex can convert to and from dask\n",
    "- can also read parquet files\n",
    "- there are some plotting functionalities and a range of functions that incorporate the selection tool\n",
    "- seems much quicker than pandas and shares most functionality\\n\",\"- also if you can't perform the opertation you want you can convert easily to a format that can\n",
    "- I asked questions on converting from a pandas hdf store to a vaex hdf store in an efficient way and the creators replied very quickly\n",
    "- seems much quicker than pandas as shares most functionality\n",
    "- also if you can't perform the opertation you want you can convert easily to a format that can\n",
    "- I asked questions on converting from a pandas hdf store to and one of the creaters answered within a couple of hours"
   ]
  }
 ],
 "metadata": {
  "kernelspec": {
   "display_name": "Python 3 (ipykernel)",
   "language": "python",
   "name": "python3"
  },
  "language_info": {
   "codemirror_mode": {
    "name": "ipython",
    "version": 3
   },
   "file_extension": ".py",
   "mimetype": "text/x-python",
   "name": "python",
   "nbconvert_exporter": "python",
   "pygments_lexer": "ipython3",
   "version": "3.10.11"
  }
 },
 "nbformat": 4,
 "nbformat_minor": 4
}
