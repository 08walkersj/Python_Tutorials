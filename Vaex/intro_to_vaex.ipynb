{
 "cells": [
  {
   "cell_type": "markdown",
   "metadata": {},
   "source": [
    "# Introduction to Vaex\n",
    "Vaex is a dataframe package with a number of advantages compared to pandas\n",
    "## So lets get started\n",
    "In this notebook we will try and cover how to use vaex and its advantages over other data packages\n",
    "# Imports\n",
    "First we need to import the vaex package. You are unlikely to already have this package installed so for those using conda: cona install conda-forge:vaex"
   ]
  },
  {
   "cell_type": "code",
   "execution_count": 2,
   "metadata": {},
   "outputs": [],
   "source": [
    "import vaex as vx"
   ]
  },
  {
   "cell_type": "markdown",
   "metadata": {},
   "source": [
    "## Combining datasets\n",
    "Vaex has the ability to open multiple datasets and combine them into one when it opens them\n",
    "### For example:\n",
    "We could provide a list of files"
   ]
  },
  {
   "cell_type": "code",
   "execution_count": 2,
   "metadata": {},
   "outputs": [],
   "source": [
    "files= ['All_Armagh.csv', 'All_Dunsink.csv', 'All_Valentia.csv']\n",
    "data= vx.open(files)"
   ]
  },
  {
   "cell_type": "markdown",
   "metadata": {},
   "source": [
    "All these files are now combined"
   ]
  },
  {
   "cell_type": "code",
   "execution_count": 3,
   "metadata": {},
   "outputs": [
    {
     "data": {
      "text/html": [
       "<table>\n",
       "<thead>\n",
       "<tr><th>#                                      </th><th>   </th><th>Date_UTC           </th><th>Site  </th><th>Bx      </th><th>By      </th><th>Bz      </th><th>E1    </th><th>E2    </th><th>E3    </th><th>E4      </th><th>TFG  </th><th>TE  </th><th>Volts  </th></tr>\n",
       "</thead>\n",
       "<tbody>\n",
       "<tr><td><i style='opacity: 0.6'>0</i>          </td><td>0  </td><td>2016-12-20 00:00:02</td><td>arm   </td><td>18284.94</td><td>-391.44 </td><td>45724.56</td><td>569.8 </td><td>441.36</td><td>212.21</td><td>53937.83</td><td>5.94 </td><td>7.62</td><td>11.9   </td></tr>\n",
       "<tr><td><i style='opacity: 0.6'>1</i>          </td><td>1  </td><td>2016-12-20 00:00:03</td><td>arm   </td><td>18284.94</td><td>-391.44 </td><td>45724.58</td><td>569.26</td><td>441.37</td><td>211.87</td><td>53938.05</td><td>5.94 </td><td>7.65</td><td>11.8   </td></tr>\n",
       "<tr><td><i style='opacity: 0.6'>2</i>          </td><td>2  </td><td>2016-12-20 00:00:04</td><td>arm   </td><td>18284.94</td><td>-391.46 </td><td>45724.58</td><td>568.77</td><td>441.38</td><td>211.7 </td><td>53934.93</td><td>5.94 </td><td>7.65</td><td>11.9   </td></tr>\n",
       "<tr><td><i style='opacity: 0.6'>3</i>          </td><td>3  </td><td>2016-12-20 00:00:05</td><td>arm   </td><td>18284.94</td><td>-391.46 </td><td>45724.56</td><td>568.35</td><td>441.4 </td><td>211.81</td><td>53925.4 </td><td>5.94 </td><td>7.62</td><td>11.9   </td></tr>\n",
       "<tr><td><i style='opacity: 0.6'>4</i>          </td><td>4  </td><td>2016-12-20 00:00:06</td><td>arm   </td><td>18284.93</td><td>-391.46 </td><td>45724.54</td><td>567.94</td><td>441.4 </td><td>212.15</td><td>53916.78</td><td>5.94 </td><td>7.59</td><td>11.9   </td></tr>\n",
       "<tr><td>...                                    </td><td>...</td><td>...                </td><td>...   </td><td>...     </td><td>...     </td><td>...     </td><td>...   </td><td>...   </td><td>...   </td><td>...     </td><td>...  </td><td>... </td><td>...    </td></tr>\n",
       "<tr><td><i style='opacity: 0.6'>271,207,572</i></td><td>625</td><td>2024-06-11 10:25:00</td><td>val   </td><td>19494.17</td><td>-1584.51</td><td>44889.77</td><td>--    </td><td>--    </td><td>--    </td><td>--      </td><td>--   </td><td>--  </td><td>--     </td></tr>\n",
       "<tr><td><i style='opacity: 0.6'>271,207,573</i></td><td>626</td><td>2024-06-11 10:26:00</td><td>val   </td><td>19493.72</td><td>-1584.37</td><td>44889.56</td><td>--    </td><td>--    </td><td>--    </td><td>--      </td><td>--   </td><td>--  </td><td>--     </td></tr>\n",
       "<tr><td><i style='opacity: 0.6'>271,207,574</i></td><td>627</td><td>2024-06-11 10:27:00</td><td>val   </td><td>19493.25</td><td>-1584.44</td><td>44889.14</td><td>--    </td><td>--    </td><td>--    </td><td>--      </td><td>--   </td><td>--  </td><td>--     </td></tr>\n",
       "<tr><td><i style='opacity: 0.6'>271,207,575</i></td><td>628</td><td>2024-06-11 10:28:00</td><td>val   </td><td>19493.56</td><td>-1584.59</td><td>44888.86</td><td>--    </td><td>--    </td><td>--    </td><td>--      </td><td>--   </td><td>--  </td><td>--     </td></tr>\n",
       "<tr><td><i style='opacity: 0.6'>271,207,576</i></td><td>629</td><td>2024-06-11 10:29:00</td><td>val   </td><td>19494.02</td><td>-1585.07</td><td>44888.62</td><td>--    </td><td>--    </td><td>--    </td><td>--      </td><td>--   </td><td>--  </td><td>--     </td></tr>\n",
       "</tbody>\n",
       "</table>"
      ],
      "text/plain": [
       "#                 Date_UTC             Site    Bx        By        Bz        E1      E2      E3      E4        TFG    TE    Volts\n",
       "0            0    2016-12-20 00:00:02  arm     18284.94  -391.44   45724.56  569.8   441.36  212.21  53937.83  5.94   7.62  11.9\n",
       "1            1    2016-12-20 00:00:03  arm     18284.94  -391.44   45724.58  569.26  441.37  211.87  53938.05  5.94   7.65  11.8\n",
       "2            2    2016-12-20 00:00:04  arm     18284.94  -391.46   45724.58  568.77  441.38  211.7   53934.93  5.94   7.65  11.9\n",
       "3            3    2016-12-20 00:00:05  arm     18284.94  -391.46   45724.56  568.35  441.4   211.81  53925.4   5.94   7.62  11.9\n",
       "4            4    2016-12-20 00:00:06  arm     18284.93  -391.46   45724.54  567.94  441.4   212.15  53916.78  5.94   7.59  11.9\n",
       "...          ...  ...                  ...     ...       ...       ...       ...     ...     ...     ...       ...    ...   ...\n",
       "271,207,572  625  2024-06-11 10:25:00  val     19494.17  -1584.51  44889.77  --      --      --      --        --     --    --\n",
       "271,207,573  626  2024-06-11 10:26:00  val     19493.72  -1584.37  44889.56  --      --      --      --        --     --    --\n",
       "271,207,574  627  2024-06-11 10:27:00  val     19493.25  -1584.44  44889.14  --      --      --      --        --     --    --\n",
       "271,207,575  628  2024-06-11 10:28:00  val     19493.56  -1584.59  44888.86  --      --      --      --        --     --    --\n",
       "271,207,576  629  2024-06-11 10:29:00  val     19494.02  -1585.07  44888.62  --      --      --      --        --     --    --"
      ]
     },
     "execution_count": 3,
     "metadata": {},
     "output_type": "execute_result"
    }
   ],
   "source": [
    "data"
   ]
  },
  {
   "cell_type": "markdown",
   "metadata": {},
   "source": [
    "Alternatively you can use star syntax to load files with a certain ending from the folder"
   ]
  },
  {
   "cell_type": "code",
   "execution_count": 4,
   "metadata": {},
   "outputs": [],
   "source": [
    "data2= vx.open('*.csv')"
   ]
  },
  {
   "cell_type": "markdown",
   "metadata": {},
   "source": [
    "## The memory advantage\n",
    "These files combined are close 20 GB. We now have the loaded twice under different variables. If this were pandas we would struggle with loading it once while do other things on our computer. To load both would be impossible for my computer as it has 32 GB of ram.\n",
    "### How does vaex do it?\n",
    "The buzz word that vaex and others use is lazy loading. If you are truly interested in what that means that its worth doing reading because it seems almost like magic. The reality is lazy loading means quasi-loaded into memory. If we were to say bring a column properly into memory we would use evalaute on the column and then it would be in ram just like any other data type"
   ]
  },
  {
   "cell_type": "code",
   "execution_count": 5,
   "metadata": {},
   "outputs": [],
   "source": [
    "Bx= data2['Bx'].evaluate()"
   ]
  },
  {
   "cell_type": "markdown",
   "metadata": {},
   "source": [
    "Now Bx is loaded into memory. If that column takes up too much memory then doing this will crash our computer. So its worth considering this and avoiding it where ever possible.\n",
    "\n",
    "One option is to use just a subset of the data. Lets say we just want column Bx when its January.\n",
    "First we select the dataframe for that condition"
   ]
  },
  {
   "cell_type": "code",
   "execution_count": 6,
   "metadata": {},
   "outputs": [],
   "source": [
    "data2.select(data2.Date_UTC.dt.month==1)"
   ]
  },
  {
   "cell_type": "markdown",
   "metadata": {},
   "source": [
    "The we apply the selection when we run evaluate"
   ]
  },
  {
   "cell_type": "code",
   "execution_count": 7,
   "metadata": {},
   "outputs": [],
   "source": [
    "Bx= data2['Bx'].evaluate(selection=True)"
   ]
  },
  {
   "cell_type": "markdown",
   "metadata": {},
   "source": [
    "This all great but you can do all this pandas hdf files with a where clause so why is vaex more powerful is some instances. Well lets calculate the mean of column. In pandas this would not be possible without some sort of iteration and it would combursome and slow"
   ]
  },
  {
   "cell_type": "code",
   "execution_count": 8,
   "metadata": {},
   "outputs": [
    {
     "name": "stdout",
     "output_type": "stream",
     "text": [
      "18158.035546786905\n"
     ]
    }
   ],
   "source": [
    "Bx_mean= data2.Bx.mean()\n",
    "print(Bx_mean)"
   ]
  },
  {
   "cell_type": "markdown",
   "metadata": {},
   "source": [
    "This can performed on incredibly large datasets and we can use also the selection criteria we provided to find the average in January"
   ]
  },
  {
   "cell_type": "code",
   "execution_count": 9,
   "metadata": {},
   "outputs": [
    {
     "name": "stdout",
     "output_type": "stream",
     "text": [
      "18212.411063759442\n"
     ]
    }
   ],
   "source": [
    "Bx_mean= data2.Bx.mean(selection=True)\n",
    "print(Bx_mean)"
   ]
  },
  {
   "cell_type": "markdown",
   "metadata": {},
   "source": [
    "There are many functions we can provide such as min and max. The only function we might find useful that is missing is the median. This is because to perform the median we really need to have all the data in memory which vaex wants to avoid. They do provide an alternative which is median_approx which is based on a common used algorithm to is designed to negate these challenges but it does mean its not a perfect median. We can of course use evaluate on the selection criteria and use np.median if we wanted to be perfect.\n",
    "\n",
    "You may think that because we've not loaded it fully into memory we would be limited but we can peform most operations such as multiplying columns and assigning new ones. It can be used in a very similar way to pandas.\n"
   ]
  },
  {
   "cell_type": "code",
   "execution_count": 10,
   "metadata": {},
   "outputs": [],
   "source": [
    "data2['2Bx']= data2.Bx*2"
   ]
  },
  {
   "cell_type": "markdown",
   "metadata": {},
   "source": [
    "You might notice such opertations where we assign a new column are astoundingly quick and that is because vaex will often avoid actually carrying out the operation until its necessary. It just keeps track of everything thats happened. Until it needs to use when say you use evaluate or means or when you go to the save the file"
   ]
  },
  {
   "cell_type": "code",
   "execution_count": 14,
   "metadata": {},
   "outputs": [
    {
     "ename": "KeyboardInterrupt",
     "evalue": "",
     "output_type": "error",
     "traceback": [
      "\u001b[0;31m---------------------------------------------------------------------------\u001b[0m",
      "\u001b[0;31mKeyboardInterrupt\u001b[0m                         Traceback (most recent call last)",
      "\u001b[1;32m/home/simon/gits/Python_Tutorials/Vaex/intro_to_vaex.ipynb Cell 22\u001b[0m line \u001b[0;36m1\n\u001b[0;32m----> <a href='vscode-notebook-cell:/home/simon/gits/Python_Tutorials/Vaex/intro_to_vaex.ipynb#X30sZmlsZQ%3D%3D?line=0'>1</a>\u001b[0m data2[[\u001b[39m'\u001b[39;49m\u001b[39mDate_UTC\u001b[39;49m\u001b[39m'\u001b[39;49m, \u001b[39m'\u001b[39;49m\u001b[39mSite\u001b[39;49m\u001b[39m'\u001b[39;49m, \u001b[39m'\u001b[39;49m\u001b[39mBx\u001b[39;49m\u001b[39m'\u001b[39;49m, \u001b[39m'\u001b[39;49m\u001b[39mBy\u001b[39;49m\u001b[39m'\u001b[39;49m, \u001b[39m'\u001b[39;49m\u001b[39mBz\u001b[39;49m\u001b[39m'\u001b[39;49m, \u001b[39m'\u001b[39;49m\u001b[39m2Bx\u001b[39;49m\u001b[39m'\u001b[39;49m]]\u001b[39m.\u001b[39;49mexport_hdf5(\u001b[39m'\u001b[39;49m\u001b[39mnew_data.hdf5\u001b[39;49m\u001b[39m'\u001b[39;49m)\n",
      "File \u001b[0;32m~/anaconda3/envs/vscode/lib/python3.10/site-packages/vaex/dataframe.py:6950\u001b[0m, in \u001b[0;36mDataFrameLocal.export_hdf5\u001b[0;34m(self, path, byteorder, progress, chunk_size, parallel, column_count, writer_threads, group, mode)\u001b[0m\n\u001b[1;32m   6948\u001b[0m \u001b[39mwith\u001b[39;00m Writer(path\u001b[39m=\u001b[39mpath, group\u001b[39m=\u001b[39mgroup, mode\u001b[39m=\u001b[39mmode, byteorder\u001b[39m=\u001b[39mbyteorder) \u001b[39mas\u001b[39;00m writer:\n\u001b[1;32m   6949\u001b[0m     writer\u001b[39m.\u001b[39mlayout(\u001b[39mself\u001b[39m, progress\u001b[39m=\u001b[39mprogressbar_layout)\n\u001b[0;32m-> 6950\u001b[0m     writer\u001b[39m.\u001b[39;49mwrite(\n\u001b[1;32m   6951\u001b[0m         \u001b[39mself\u001b[39;49m,\n\u001b[1;32m   6952\u001b[0m         chunk_size\u001b[39m=\u001b[39;49mchunk_size,\n\u001b[1;32m   6953\u001b[0m         progress\u001b[39m=\u001b[39;49mprogressbar_write,\n\u001b[1;32m   6954\u001b[0m         column_count\u001b[39m=\u001b[39;49mcolumn_count,\n\u001b[1;32m   6955\u001b[0m         parallel\u001b[39m=\u001b[39;49mparallel,\n\u001b[1;32m   6956\u001b[0m         export_threads\u001b[39m=\u001b[39;49mwriter_threads)\n",
      "File \u001b[0;32m~/anaconda3/envs/vscode/lib/python3.10/site-packages/vaex/hdf5/writer.py:125\u001b[0m, in \u001b[0;36mWriter.write\u001b[0;34m(self, df, chunk_size, parallel, progress, column_count, export_threads)\u001b[0m\n\u001b[1;32m    123\u001b[0m \u001b[39mfor\u001b[39;00m column_names_subgroup \u001b[39min\u001b[39;00m vaex\u001b[39m.\u001b[39mitertools\u001b[39m.\u001b[39mchunked(column_names, column_count):\n\u001b[1;32m    124\u001b[0m     expressions \u001b[39m=\u001b[39m [\u001b[39mself\u001b[39m\u001b[39m.\u001b[39mcolumn_writers[name]\u001b[39m.\u001b[39mexpression \u001b[39mfor\u001b[39;00m name \u001b[39min\u001b[39;00m column_names_subgroup]\n\u001b[0;32m--> 125\u001b[0m     \u001b[39mfor\u001b[39;00m _i1, _i2, values \u001b[39min\u001b[39;00m df\u001b[39m.\u001b[39mevaluate(expressions, chunk_size\u001b[39m=\u001b[39mchunk_size, filtered\u001b[39m=\u001b[39m\u001b[39mTrue\u001b[39;00m, parallel\u001b[39m=\u001b[39mparallel, progress\u001b[39m=\u001b[39mprogressbar\u001b[39m.\u001b[39mhidden()):\n\u001b[1;32m    126\u001b[0m         \u001b[39mpass\u001b[39;00m\n\u001b[1;32m    127\u001b[0m         \u001b[39mdef\u001b[39;00m \u001b[39mwrite\u001b[39m(arg):\n",
      "File \u001b[0;32m~/anaconda3/envs/vscode/lib/python3.10/site-packages/vaex/dataframe.py:3143\u001b[0m, in \u001b[0;36mDataFrame.evaluate_iterator\u001b[0;34m(self, expression, s1, s2, out, selection, filtered, array_type, parallel, chunk_size, prefetch, progress)\u001b[0m\n\u001b[1;32m   3139\u001b[0m previous \u001b[39m=\u001b[39m executor\u001b[39m.\u001b[39msubmit(f, previous_i1, previous_i2)\n\u001b[1;32m   3140\u001b[0m \u001b[39mfor\u001b[39;00m l1, l2, i1, i2 \u001b[39min\u001b[39;00m \u001b[39miter\u001b[39m:\n\u001b[1;32m   3141\u001b[0m     \u001b[39m# and we submit the next job before returning the previous, so they run in parallel\u001b[39;00m\n\u001b[1;32m   3142\u001b[0m     \u001b[39m# but make sure the previous is done\u001b[39;00m\n\u001b[0;32m-> 3143\u001b[0m     previous_chunk \u001b[39m=\u001b[39m previous\u001b[39m.\u001b[39;49mresult()\n\u001b[1;32m   3144\u001b[0m     current \u001b[39m=\u001b[39m executor\u001b[39m.\u001b[39msubmit(f, i1, i2)\n\u001b[1;32m   3145\u001b[0m     \u001b[39myield\u001b[39;00m previous_l1, previous_l2, previous_chunk\n",
      "File \u001b[0;32m~/anaconda3/envs/vscode/lib/python3.10/concurrent/futures/_base.py:453\u001b[0m, in \u001b[0;36mFuture.result\u001b[0;34m(self, timeout)\u001b[0m\n\u001b[1;32m    450\u001b[0m \u001b[39melif\u001b[39;00m \u001b[39mself\u001b[39m\u001b[39m.\u001b[39m_state \u001b[39m==\u001b[39m FINISHED:\n\u001b[1;32m    451\u001b[0m     \u001b[39mreturn\u001b[39;00m \u001b[39mself\u001b[39m\u001b[39m.\u001b[39m__get_result()\n\u001b[0;32m--> 453\u001b[0m \u001b[39mself\u001b[39;49m\u001b[39m.\u001b[39;49m_condition\u001b[39m.\u001b[39;49mwait(timeout)\n\u001b[1;32m    455\u001b[0m \u001b[39mif\u001b[39;00m \u001b[39mself\u001b[39m\u001b[39m.\u001b[39m_state \u001b[39min\u001b[39;00m [CANCELLED, CANCELLED_AND_NOTIFIED]:\n\u001b[1;32m    456\u001b[0m     \u001b[39mraise\u001b[39;00m CancelledError()\n",
      "File \u001b[0;32m~/anaconda3/envs/vscode/lib/python3.10/threading.py:320\u001b[0m, in \u001b[0;36mCondition.wait\u001b[0;34m(self, timeout)\u001b[0m\n\u001b[1;32m    318\u001b[0m \u001b[39mtry\u001b[39;00m:    \u001b[39m# restore state no matter what (e.g., KeyboardInterrupt)\u001b[39;00m\n\u001b[1;32m    319\u001b[0m     \u001b[39mif\u001b[39;00m timeout \u001b[39mis\u001b[39;00m \u001b[39mNone\u001b[39;00m:\n\u001b[0;32m--> 320\u001b[0m         waiter\u001b[39m.\u001b[39;49macquire()\n\u001b[1;32m    321\u001b[0m         gotit \u001b[39m=\u001b[39m \u001b[39mTrue\u001b[39;00m\n\u001b[1;32m    322\u001b[0m     \u001b[39melse\u001b[39;00m:\n",
      "\u001b[0;31mKeyboardInterrupt\u001b[0m: "
     ]
    }
   ],
   "source": [
    "data2[['Date_UTC', 'Site', 'Bx', 'By', 'Bz', '2Bx']].export_hdf5('new_data.hdf5')"
   ]
  },
  {
   "cell_type": "markdown",
   "metadata": {},
   "source": [
    "In the last cell not only does it save it with the new column its also saving all the files combined into one new file"
   ]
  },
  {
   "cell_type": "code",
   "execution_count": 13,
   "metadata": {},
   "outputs": [
    {
     "data": {
      "text/html": [
       "<table>\n",
       "<thead>\n",
       "<tr><th>#                                      </th><th>   </th><th>Date_UTC           </th><th>Site  </th><th>Bx      </th><th>By      </th><th>Bz      </th><th>E1    </th><th>E2    </th><th>E3    </th><th>E4      </th><th>TFG  </th><th>TE  </th><th>Volts  </th><th>2Bx     </th></tr>\n",
       "</thead>\n",
       "<tbody>\n",
       "<tr><td><i style='opacity: 0.6'>0</i>          </td><td>0  </td><td>2016-12-20 00:00:02</td><td>arm   </td><td>18284.94</td><td>-391.44 </td><td>45724.56</td><td>569.8 </td><td>441.36</td><td>212.21</td><td>53937.83</td><td>5.94 </td><td>7.62</td><td>11.9   </td><td>36569.88</td></tr>\n",
       "<tr><td><i style='opacity: 0.6'>1</i>          </td><td>1  </td><td>2016-12-20 00:00:03</td><td>arm   </td><td>18284.94</td><td>-391.44 </td><td>45724.58</td><td>569.26</td><td>441.37</td><td>211.87</td><td>53938.05</td><td>5.94 </td><td>7.65</td><td>11.8   </td><td>36569.88</td></tr>\n",
       "<tr><td><i style='opacity: 0.6'>2</i>          </td><td>2  </td><td>2016-12-20 00:00:04</td><td>arm   </td><td>18284.94</td><td>-391.46 </td><td>45724.58</td><td>568.77</td><td>441.38</td><td>211.7 </td><td>53934.93</td><td>5.94 </td><td>7.65</td><td>11.9   </td><td>36569.88</td></tr>\n",
       "<tr><td><i style='opacity: 0.6'>3</i>          </td><td>3  </td><td>2016-12-20 00:00:05</td><td>arm   </td><td>18284.94</td><td>-391.46 </td><td>45724.56</td><td>568.35</td><td>441.4 </td><td>211.81</td><td>53925.4 </td><td>5.94 </td><td>7.62</td><td>11.9   </td><td>36569.88</td></tr>\n",
       "<tr><td><i style='opacity: 0.6'>4</i>          </td><td>4  </td><td>2016-12-20 00:00:06</td><td>arm   </td><td>18284.93</td><td>-391.46 </td><td>45724.54</td><td>567.94</td><td>441.4 </td><td>212.15</td><td>53916.78</td><td>5.94 </td><td>7.59</td><td>11.9   </td><td>36569.86</td></tr>\n",
       "<tr><td>...                                    </td><td>...</td><td>...                </td><td>...   </td><td>...     </td><td>...     </td><td>...     </td><td>...   </td><td>...   </td><td>...   </td><td>...     </td><td>...  </td><td>... </td><td>...    </td><td>...     </td></tr>\n",
       "<tr><td><i style='opacity: 0.6'>271,207,572</i></td><td>625</td><td>2024-06-11 10:25:00</td><td>val   </td><td>19494.17</td><td>-1584.51</td><td>44889.77</td><td>--    </td><td>--    </td><td>--    </td><td>--      </td><td>--   </td><td>--  </td><td>--     </td><td>38988.34</td></tr>\n",
       "<tr><td><i style='opacity: 0.6'>271,207,573</i></td><td>626</td><td>2024-06-11 10:26:00</td><td>val   </td><td>19493.72</td><td>-1584.37</td><td>44889.56</td><td>--    </td><td>--    </td><td>--    </td><td>--      </td><td>--   </td><td>--  </td><td>--     </td><td>38987.44</td></tr>\n",
       "<tr><td><i style='opacity: 0.6'>271,207,574</i></td><td>627</td><td>2024-06-11 10:27:00</td><td>val   </td><td>19493.25</td><td>-1584.44</td><td>44889.14</td><td>--    </td><td>--    </td><td>--    </td><td>--      </td><td>--   </td><td>--  </td><td>--     </td><td>38986.5 </td></tr>\n",
       "<tr><td><i style='opacity: 0.6'>271,207,575</i></td><td>628</td><td>2024-06-11 10:28:00</td><td>val   </td><td>19493.56</td><td>-1584.59</td><td>44888.86</td><td>--    </td><td>--    </td><td>--    </td><td>--      </td><td>--   </td><td>--  </td><td>--     </td><td>38987.12</td></tr>\n",
       "<tr><td><i style='opacity: 0.6'>271,207,576</i></td><td>629</td><td>2024-06-11 10:29:00</td><td>val   </td><td>19494.02</td><td>-1585.07</td><td>44888.62</td><td>--    </td><td>--    </td><td>--    </td><td>--      </td><td>--   </td><td>--  </td><td>--     </td><td>38988.04</td></tr>\n",
       "</tbody>\n",
       "</table>"
      ],
      "text/plain": [
       "#                 Date_UTC             Site    Bx        By        Bz        E1      E2      E3      E4        TFG    TE    Volts    2Bx\n",
       "0            0    2016-12-20 00:00:02  arm     18284.94  -391.44   45724.56  569.8   441.36  212.21  53937.83  5.94   7.62  11.9     36569.88\n",
       "1            1    2016-12-20 00:00:03  arm     18284.94  -391.44   45724.58  569.26  441.37  211.87  53938.05  5.94   7.65  11.8     36569.88\n",
       "2            2    2016-12-20 00:00:04  arm     18284.94  -391.46   45724.58  568.77  441.38  211.7   53934.93  5.94   7.65  11.9     36569.88\n",
       "3            3    2016-12-20 00:00:05  arm     18284.94  -391.46   45724.56  568.35  441.4   211.81  53925.4   5.94   7.62  11.9     36569.88\n",
       "4            4    2016-12-20 00:00:06  arm     18284.93  -391.46   45724.54  567.94  441.4   212.15  53916.78  5.94   7.59  11.9     36569.86\n",
       "...          ...  ...                  ...     ...       ...       ...       ...     ...     ...     ...       ...    ...   ...      ...\n",
       "271,207,572  625  2024-06-11 10:25:00  val     19494.17  -1584.51  44889.77  --      --      --      --        --     --    --       38988.34\n",
       "271,207,573  626  2024-06-11 10:26:00  val     19493.72  -1584.37  44889.56  --      --      --      --        --     --    --       38987.44\n",
       "271,207,574  627  2024-06-11 10:27:00  val     19493.25  -1584.44  44889.14  --      --      --      --        --     --    --       38986.5\n",
       "271,207,575  628  2024-06-11 10:28:00  val     19493.56  -1584.59  44888.86  --      --      --      --        --     --    --       38987.12\n",
       "271,207,576  629  2024-06-11 10:29:00  val     19494.02  -1585.07  44888.62  --      --      --      --        --     --    --       38988.04"
      ]
     },
     "execution_count": 13,
     "metadata": {},
     "output_type": "execute_result"
    }
   ],
   "source": [
    "data2"
   ]
  },
  {
   "cell_type": "markdown",
   "metadata": {},
   "source": [
    "### It doesn't end here\n",
    "\n",
    "I am now going to show you some of the functionality that I use frequently.\n",
    "Here is a dataset that is over 80 GB."
   ]
  },
  {
   "cell_type": "code",
   "execution_count": 2,
   "metadata": {},
   "outputs": [],
   "source": [
    "irid= vx.open('All_Iridium.hdf5')"
   ]
  },
  {
   "cell_type": "markdown",
   "metadata": {},
   "source": [
    "## Binning data\n",
    "We can apply binning to different operations such as min, max, sum, count, mean. In this example we have binned in two dimensions glon and glat. We can also apply selection criteria using selection=True if wanted to. The default output is a numpy array but I have asked for an xarray which is another package that is well designed for mutlidimensional data. We will return to xarray in another tutorial.\n",
    "\n",
    "The bining requires we give it what we want a mean of. We then provide what is going to used for binning [glon and glat]. We provide a shape (i.e. number of bins) we have 30 for glon and 20 for glat. and finally the limits (0 to 360 longitude) and (0, 90) in latitude which means we will be looking at the northern hemisphere."
   ]
  },
  {
   "cell_type": "code",
   "execution_count": 3,
   "metadata": {},
   "outputs": [],
   "source": [
    "ds= irid.mean(irid.Be, binby=[irid.glon, irid.glat], shape=(30, 20), limits=([0, 360], [0, 90]), array_type='xarray')"
   ]
  },
  {
   "cell_type": "markdown",
   "metadata": {},
   "source": [
    "We can use the inbuilt plotting function and create a polar plot of the average "
   ]
  },
  {
   "cell_type": "code",
   "execution_count": 14,
   "metadata": {},
   "outputs": [
    {
     "name": "stderr",
     "output_type": "stream",
     "text": [
      "/home/simon/gits/Plotting_Tools/src/Plotting_Tools/polar_plot.py:352: UserWarning: set_ticklabels() should only be used with a fixed number of ticks, i.e. after set_ticks() or using a FixedLocator.\n",
      "  ax.set_xticklabels(list(range(0, 360, 45)))\n"
     ]
    },
    {
     "name": "stdout",
     "output_type": "stream",
     "text": [
      "set xlim not supported \n",
      " (0.0, 360.0)\n",
      "set ylim not supported \n",
      " (0.0, 90.0)\n",
      "set_xlabel not supported \n",
      " ('glon',)\n",
      "set_ylabel not supported \n",
      " ('glat',)\n"
     ]
    },
    {
     "data": {
      "image/png": "[encoded data removed]",
      "text/plain": [
       "<Figure size 640x480 with 2 Axes>"
      ]
     },
     "metadata": {},
     "output_type": "display_data"
    }
   ],
   "source": [
    "import matplotlib.pyplot as plt\n",
    "from Plotting_Tools.polar_plot import polar\n",
    "fig=plt.figure()\n",
    "ax= polar(fig.add_subplot(projection='polar'), mode='geo')\n",
    "pc= ds.plot.pcolormesh('glon', 'glat', ax=ax, vmin=-5e1, vmax=5e1, cmap='seismic')"
   ]
  },
  {
   "cell_type": "markdown",
   "metadata": {},
   "source": [
    "## Joining Dataset\n",
    "We showed that we can load multiple datasets as one. But we can also join them in other ways. Lets load each magnetometer site seperately."
   ]
  },
  {
   "cell_type": "code",
   "execution_count": 3,
   "metadata": {},
   "outputs": [],
   "source": [
    "dun= vx.open('All_Dunsink.hdf5')\n",
    "arm= vx.open('All_Armagh.hdf5')"
   ]
  },
  {
   "cell_type": "markdown",
   "metadata": {},
   "source": [
    "Lets rename the columns of each vector so that we don't need the site column anymore"
   ]
  },
  {
   "cell_type": "code",
   "execution_count": 4,
   "metadata": {},
   "outputs": [],
   "source": [
    "dun.rename('Bx', 'Bx_dun')\n",
    "dun.rename('By', 'By_dun')\n",
    "dun.rename('Bz', 'Bz_dun')\n",
    "dun= dun.drop(['Site'])\n",
    "\n",
    "arm.rename('Bx', 'Bx_arm')\n",
    "arm.rename('By', 'By_arm')\n",
    "arm.rename('Bz', 'Bz_arm')\n",
    "arm= arm.drop(['Site'])\n"
   ]
  },
  {
   "cell_type": "markdown",
   "metadata": {},
   "source": [
    "Now lets join them on the datetime column"
   ]
  },
  {
   "cell_type": "code",
   "execution_count": 5,
   "metadata": {},
   "outputs": [],
   "source": [
    "joined= dun.join(arm, on='Date_UTC')"
   ]
  },
  {
   "cell_type": "markdown",
   "metadata": {},
   "source": [
    "We can now easily do operations across the two datasets"
   ]
  },
  {
   "cell_type": "code",
   "execution_count": 7,
   "metadata": {},
   "outputs": [],
   "source": [
    "joined['sum_Bx']=joined['Bx_arm']+joined['Bx_dun']"
   ]
  },
  {
   "cell_type": "markdown",
   "metadata": {},
   "source": [
    "We do some binining again. Here I am making two new columns month and year"
   ]
  },
  {
   "cell_type": "code",
   "execution_count": 9,
   "metadata": {},
   "outputs": [],
   "source": [
    "joined['Year']=joined['Date_UTC'].dt.year"
   ]
  },
  {
   "cell_type": "code",
   "execution_count": 10,
   "metadata": {},
   "outputs": [],
   "source": [
    "joined['Month']=joined['Date_UTC'].dt.month"
   ]
  },
  {
   "cell_type": "markdown",
   "metadata": {},
   "source": [
    "We can use bin_edges and bin_centers to check if the shape and limits produce the bins we want"
   ]
  },
  {
   "cell_type": "code",
   "execution_count": 44,
   "metadata": {},
   "outputs": [
    {
     "name": "stdout",
     "output_type": "stream",
     "text": [
      "Year Bin Centers: [2020. 2021. 2022. 2023. 2024. 2025.]\n",
      "Year Bin Edges: [2019.5 2020.5 2021.5 2022.5 2023.5 2024.5 2025.5]\n",
      "Month Bin Centers: [ 1.  2.  3.  4.  5.  6.  7.  8.  9. 10. 11. 12.]\n",
      "Month Bin Edges: [ 0.5  1.5  2.5  3.5  4.5  5.5  6.5  7.5  8.5  9.5 10.5 11.5 12.5]\n"
     ]
    }
   ],
   "source": [
    "print('Year Bin Centers:', joined.bin_centers(joined.Year, shape=6, limits=[2019.5, 2025.5]))\n",
    "print('Year Bin Edges:', joined.bin_edges(joined.Year, shape=6, limits=[2019.5, 2025.5]))\n",
    "print('Month Bin Centers:', joined.bin_centers(joined.Month, shape=12, limits=[.5, 12.5]))\n",
    "print('Month Bin Edges:', joined.bin_edges(joined.Month, shape=12, limits=[.5, 12.5]))\n"
   ]
  },
  {
   "cell_type": "markdown",
   "metadata": {},
   "source": [
    "Now we cna use those shapes and limits and bin the data. Again weo don't have to output xarray but I find it more useful"
   ]
  },
  {
   "cell_type": "code",
   "execution_count": 28,
   "metadata": {},
   "outputs": [],
   "source": [
    "ds= joined.min(joined.sum_Bx, binby=[joined.Year, joined.Month], shape=(6, 12), limits=([2019.5, 2025.5], [.5, 12.5]), array_type='xarray')\n",
    "ds.name='min'\n",
    "ds2= joined.max(joined.sum_Bx, binby=[joined.Year, joined.Month], shape=(6, 12), limits=([2019.5, 2025.5], [.5, 12.5]), array_type='xarray')\n",
    "ds2.name='max'"
   ]
  },
  {
   "cell_type": "markdown",
   "metadata": {},
   "source": [
    "We combine the two dataarrays into one dataset"
   ]
  },
  {
   "cell_type": "code",
   "execution_count": 38,
   "metadata": {},
   "outputs": [],
   "source": [
    "from xarray import Dataset\n",
    "import numpy as np\n",
    "ds3 = Dataset({\n",
    "    \"min\": ds,\n",
    "    \"max\": ds2})"
   ]
  },
  {
   "cell_type": "markdown",
   "metadata": {},
   "source": [
    "There are some cases of infinite valus which I solve using this line. (it makes them nans instead)"
   ]
  },
  {
   "cell_type": "code",
   "execution_count": 39,
   "metadata": {},
   "outputs": [
    {
     "data": {
      "text/html": [
       "<div><svg style=\"position: absolute; width: 0; height: 0; overflow: hidden\">\n",
       "<defs>\n",
       "<symbol id=\"icon-database\" viewBox=\"0 0 32 32\">\n",
       "<path d=\"M16 0c-8.837 0-16 2.239-16 5v4c0 2.761 7.163 5 16 5s16-2.239 16-5v-4c0-2.761-7.163-5-16-5z\"></path>\n",
       "<path d=\"M16 17c-8.837 0-16-2.239-16-5v6c0 2.761 7.163 5 16 5s16-2.239 16-5v-6c0 2.761-7.163 5-16 5z\"></path>\n",
       "<path d=\"M16 26c-8.837 0-16-2.239-16-5v6c0 2.761 7.163 5 16 5s16-2.239 16-5v-6c0 2.761-7.163 5-16 5z\"></path>\n",
       "</symbol>\n",
       "<symbol id=\"icon-file-text2\" viewBox=\"0 0 32 32\">\n",
       "<path d=\"M28.681 7.159c-0.694-0.947-1.662-2.053-2.724-3.116s-2.169-2.030-3.116-2.724c-1.612-1.182-2.393-1.319-2.841-1.319h-15.5c-1.378 0-2.5 1.121-2.5 2.5v27c0 1.378 1.122 2.5 2.5 2.5h23c1.378 0 2.5-1.122 2.5-2.5v-19.5c0-0.448-0.137-1.23-1.319-2.841zM24.543 5.457c0.959 0.959 1.712 1.825 2.268 2.543h-4.811v-4.811c0.718 0.556 1.584 1.309 2.543 2.268zM28 29.5c0 0.271-0.229 0.5-0.5 0.5h-23c-0.271 0-0.5-0.229-0.5-0.5v-27c0-0.271 0.229-0.5 0.5-0.5 0 0 15.499-0 15.5 0v7c0 0.552 0.448 1 1 1h7v19.5z\"></path>\n",
       "<path d=\"M23 26h-14c-0.552 0-1-0.448-1-1s0.448-1 1-1h14c0.552 0 1 0.448 1 1s-0.448 1-1 1z\"></path>\n",
       "<path d=\"M23 22h-14c-0.552 0-1-0.448-1-1s0.448-1 1-1h14c0.552 0 1 0.448 1 1s-0.448 1-1 1z\"></path>\n",
       "<path d=\"M23 18h-14c-0.552 0-1-0.448-1-1s0.448-1 1-1h14c0.552 0 1 0.448 1 1s-0.448 1-1 1z\"></path>\n",
       "</symbol>\n",
       "</defs>\n",
       "</svg>\n",
       "<style>/* CSS stylesheet for displaying xarray objects in jupyterlab.\n",
       " *\n",
       " */\n",
       "\n",
       ":root {\n",
       "  --xr-font-color0: var(--jp-content-font-color0, rgba(0, 0, 0, 1));\n",
       "  --xr-font-color2: var(--jp-content-font-color2, rgba(0, 0, 0, 0.54));\n",
       "  --xr-font-color3: var(--jp-content-font-color3, rgba(0, 0, 0, 0.38));\n",
       "  --xr-border-color: var(--jp-border-color2, #e0e0e0);\n",
       "  --xr-disabled-color: var(--jp-layout-color3, #bdbdbd);\n",
       "  --xr-background-color: var(--jp-layout-color0, white);\n",
       "  --xr-background-color-row-even: var(--jp-layout-color1, white);\n",
       "  --xr-background-color-row-odd: var(--jp-layout-color2, #eeeeee);\n",
       "}\n",
       "\n",
       "html[theme=dark],\n",
       "body[data-theme=dark],\n",
       "body.vscode-dark {\n",
       "  --xr-font-color0: rgba(255, 255, 255, 1);\n",
       "  --xr-font-color2: rgba(255, 255, 255, 0.54);\n",
       "  --xr-font-color3: rgba(255, 255, 255, 0.38);\n",
       "  --xr-border-color: #1F1F1F;\n",
       "  --xr-disabled-color: #515151;\n",
       "  --xr-background-color: #111111;\n",
       "  --xr-background-color-row-even: #111111;\n",
       "  --xr-background-color-row-odd: #313131;\n",
       "}\n",
       "\n",
       ".xr-wrap {\n",
       "  display: block !important;\n",
       "  min-width: 300px;\n",
       "  max-width: 700px;\n",
       "}\n",
       "\n",
       ".xr-text-repr-fallback {\n",
       "  /* fallback to plain text repr when CSS is not injected (untrusted notebook) */\n",
       "  display: none;\n",
       "}\n",
       "\n",
       ".xr-header {\n",
       "  padding-top: 6px;\n",
       "  padding-bottom: 6px;\n",
       "  margin-bottom: 4px;\n",
       "  border-bottom: solid 1px var(--xr-border-color);\n",
       "}\n",
       "\n",
       ".xr-header > div,\n",
       ".xr-header > ul {\n",
       "  display: inline;\n",
       "  margin-top: 0;\n",
       "  margin-bottom: 0;\n",
       "}\n",
       "\n",
       ".xr-obj-type,\n",
       ".xr-array-name {\n",
       "  margin-left: 2px;\n",
       "  margin-right: 10px;\n",
       "}\n",
       "\n",
       ".xr-obj-type {\n",
       "  color: var(--xr-font-color2);\n",
       "}\n",
       "\n",
       ".xr-sections {\n",
       "  padding-left: 0 !important;\n",
       "  display: grid;\n",
       "  grid-template-columns: 150px auto auto 1fr 20px 20px;\n",
       "}\n",
       "\n",
       ".xr-section-item {\n",
       "  display: contents;\n",
       "}\n",
       "\n",
       ".xr-section-item input {\n",
       "  display: none;\n",
       "}\n",
       "\n",
       ".xr-section-item input + label {\n",
       "  color: var(--xr-disabled-color);\n",
       "}\n",
       "\n",
       ".xr-section-item input:enabled + label {\n",
       "  cursor: pointer;\n",
       "  color: var(--xr-font-color2);\n",
       "}\n",
       "\n",
       ".xr-section-item input:enabled + label:hover {\n",
       "  color: var(--xr-font-color0);\n",
       "}\n",
       "\n",
       ".xr-section-summary {\n",
       "  grid-column: 1;\n",
       "  color: var(--xr-font-color2);\n",
       "  font-weight: 500;\n",
       "}\n",
       "\n",
       ".xr-section-summary > span {\n",
       "  display: inline-block;\n",
       "  padding-left: 0.5em;\n",
       "}\n",
       "\n",
       ".xr-section-summary-in:disabled + label {\n",
       "  color: var(--xr-font-color2);\n",
       "}\n",
       "\n",
       ".xr-section-summary-in + label:before {\n",
       "  display: inline-block;\n",
       "  content: '►';\n",
       "  font-size: 11px;\n",
       "  width: 15px;\n",
       "  text-align: center;\n",
       "}\n",
       "\n",
       ".xr-section-summary-in:disabled + label:before {\n",
       "  color: var(--xr-disabled-color);\n",
       "}\n",
       "\n",
       ".xr-section-summary-in:checked + label:before {\n",
       "  content: '▼';\n",
       "}\n",
       "\n",
       ".xr-section-summary-in:checked + label > span {\n",
       "  display: none;\n",
       "}\n",
       "\n",
       ".xr-section-summary,\n",
       ".xr-section-inline-details {\n",
       "  padding-top: 4px;\n",
       "  padding-bottom: 4px;\n",
       "}\n",
       "\n",
       ".xr-section-inline-details {\n",
       "  grid-column: 2 / -1;\n",
       "}\n",
       "\n",
       ".xr-section-details {\n",
       "  display: none;\n",
       "  grid-column: 1 / -1;\n",
       "  margin-bottom: 5px;\n",
       "}\n",
       "\n",
       ".xr-section-summary-in:checked ~ .xr-section-details {\n",
       "  display: contents;\n",
       "}\n",
       "\n",
       ".xr-array-wrap {\n",
       "  grid-column: 1 / -1;\n",
       "  display: grid;\n",
       "  grid-template-columns: 20px auto;\n",
       "}\n",
       "\n",
       ".xr-array-wrap > label {\n",
       "  grid-column: 1;\n",
       "  vertical-align: top;\n",
       "}\n",
       "\n",
       ".xr-preview {\n",
       "  color: var(--xr-font-color3);\n",
       "}\n",
       "\n",
       ".xr-array-preview,\n",
       ".xr-array-data {\n",
       "  padding: 0 5px !important;\n",
       "  grid-column: 2;\n",
       "}\n",
       "\n",
       ".xr-array-data,\n",
       ".xr-array-in:checked ~ .xr-array-preview {\n",
       "  display: none;\n",
       "}\n",
       "\n",
       ".xr-array-in:checked ~ .xr-array-data,\n",
       ".xr-array-preview {\n",
       "  display: inline-block;\n",
       "}\n",
       "\n",
       ".xr-dim-list {\n",
       "  display: inline-block !important;\n",
       "  list-style: none;\n",
       "  padding: 0 !important;\n",
       "  margin: 0;\n",
       "}\n",
       "\n",
       ".xr-dim-list li {\n",
       "  display: inline-block;\n",
       "  padding: 0;\n",
       "  margin: 0;\n",
       "}\n",
       "\n",
       ".xr-dim-list:before {\n",
       "  content: '(';\n",
       "}\n",
       "\n",
       ".xr-dim-list:after {\n",
       "  content: ')';\n",
       "}\n",
       "\n",
       ".xr-dim-list li:not(:last-child):after {\n",
       "  content: ',';\n",
       "  padding-right: 5px;\n",
       "}\n",
       "\n",
       ".xr-has-index {\n",
       "  font-weight: bold;\n",
       "}\n",
       "\n",
       ".xr-var-list,\n",
       ".xr-var-item {\n",
       "  display: contents;\n",
       "}\n",
       "\n",
       ".xr-var-item > div,\n",
       ".xr-var-item label,\n",
       ".xr-var-item > .xr-var-name span {\n",
       "  background-color: var(--xr-background-color-row-even);\n",
       "  margin-bottom: 0;\n",
       "}\n",
       "\n",
       ".xr-var-item > .xr-var-name:hover span {\n",
       "  padding-right: 5px;\n",
       "}\n",
       "\n",
       ".xr-var-list > li:nth-child(odd) > div,\n",
       ".xr-var-list > li:nth-child(odd) > label,\n",
       ".xr-var-list > li:nth-child(odd) > .xr-var-name span {\n",
       "  background-color: var(--xr-background-color-row-odd);\n",
       "}\n",
       "\n",
       ".xr-var-name {\n",
       "  grid-column: 1;\n",
       "}\n",
       "\n",
       ".xr-var-dims {\n",
       "  grid-column: 2;\n",
       "}\n",
       "\n",
       ".xr-var-dtype {\n",
       "  grid-column: 3;\n",
       "  text-align: right;\n",
       "  color: var(--xr-font-color2);\n",
       "}\n",
       "\n",
       ".xr-var-preview {\n",
       "  grid-column: 4;\n",
       "}\n",
       "\n",
       ".xr-index-preview {\n",
       "  grid-column: 2 / 5;\n",
       "  color: var(--xr-font-color2);\n",
       "}\n",
       "\n",
       ".xr-var-name,\n",
       ".xr-var-dims,\n",
       ".xr-var-dtype,\n",
       ".xr-preview,\n",
       ".xr-attrs dt {\n",
       "  white-space: nowrap;\n",
       "  overflow: hidden;\n",
       "  text-overflow: ellipsis;\n",
       "  padding-right: 10px;\n",
       "}\n",
       "\n",
       ".xr-var-name:hover,\n",
       ".xr-var-dims:hover,\n",
       ".xr-var-dtype:hover,\n",
       ".xr-attrs dt:hover {\n",
       "  overflow: visible;\n",
       "  width: auto;\n",
       "  z-index: 1;\n",
       "}\n",
       "\n",
       ".xr-var-attrs,\n",
       ".xr-var-data,\n",
       ".xr-index-data {\n",
       "  display: none;\n",
       "  background-color: var(--xr-background-color) !important;\n",
       "  padding-bottom: 5px !important;\n",
       "}\n",
       "\n",
       ".xr-var-attrs-in:checked ~ .xr-var-attrs,\n",
       ".xr-var-data-in:checked ~ .xr-var-data,\n",
       ".xr-index-data-in:checked ~ .xr-index-data {\n",
       "  display: block;\n",
       "}\n",
       "\n",
       ".xr-var-data > table {\n",
       "  float: right;\n",
       "}\n",
       "\n",
       ".xr-var-name span,\n",
       ".xr-var-data,\n",
       ".xr-index-name div,\n",
       ".xr-index-data,\n",
       ".xr-attrs {\n",
       "  padding-left: 25px !important;\n",
       "}\n",
       "\n",
       ".xr-attrs,\n",
       ".xr-var-attrs,\n",
       ".xr-var-data,\n",
       ".xr-index-data {\n",
       "  grid-column: 1 / -1;\n",
       "}\n",
       "\n",
       "dl.xr-attrs {\n",
       "  padding: 0;\n",
       "  margin: 0;\n",
       "  display: grid;\n",
       "  grid-template-columns: 125px auto;\n",
       "}\n",
       "\n",
       ".xr-attrs dt,\n",
       ".xr-attrs dd {\n",
       "  padding: 0;\n",
       "  margin: 0;\n",
       "  float: left;\n",
       "  padding-right: 10px;\n",
       "  width: auto;\n",
       "}\n",
       "\n",
       ".xr-attrs dt {\n",
       "  font-weight: normal;\n",
       "  grid-column: 1;\n",
       "}\n",
       "\n",
       ".xr-attrs dt:hover span {\n",
       "  display: inline-block;\n",
       "  background: var(--xr-background-color);\n",
       "  padding-right: 10px;\n",
       "}\n",
       "\n",
       ".xr-attrs dd {\n",
       "  grid-column: 2;\n",
       "  white-space: pre-wrap;\n",
       "  word-break: break-all;\n",
       "}\n",
       "\n",
       ".xr-icon-database,\n",
       ".xr-icon-file-text2,\n",
       ".xr-no-icon {\n",
       "  display: inline-block;\n",
       "  vertical-align: middle;\n",
       "  width: 1em;\n",
       "  height: 1.5em !important;\n",
       "  stroke-width: 0;\n",
       "  stroke: currentColor;\n",
       "  fill: currentColor;\n",
       "}\n",
       "</style><pre class='xr-text-repr-fallback'>&lt;xarray.Dataset&gt;\n",
       "Dimensions:  (Year: 6, Month: 12)\n",
       "Coordinates:\n",
       "  * Year     (Year) float64 2.02e+03 2.021e+03 2.022e+03 ... 2.024e+03 2.025e+03\n",
       "  * Month    (Month) float64 1.0 2.0 3.0 4.0 5.0 6.0 7.0 8.0 9.0 10.0 11.0 12.0\n",
       "Data variables:\n",
       "    min      (Year, Month) float64 nan nan nan nan nan ... nan nan nan nan nan\n",
       "    max      (Year, Month) float64 nan nan nan nan nan ... nan nan nan nan nan</pre><div class='xr-wrap' style='display:none'><div class='xr-header'><div class='xr-obj-type'>xarray.Dataset</div></div><ul class='xr-sections'><li class='xr-section-item'><input id='section-27db2041-0961-475c-aea8-ce1fc00664ef' class='xr-section-summary-in' type='checkbox' disabled ><label for='section-27db2041-0961-475c-aea8-ce1fc00664ef' class='xr-section-summary'  title='Expand/collapse section'>Dimensions:</label><div class='xr-section-inline-details'><ul class='xr-dim-list'><li><span class='xr-has-index'>Year</span>: 6</li><li><span class='xr-has-index'>Month</span>: 12</li></ul></div><div class='xr-section-details'></div></li><li class='xr-section-item'><input id='section-358c6318-5363-4a3a-8077-9b2bd392e1c7' class='xr-section-summary-in' type='checkbox'  checked><label for='section-358c6318-5363-4a3a-8077-9b2bd392e1c7' class='xr-section-summary' >Coordinates: <span>(2)</span></label><div class='xr-section-inline-details'></div><div class='xr-section-details'><ul class='xr-var-list'><li class='xr-var-item'><div class='xr-var-name'><span class='xr-has-index'>Year</span></div><div class='xr-var-dims'>(Year)</div><div class='xr-var-dtype'>float64</div><div class='xr-var-preview xr-preview'>2.02e+03 2.021e+03 ... 2.025e+03</div><input id='attrs-2b5f164b-9bbd-4656-9282-2309df12c452' class='xr-var-attrs-in' type='checkbox' disabled><label for='attrs-2b5f164b-9bbd-4656-9282-2309df12c452' title='Show/Hide attributes'><svg class='icon xr-icon-file-text2'><use xlink:href='#icon-file-text2'></use></svg></label><input id='data-20eb27c5-3f4e-4999-84e4-b8cd3f17fa51' class='xr-var-data-in' type='checkbox'><label for='data-20eb27c5-3f4e-4999-84e4-b8cd3f17fa51' title='Show/Hide data repr'><svg class='icon xr-icon-database'><use xlink:href='#icon-database'></use></svg></label><div class='xr-var-attrs'><dl class='xr-attrs'></dl></div><div class='xr-var-data'><pre>array([2020., 2021., 2022., 2023., 2024., 2025.])</pre></div></li><li class='xr-var-item'><div class='xr-var-name'><span class='xr-has-index'>Month</span></div><div class='xr-var-dims'>(Month)</div><div class='xr-var-dtype'>float64</div><div class='xr-var-preview xr-preview'>1.0 2.0 3.0 4.0 ... 10.0 11.0 12.0</div><input id='attrs-66e50bf6-9ff2-494d-97c3-2fb14a9bb8d5' class='xr-var-attrs-in' type='checkbox' disabled><label for='attrs-66e50bf6-9ff2-494d-97c3-2fb14a9bb8d5' title='Show/Hide attributes'><svg class='icon xr-icon-file-text2'><use xlink:href='#icon-file-text2'></use></svg></label><input id='data-83feaf68-e048-4752-9eec-65ee315faf10' class='xr-var-data-in' type='checkbox'><label for='data-83feaf68-e048-4752-9eec-65ee315faf10' title='Show/Hide data repr'><svg class='icon xr-icon-database'><use xlink:href='#icon-database'></use></svg></label><div class='xr-var-attrs'><dl class='xr-attrs'></dl></div><div class='xr-var-data'><pre>array([ 1.,  2.,  3.,  4.,  5.,  6.,  7.,  8.,  9., 10., 11., 12.])</pre></div></li></ul></div></li><li class='xr-section-item'><input id='section-0a6b075d-a49e-494f-9921-6289ad49ca2a' class='xr-section-summary-in' type='checkbox'  checked><label for='section-0a6b075d-a49e-494f-9921-6289ad49ca2a' class='xr-section-summary' >Data variables: <span>(2)</span></label><div class='xr-section-inline-details'></div><div class='xr-section-details'><ul class='xr-var-list'><li class='xr-var-item'><div class='xr-var-name'><span>min</span></div><div class='xr-var-dims'>(Year, Month)</div><div class='xr-var-dtype'>float64</div><div class='xr-var-preview xr-preview'>nan nan nan nan ... nan nan nan nan</div><input id='attrs-9fe5db2b-db0d-4fd3-9e19-43d04211e1e4' class='xr-var-attrs-in' type='checkbox' disabled><label for='attrs-9fe5db2b-db0d-4fd3-9e19-43d04211e1e4' title='Show/Hide attributes'><svg class='icon xr-icon-file-text2'><use xlink:href='#icon-file-text2'></use></svg></label><input id='data-5521700b-b71b-430d-9b04-040a6d0ba0bd' class='xr-var-data-in' type='checkbox'><label for='data-5521700b-b71b-430d-9b04-040a6d0ba0bd' title='Show/Hide data repr'><svg class='icon xr-icon-database'><use xlink:href='#icon-database'></use></svg></label><div class='xr-var-attrs'><dl class='xr-attrs'></dl></div><div class='xr-var-data'><pre>array([[      nan,       nan,       nan,       nan,       nan,       nan,\n",
       "              nan,       nan,       nan,       nan,       nan,       nan],\n",
       "       [      nan,  36470.81,       nan,  35190.81,  32469.19,  33822.72,\n",
       "         33899.73,  32869.03, -36148.36, -59483.7 , -40549.24, -48383.41],\n",
       "       [-41672.86, -64010.1 , -61311.49, -65940.05, -46061.11, -53706.13,\n",
       "        -56675.19, -66232.02, -62886.75, -41959.87, -54364.43, -28518.43],\n",
       "       [-49962.73, -60724.94, -44890.56,       nan, -62383.62, -62361.97,\n",
       "        -56272.05, -64277.62, -59040.42, -66170.33, -62939.96, -64441.56],\n",
       "       [-66211.09,       nan,       nan,       nan,       nan,       nan,\n",
       "              nan,       nan,       nan,       nan,       nan,       nan],\n",
       "       [      nan,       nan,       nan,       nan,       nan,       nan,\n",
       "              nan,       nan,       nan,       nan,       nan,       nan]])</pre></div></li><li class='xr-var-item'><div class='xr-var-name'><span>max</span></div><div class='xr-var-dims'>(Year, Month)</div><div class='xr-var-dtype'>float64</div><div class='xr-var-preview xr-preview'>nan nan nan nan ... nan nan nan nan</div><input id='attrs-96fb422d-3f11-48d3-b80e-da82f2afca0e' class='xr-var-attrs-in' type='checkbox' disabled><label for='attrs-96fb422d-3f11-48d3-b80e-da82f2afca0e' title='Show/Hide attributes'><svg class='icon xr-icon-file-text2'><use xlink:href='#icon-file-text2'></use></svg></label><input id='data-eb7267ac-c5bf-4f8a-924c-cb99799c2ef9' class='xr-var-data-in' type='checkbox'><label for='data-eb7267ac-c5bf-4f8a-924c-cb99799c2ef9' title='Show/Hide data repr'><svg class='icon xr-icon-database'><use xlink:href='#icon-database'></use></svg></label><div class='xr-var-attrs'><dl class='xr-attrs'></dl></div><div class='xr-var-data'><pre>array([[      nan,       nan,       nan,       nan,       nan,       nan,\n",
       "              nan,       nan,       nan,       nan,       nan,       nan],\n",
       "       [      nan,  36547.64,       nan,  36633.72,  37121.95,  37047.06,\n",
       "         36744.39,  36780.52,  95817.75,  96107.83,  82164.34,  95909.81],\n",
       "       [ 95822.74,  91116.43,  97808.36,  98059.81,  99853.55, 100932.13,\n",
       "         95656.31,  95667.97,  99059.82,  93330.45,  95720.85,  99612.5 ],\n",
       "       [ 96610.42,  99150.39,  95989.7 ,       nan,  95286.19, 100919.93,\n",
       "         95641.01,  95006.27,  98234.38,  93162.29,  94965.72, 100297.01],\n",
       "       [ 94919.46,       nan,       nan,       nan,       nan,       nan,\n",
       "              nan,       nan,       nan,       nan,       nan,       nan],\n",
       "       [      nan,       nan,       nan,       nan,       nan,       nan,\n",
       "              nan,       nan,       nan,       nan,       nan,       nan]])</pre></div></li></ul></div></li><li class='xr-section-item'><input id='section-cb7903c2-d56a-4f87-9103-4cc9e59f059c' class='xr-section-summary-in' type='checkbox'  ><label for='section-cb7903c2-d56a-4f87-9103-4cc9e59f059c' class='xr-section-summary' >Indexes: <span>(2)</span></label><div class='xr-section-inline-details'></div><div class='xr-section-details'><ul class='xr-var-list'><li class='xr-var-item'><div class='xr-index-name'><div>Year</div></div><div class='xr-index-preview'>PandasIndex</div><div></div><input id='index-e5ce35c6-e02a-4621-93a1-9922f843fe75' class='xr-index-data-in' type='checkbox'/><label for='index-e5ce35c6-e02a-4621-93a1-9922f843fe75' title='Show/Hide index repr'><svg class='icon xr-icon-database'><use xlink:href='#icon-database'></use></svg></label><div class='xr-index-data'><pre>PandasIndex(Index([2020.0, 2021.0, 2022.0, 2023.0, 2024.0, 2025.0], dtype=&#x27;float64&#x27;, name=&#x27;Year&#x27;))</pre></div></li><li class='xr-var-item'><div class='xr-index-name'><div>Month</div></div><div class='xr-index-preview'>PandasIndex</div><div></div><input id='index-be90d89d-c64a-4142-adba-ef81418b0329' class='xr-index-data-in' type='checkbox'/><label for='index-be90d89d-c64a-4142-adba-ef81418b0329' title='Show/Hide index repr'><svg class='icon xr-icon-database'><use xlink:href='#icon-database'></use></svg></label><div class='xr-index-data'><pre>PandasIndex(Index([1.0, 2.0, 3.0, 4.0, 5.0, 6.0, 7.0, 8.0, 9.0, 10.0, 11.0, 12.0], dtype=&#x27;float64&#x27;, name=&#x27;Month&#x27;))</pre></div></li></ul></div></li><li class='xr-section-item'><input id='section-6722b6be-d720-44c0-a1b5-a883cd60a819' class='xr-section-summary-in' type='checkbox' disabled ><label for='section-6722b6be-d720-44c0-a1b5-a883cd60a819' class='xr-section-summary'  title='Expand/collapse section'>Attributes: <span>(0)</span></label><div class='xr-section-inline-details'></div><div class='xr-section-details'><dl class='xr-attrs'></dl></div></li></ul></div></div>"
      ],
      "text/plain": [
       "<xarray.Dataset>\n",
       "Dimensions:  (Year: 6, Month: 12)\n",
       "Coordinates:\n",
       "  * Year     (Year) float64 2.02e+03 2.021e+03 2.022e+03 ... 2.024e+03 2.025e+03\n",
       "  * Month    (Month) float64 1.0 2.0 3.0 4.0 5.0 6.0 7.0 8.0 9.0 10.0 11.0 12.0\n",
       "Data variables:\n",
       "    min      (Year, Month) float64 nan nan nan nan nan ... nan nan nan nan nan\n",
       "    max      (Year, Month) float64 nan nan nan nan nan ... nan nan nan nan nan"
      ]
     },
     "execution_count": 39,
     "metadata": {},
     "output_type": "execute_result"
    }
   ],
   "source": [
    "ds3= ds3.where(np.isfinite(ds3))"
   ]
  },
  {
   "cell_type": "markdown",
   "metadata": {},
   "source": [
    "Now we can pick which metric we want to plot and plot it as a pcolormesh. There are many other built in plots for xarray if we wanted to use them"
   ]
  },
  {
   "cell_type": "code",
   "execution_count": 43,
   "metadata": {},
   "outputs": [
    {
     "data": {
      "text/plain": [
       "<matplotlib.collections.QuadMesh at 0x72d97fd632e0>"
      ]
     },
     "execution_count": 43,
     "metadata": {},
     "output_type": "execute_result"
    },
    {
     "data": {
      "image/png": "[encoded data removed]",
      "text/plain": [
       "<Figure size 640x480 with 2 Axes>"
      ]
     },
     "metadata": {},
     "output_type": "display_data"
    }
   ],
   "source": [
    "ds3['max'].plot.pcolormesh('Year', 'Month')"
   ]
  }
 ],
 "metadata": {
  "language_info": {
   "name": "python"
  }
 },
 "nbformat": 4,
 "nbformat_minor": 2
}
