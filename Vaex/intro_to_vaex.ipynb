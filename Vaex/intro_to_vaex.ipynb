{
 "cells": [
  {
   "cell_type": "markdown",
   "metadata": {},
   "source": [
    "# Introduction to Vaex\n",
    "- https://vaex.readthedocs.io/en/latest/\n",
    "- Vaex is a dataframe package with a number of advantages compared to pandas\n",
    "## So lets get started\n",
    "In this notebook we will try and cover how to use vaex and its advantages over other data packages\n",
    "# Imports\n",
    "First we need to import the vaex package. You are unlikely to already have this package installed so for those using conda: cona install conda-forge:vaex\n"
   ]
  },
  {
   "cell_type": "code",
   "execution_count": 1,
   "metadata": {},
   "outputs": [],
   "source": [
    "import vaex as vx"
   ]
  },
  {
   "cell_type": "markdown",
   "metadata": {},
   "source": [
    "## Combining datasets\n",
    "Vaex has the ability to open multiple datasets and combine them into one when it opens them\n",
    "### For example:\n",
    "We could provide a list of files"
   ]
  },
  {
   "cell_type": "code",
   "execution_count": 2,
   "metadata": {},
   "outputs": [],
   "source": [
    "files= ['./Magnetometer_Data/All_Armagh.csv', './Magnetometer_Data/All_Dunsink.csv', './Magnetometer_Data/All_Valentia.csv']\n",
    "data= vx.open(files)"
   ]
  },
  {
   "cell_type": "markdown",
   "metadata": {},
   "source": [
    "All these files are now combined"
   ]
  },
  {
   "cell_type": "code",
   "execution_count": 3,
   "metadata": {},
   "outputs": [
    {
     "data": {
      "text/html": [
       "<table>\n",
       "<thead>\n",
       "<tr><th>#                                      </th><th>   </th><th>Date_UTC           </th><th>Site  </th><th>Bx      </th><th>By      </th><th>Bz      </th><th>E1    </th><th>E2    </th><th>E3    </th><th>E4      </th><th>TFG  </th><th>TE  </th><th>Volts  </th></tr>\n",
       "</thead>\n",
       "<tbody>\n",
       "<tr><td><i style='opacity: 0.6'>0</i>          </td><td>0  </td><td>2016-12-20 00:00:02</td><td>arm   </td><td>18284.94</td><td>-391.44 </td><td>45724.56</td><td>569.8 </td><td>441.36</td><td>212.21</td><td>53937.83</td><td>5.94 </td><td>7.62</td><td>11.9   </td></tr>\n",
       "<tr><td><i style='opacity: 0.6'>1</i>          </td><td>1  </td><td>2016-12-20 00:00:03</td><td>arm   </td><td>18284.94</td><td>-391.44 </td><td>45724.58</td><td>569.26</td><td>441.37</td><td>211.87</td><td>53938.05</td><td>5.94 </td><td>7.65</td><td>11.8   </td></tr>\n",
       "<tr><td><i style='opacity: 0.6'>2</i>          </td><td>2  </td><td>2016-12-20 00:00:04</td><td>arm   </td><td>18284.94</td><td>-391.46 </td><td>45724.58</td><td>568.77</td><td>441.38</td><td>211.7 </td><td>53934.93</td><td>5.94 </td><td>7.65</td><td>11.9   </td></tr>\n",
       "<tr><td><i style='opacity: 0.6'>3</i>          </td><td>3  </td><td>2016-12-20 00:00:05</td><td>arm   </td><td>18284.94</td><td>-391.46 </td><td>45724.56</td><td>568.35</td><td>441.4 </td><td>211.81</td><td>53925.4 </td><td>5.94 </td><td>7.62</td><td>11.9   </td></tr>\n",
       "<tr><td><i style='opacity: 0.6'>4</i>          </td><td>4  </td><td>2016-12-20 00:00:06</td><td>arm   </td><td>18284.93</td><td>-391.46 </td><td>45724.54</td><td>567.94</td><td>441.4 </td><td>212.15</td><td>53916.78</td><td>5.94 </td><td>7.59</td><td>11.9   </td></tr>\n",
       "<tr><td>...                                    </td><td>...</td><td>...                </td><td>...   </td><td>...     </td><td>...     </td><td>...     </td><td>...   </td><td>...   </td><td>...   </td><td>...     </td><td>...  </td><td>... </td><td>...    </td></tr>\n",
       "<tr><td><i style='opacity: 0.6'>271,207,572</i></td><td>625</td><td>2024-06-11 10:25:00</td><td>val   </td><td>19494.17</td><td>-1584.51</td><td>44889.77</td><td>--    </td><td>--    </td><td>--    </td><td>--      </td><td>--   </td><td>--  </td><td>--     </td></tr>\n",
       "<tr><td><i style='opacity: 0.6'>271,207,573</i></td><td>626</td><td>2024-06-11 10:26:00</td><td>val   </td><td>19493.72</td><td>-1584.37</td><td>44889.56</td><td>--    </td><td>--    </td><td>--    </td><td>--      </td><td>--   </td><td>--  </td><td>--     </td></tr>\n",
       "<tr><td><i style='opacity: 0.6'>271,207,574</i></td><td>627</td><td>2024-06-11 10:27:00</td><td>val   </td><td>19493.25</td><td>-1584.44</td><td>44889.14</td><td>--    </td><td>--    </td><td>--    </td><td>--      </td><td>--   </td><td>--  </td><td>--     </td></tr>\n",
       "<tr><td><i style='opacity: 0.6'>271,207,575</i></td><td>628</td><td>2024-06-11 10:28:00</td><td>val   </td><td>19493.56</td><td>-1584.59</td><td>44888.86</td><td>--    </td><td>--    </td><td>--    </td><td>--      </td><td>--   </td><td>--  </td><td>--     </td></tr>\n",
       "<tr><td><i style='opacity: 0.6'>271,207,576</i></td><td>629</td><td>2024-06-11 10:29:00</td><td>val   </td><td>19494.02</td><td>-1585.07</td><td>44888.62</td><td>--    </td><td>--    </td><td>--    </td><td>--      </td><td>--   </td><td>--  </td><td>--     </td></tr>\n",
       "</tbody>\n",
       "</table>"
      ],
      "text/plain": [
       "#                 Date_UTC             Site    Bx        By        Bz        E1      E2      E3      E4        TFG    TE    Volts\n",
       "0            0    2016-12-20 00:00:02  arm     18284.94  -391.44   45724.56  569.8   441.36  212.21  53937.83  5.94   7.62  11.9\n",
       "1            1    2016-12-20 00:00:03  arm     18284.94  -391.44   45724.58  569.26  441.37  211.87  53938.05  5.94   7.65  11.8\n",
       "2            2    2016-12-20 00:00:04  arm     18284.94  -391.46   45724.58  568.77  441.38  211.7   53934.93  5.94   7.65  11.9\n",
       "3            3    2016-12-20 00:00:05  arm     18284.94  -391.46   45724.56  568.35  441.4   211.81  53925.4   5.94   7.62  11.9\n",
       "4            4    2016-12-20 00:00:06  arm     18284.93  -391.46   45724.54  567.94  441.4   212.15  53916.78  5.94   7.59  11.9\n",
       "...          ...  ...                  ...     ...       ...       ...       ...     ...     ...     ...       ...    ...   ...\n",
       "271,207,572  625  2024-06-11 10:25:00  val     19494.17  -1584.51  44889.77  --      --      --      --        --     --    --\n",
       "271,207,573  626  2024-06-11 10:26:00  val     19493.72  -1584.37  44889.56  --      --      --      --        --     --    --\n",
       "271,207,574  627  2024-06-11 10:27:00  val     19493.25  -1584.44  44889.14  --      --      --      --        --     --    --\n",
       "271,207,575  628  2024-06-11 10:28:00  val     19493.56  -1584.59  44888.86  --      --      --      --        --     --    --\n",
       "271,207,576  629  2024-06-11 10:29:00  val     19494.02  -1585.07  44888.62  --      --      --      --        --     --    --"
      ]
     },
     "execution_count": 3,
     "metadata": {},
     "output_type": "execute_result"
    }
   ],
   "source": [
    "data"
   ]
  },
  {
   "cell_type": "markdown",
   "metadata": {},
   "source": [
    "Alternatively you can use star syntax to load files with a certain ending from the folder"
   ]
  },
  {
   "cell_type": "code",
   "execution_count": 4,
   "metadata": {},
   "outputs": [],
   "source": [
    "data2= vx.open('./Magnetometer_Data/*.hdf5')"
   ]
  },
  {
   "cell_type": "markdown",
   "metadata": {},
   "source": [
    "## The memory advantage\n",
    "These files combined are close 20 GB. We have now loaded them twice as different variables. If this were pandas we would struggle with loading it once while do other things on our computer. To load both would be impossible for my computer as it has 32 GB of ram.\n",
    "### How does vaex do it?\n",
    "The buzz word that vaex and others use is lazy loading. If you are truly interested in what that means that its worth doing reading because it seems almost like magic. The reality is lazy loading means quasi-loaded into memory. If we were to say bring a column properly into memory we would use evalaute on the column and then it would be in ram just like any other data type"
   ]
  },
  {
   "cell_type": "code",
   "execution_count": 5,
   "metadata": {},
   "outputs": [],
   "source": [
    "Bx= data2['Bx'].evaluate()"
   ]
  },
  {
   "cell_type": "markdown",
   "metadata": {},
   "source": [
    "Now Bx is loaded into memory. If that column takes up too much memory then doing this will crash our computer. So its worth considering this and avoiding it where ever possible.\n",
    "\n",
    "One option is to use just a subset of the data. Lets say we just want column Bx when its January.\n",
    "First we select the dataframe for that condition"
   ]
  },
  {
   "cell_type": "code",
   "execution_count": 6,
   "metadata": {},
   "outputs": [],
   "source": [
    "data2.select(data2.Date_UTC.dt.month==1)"
   ]
  },
  {
   "cell_type": "markdown",
   "metadata": {},
   "source": [
    "The we apply the selection when we run evaluate"
   ]
  },
  {
   "cell_type": "code",
   "execution_count": 7,
   "metadata": {},
   "outputs": [],
   "source": [
    "Bx= data2['Bx'].evaluate(selection=True)"
   ]
  },
  {
   "cell_type": "markdown",
   "metadata": {},
   "source": [
    "This all great but you can do all this pandas hdf files with a where clause so why is vaex more powerful is some instances. Well lets calculate the mean of column. In pandas this would not be possible without some sort of iteration and it would combursome and slow"
   ]
  },
  {
   "cell_type": "code",
   "execution_count": 8,
   "metadata": {},
   "outputs": [
    {
     "name": "stdout",
     "output_type": "stream",
     "text": [
      "18158.126449572675\n"
     ]
    }
   ],
   "source": [
    "Bx_mean= data2.Bx.mean()\n",
    "print(Bx_mean)"
   ]
  },
  {
   "cell_type": "markdown",
   "metadata": {},
   "source": [
    "This can performed on incredibly large datasets and we can use also the selection criteria we provided to find the average in January"
   ]
  },
  {
   "cell_type": "code",
   "execution_count": 9,
   "metadata": {},
   "outputs": [
    {
     "name": "stdout",
     "output_type": "stream",
     "text": [
      "18212.286342718104\n"
     ]
    }
   ],
   "source": [
    "Bx_mean= data2.Bx.mean(selection=True)\n",
    "print(Bx_mean)"
   ]
  },
  {
   "cell_type": "markdown",
   "metadata": {},
   "source": [
    "There are many functions we can provide such as min and max. The only function we might find useful that is missing is the median. This is because to perform the median we really need to have all the data in memory which vaex wants to avoid. They do provide an alternative which is median_approx which is based on a common used algorithm to is designed to negate these challenges but it does mean its not a perfect median. We can of course use evaluate on the selection criteria and use np.median if we wanted to be perfect.\n",
    "\n",
    "You may think that because we've not loaded it fully into memory we would be limited but we can peform most operations such as multiplying columns and assigning new ones. It can be used in a very similar way to pandas.\n"
   ]
  },
  {
   "cell_type": "code",
   "execution_count": 10,
   "metadata": {},
   "outputs": [],
   "source": [
    "data2['Bx2']= data2.Bx*2"
   ]
  },
  {
   "cell_type": "markdown",
   "metadata": {},
   "source": [
    "You might notice such opertations where we assign a new column are astoundingly quick and that is because vaex will often avoid actually carrying out the operation until its necessary. It just keeps track of everything thats happened. Until it needs to use when say you use evaluate or means or when you go to the save the file"
   ]
  },
  {
   "cell_type": "code",
   "execution_count": 11,
   "metadata": {},
   "outputs": [],
   "source": [
    "data2.export_hdf5('new_data.hdf5')"
   ]
  },
  {
   "cell_type": "markdown",
   "metadata": {},
   "source": [
    "In the last cell not only does it save it with the new column its also saving all the files combined into one new file"
   ]
  },
  {
   "cell_type": "code",
   "execution_count": 12,
   "metadata": {},
   "outputs": [
    {
     "data": {
      "text/html": [
       "<table>\n",
       "<thead>\n",
       "<tr><th>#                                      </th><th>Date_UTC           </th><th>Site  </th><th>Bx      </th><th>By      </th><th>Bz      </th><th>Bx2     </th></tr>\n",
       "</thead>\n",
       "<tbody>\n",
       "<tr><td><i style='opacity: 0.6'>0</i>          </td><td>2016-12-20 00:00:02</td><td>arm   </td><td>18284.94</td><td>-391.44 </td><td>45724.56</td><td>36569.88</td></tr>\n",
       "<tr><td><i style='opacity: 0.6'>1</i>          </td><td>2016-12-20 00:00:03</td><td>arm   </td><td>18284.94</td><td>-391.44 </td><td>45724.58</td><td>36569.88</td></tr>\n",
       "<tr><td><i style='opacity: 0.6'>2</i>          </td><td>2016-12-20 00:00:04</td><td>arm   </td><td>18284.94</td><td>-391.46 </td><td>45724.58</td><td>36569.88</td></tr>\n",
       "<tr><td><i style='opacity: 0.6'>3</i>          </td><td>2016-12-20 00:00:05</td><td>arm   </td><td>18284.94</td><td>-391.46 </td><td>45724.56</td><td>36569.88</td></tr>\n",
       "<tr><td><i style='opacity: 0.6'>4</i>          </td><td>2016-12-20 00:00:06</td><td>arm   </td><td>18284.93</td><td>-391.46 </td><td>45724.54</td><td>36569.86</td></tr>\n",
       "<tr><td>...                                    </td><td>...                </td><td>...   </td><td>...     </td><td>...     </td><td>...     </td><td>...     </td></tr>\n",
       "<tr><td><i style='opacity: 0.6'>270,598,012</i></td><td>2024-06-11 10:25:00</td><td>val   </td><td>19494.17</td><td>-1584.51</td><td>44889.77</td><td>38988.34</td></tr>\n",
       "<tr><td><i style='opacity: 0.6'>270,598,013</i></td><td>2024-06-11 10:26:00</td><td>val   </td><td>19493.72</td><td>-1584.37</td><td>44889.56</td><td>38987.44</td></tr>\n",
       "<tr><td><i style='opacity: 0.6'>270,598,014</i></td><td>2024-06-11 10:27:00</td><td>val   </td><td>19493.25</td><td>-1584.44</td><td>44889.14</td><td>38986.5 </td></tr>\n",
       "<tr><td><i style='opacity: 0.6'>270,598,015</i></td><td>2024-06-11 10:28:00</td><td>val   </td><td>19493.56</td><td>-1584.59</td><td>44888.86</td><td>38987.12</td></tr>\n",
       "<tr><td><i style='opacity: 0.6'>270,598,016</i></td><td>2024-06-11 10:29:00</td><td>val   </td><td>19494.02</td><td>-1585.07</td><td>44888.62</td><td>38988.04</td></tr>\n",
       "</tbody>\n",
       "</table>"
      ],
      "text/plain": [
       "#            Date_UTC             Site    Bx        By        Bz        Bx2\n",
       "0            2016-12-20 00:00:02  arm     18284.94  -391.44   45724.56  36569.88\n",
       "1            2016-12-20 00:00:03  arm     18284.94  -391.44   45724.58  36569.88\n",
       "2            2016-12-20 00:00:04  arm     18284.94  -391.46   45724.58  36569.88\n",
       "3            2016-12-20 00:00:05  arm     18284.94  -391.46   45724.56  36569.88\n",
       "4            2016-12-20 00:00:06  arm     18284.93  -391.46   45724.54  36569.86\n",
       "...          ...                  ...     ...       ...       ...       ...\n",
       "270,598,012  2024-06-11 10:25:00  val     19494.17  -1584.51  44889.77  38988.34\n",
       "270,598,013  2024-06-11 10:26:00  val     19493.72  -1584.37  44889.56  38987.44\n",
       "270,598,014  2024-06-11 10:27:00  val     19493.25  -1584.44  44889.14  38986.5\n",
       "270,598,015  2024-06-11 10:28:00  val     19493.56  -1584.59  44888.86  38987.12\n",
       "270,598,016  2024-06-11 10:29:00  val     19494.02  -1585.07  44888.62  38988.04"
      ]
     },
     "execution_count": 12,
     "metadata": {},
     "output_type": "execute_result"
    }
   ],
   "source": [
    "data2"
   ]
  },
  {
   "cell_type": "markdown",
   "metadata": {},
   "source": [
    "### It doesn't end here\n",
    "\n",
    "I am now going to show you some of the functionality that I use frequently.\n",
    "Here is a dataset that is over 80 GB.\n",
    "\\\n",
    "![image](./FileSize1.png)\n",
    "\\\n",
    "![image](./FileSize2.png)\n",
    "\n"
   ]
  },
  {
   "cell_type": "code",
   "execution_count": 13,
   "metadata": {},
   "outputs": [],
   "source": [
    "irid= vx.open('All_Iridium.hdf5')"
   ]
  },
  {
   "cell_type": "markdown",
   "metadata": {},
   "source": [
    "## Binning data\n",
    "We can apply binning to different operations such as min, max, sum, count, mean. In this example we have binned in two dimensions glon and glat. We can also apply selection criteria using selection=True if wanted to. The default output is a numpy array but I have asked for an xarray which is another package that is well designed for mutlidimensional data. We will return to xarray in another tutorial.\n",
    "\n",
    "The bining requires we give it what we want a mean of. We then provide what is going to used for binning [glon and glat]. We provide a shape (i.e. number of bins) we have 30 for glon and 20 for glat. and finally the limits (0 to 360 longitude) and (0, 90) in latitude which means we will be looking at the northern hemisphere."
   ]
  },
  {
   "cell_type": "code",
   "execution_count": 14,
   "metadata": {},
   "outputs": [],
   "source": [
    "ds= irid.mean(irid.Be, binby=[irid.glon, irid.glat], shape=(30, 20), limits=([0, 360], [0, 90]), array_type='xarray')"
   ]
  },
  {
   "cell_type": "markdown",
   "metadata": {},
   "source": [
    "We can use the inbuilt plotting function and create a polar plot of the average "
   ]
  },
  {
   "cell_type": "code",
   "execution_count": 15,
   "metadata": {},
   "outputs": [
    {
     "name": "stderr",
     "output_type": "stream",
     "text": [
      "/home/simon/gits/Plotting_Tools/src/Plotting_Tools/polar_plot.py:352: UserWarning: set_ticklabels() should only be used with a fixed number of ticks, i.e. after set_ticks() or using a FixedLocator.\n",
      "  ax.set_xticklabels(list(range(0, 360, 45)))\n"
     ]
    },
    {
     "name": "stdout",
     "output_type": "stream",
     "text": [
      "set xlim not supported \n",
      " (0.0, 360.0)\n",
      "set ylim not supported \n",
      " (0.0, 90.0)\n",
      "set_xlabel not supported \n",
      " ('glon',)\n",
      "set_ylabel not supported \n",
      " ('glat',)\n"
     ]
    },
    {
     "data": {
      "image/png": "[encoded data removed]",
      "text/plain": [
       "<Figure size 640x480 with 2 Axes>"
      ]
     },
     "metadata": {},
     "output_type": "display_data"
    }
   ],
   "source": [
    "import matplotlib.pyplot as plt\n",
    "from Plotting_Tools.polar_plot import polar\n",
    "fig=plt.figure()\n",
    "ax= polar(fig.add_subplot(projection='polar'), mode='geo')\n",
    "pc= ds.plot.pcolormesh('glon', 'glat', ax=ax, vmin=-5e1, vmax=5e1, cmap='seismic')"
   ]
  },
  {
   "cell_type": "markdown",
   "metadata": {},
   "source": [
    "## Joining Dataset\n",
    "We showed that we can load multiple datasets as one. But we can also join them in other ways. Lets load each magnetometer site seperately."
   ]
  },
  {
   "cell_type": "code",
   "execution_count": 17,
   "metadata": {},
   "outputs": [],
   "source": [
    "dun= vx.open('./Magnetometer_Data/All_Dunsink.hdf5')\n",
    "arm= vx.open('./Magnetometer_Data/All_Armagh.hdf5')"
   ]
  },
  {
   "cell_type": "markdown",
   "metadata": {},
   "source": [
    "Lets rename the columns of each vector so that we don't need the site column anymore"
   ]
  },
  {
   "cell_type": "code",
   "execution_count": 18,
   "metadata": {},
   "outputs": [],
   "source": [
    "dun.rename('Bx', 'Bx_dun')\n",
    "dun.rename('By', 'By_dun')\n",
    "dun.rename('Bz', 'Bz_dun')\n",
    "dun= dun.drop(['Site'])\n",
    "\n",
    "arm.rename('Bx', 'Bx_arm')\n",
    "arm.rename('By', 'By_arm')\n",
    "arm.rename('Bz', 'Bz_arm')\n",
    "arm= arm.drop(['Site'])\n"
   ]
  },
  {
   "cell_type": "markdown",
   "metadata": {},
   "source": [
    "Now lets join them on the datetime column"
   ]
  },
  {
   "cell_type": "code",
   "execution_count": 19,
   "metadata": {},
   "outputs": [],
   "source": [
    "joined= dun.join(arm, on='Date_UTC')"
   ]
  },
  {
   "cell_type": "markdown",
   "metadata": {},
   "source": [
    "We can now easily do operations across the two datasets"
   ]
  },
  {
   "cell_type": "code",
   "execution_count": 20,
   "metadata": {},
   "outputs": [],
   "source": [
    "joined['sum_Bx']=joined['Bx_arm']+joined['Bx_dun']"
   ]
  },
  {
   "cell_type": "markdown",
   "metadata": {},
   "source": [
    "We do some binining again. Here I am making two new columns month and year"
   ]
  },
  {
   "cell_type": "code",
   "execution_count": 21,
   "metadata": {},
   "outputs": [],
   "source": [
    "joined['Year']=joined['Date_UTC'].dt.year"
   ]
  },
  {
   "cell_type": "code",
   "execution_count": 22,
   "metadata": {},
   "outputs": [],
   "source": [
    "joined['Month']=joined['Date_UTC'].dt.month"
   ]
  },
  {
   "cell_type": "markdown",
   "metadata": {},
   "source": [
    "We can use bin_edges and bin_centers to check if the shape and limits produce the bins we want"
   ]
  },
  {
   "cell_type": "code",
   "execution_count": 23,
   "metadata": {},
   "outputs": [
    {
     "name": "stdout",
     "output_type": "stream",
     "text": [
      "Year Bin Centers: [2020. 2021. 2022. 2023. 2024. 2025.]\n",
      "Year Bin Edges: [2019.5 2020.5 2021.5 2022.5 2023.5 2024.5 2025.5]\n",
      "Month Bin Centers: [ 1.  2.  3.  4.  5.  6.  7.  8.  9. 10. 11. 12.]\n",
      "Month Bin Edges: [ 0.5  1.5  2.5  3.5  4.5  5.5  6.5  7.5  8.5  9.5 10.5 11.5 12.5]\n"
     ]
    }
   ],
   "source": [
    "print('Year Bin Centers:', joined.bin_centers(joined.Year, shape=6, limits=[2019.5, 2025.5]))\n",
    "print('Year Bin Edges:', joined.bin_edges(joined.Year, shape=6, limits=[2019.5, 2025.5]))\n",
    "print('Month Bin Centers:', joined.bin_centers(joined.Month, shape=12, limits=[.5, 12.5]))\n",
    "print('Month Bin Edges:', joined.bin_edges(joined.Month, shape=12, limits=[.5, 12.5]))\n"
   ]
  },
  {
   "cell_type": "markdown",
   "metadata": {},
   "source": [
    "Now we cna use those shapes and limits and bin the data. Again weo don't have to output xarray but I find it more useful"
   ]
  },
  {
   "cell_type": "code",
   "execution_count": 24,
   "metadata": {},
   "outputs": [],
   "source": [
    "ds= joined.min(joined.sum_Bx, binby=[joined.Year, joined.Month], shape=(6, 12), limits=([2019.5, 2025.5], [.5, 12.5]), array_type='xarray')\n",
    "ds.name='min'\n",
    "ds2= joined.max(joined.sum_Bx, binby=[joined.Year, joined.Month], shape=(6, 12), limits=([2019.5, 2025.5], [.5, 12.5]), array_type='xarray')\n",
    "ds2.name='max'"
   ]
  },
  {
   "cell_type": "markdown",
   "metadata": {},
   "source": [
    "We combine the two dataarrays into one dataset"
   ]
  },
  {
   "cell_type": "code",
   "execution_count": 25,
   "metadata": {},
   "outputs": [],
   "source": [
    "from xarray import Dataset\n",
    "import numpy as np\n",
    "ds3 = Dataset({\n",
    "    \"min\": ds,\n",
    "    \"max\": ds2})"
   ]
  },
  {
   "cell_type": "markdown",
   "metadata": {},
   "source": [
    "There are some cases of infinite valus which I solve using this line. (it makes them nans instead)"
   ]
  },
  {
   "cell_type": "code",
   "execution_count": 26,
   "metadata": {},
   "outputs": [],
   "source": [
    "ds3= ds3.where(np.isfinite(ds3))"
   ]
  },
  {
   "cell_type": "markdown",
   "metadata": {},
   "source": [
    "Now we can pick which metric we want to plot and plot it as a pcolormesh. There are many other built in plots for xarray if we wanted to use them"
   ]
  },
  {
   "cell_type": "code",
   "execution_count": 27,
   "metadata": {},
   "outputs": [
    {
     "data": {
      "text/plain": [
       "<matplotlib.collections.QuadMesh at 0x797fac13f9a0>"
      ]
     },
     "execution_count": 27,
     "metadata": {},
     "output_type": "execute_result"
    },
    {
     "data": {
      "image/png": "[encoded data removed]",
      "text/plain": [
       "<Figure size 640x480 with 2 Axes>"
      ]
     },
     "metadata": {},
     "output_type": "display_data"
    }
   ],
   "source": [
    "ds3['max'].plot.pcolormesh('Year', 'Month')"
   ]
  },
  {
   "cell_type": "markdown",
   "metadata": {},
   "source": [
    "# Here is my most recent use"
   ]
  },
  {
   "cell_type": "code",
   "execution_count": 30,
   "metadata": {},
   "outputs": [],
   "source": [
    "from wind_utility.integration_tools import create_sweeps\n",
    "start= np.datetime64('2004-02-05T18:00')\n",
    "end= np.datetime64('2004-02-06T18:00')\n",
    "\n",
    "files= ['/home/simon/Documents/WIND_Data/raw_csvs_new/2004/wi_wa_rad1_l2_20040205_v01.csv',\n",
    " '/home/simon/Documents/WIND_Data/raw_csvs_new/2004/wi_wa_rad1_l2_20040206_v01.csv']\n",
    "raw= vx.open(files)\n",
    "\n",
    "raw.drop('SWEEP', inplace=True)\n",
    "raw= raw.to_pandas_df()\n",
    "\n",
    "create_sweeps(raw, time='Date_UTC')\n",
    "raw= vx.from_pandas(raw)\n",
    "raw.rename('FREQ', 'freq')\n",
    "raw.rename('VZPAL', 'AMPL_Z')\n",
    "raw.rename('Date_UTC', 'time')\n",
    "\n",
    "sweep_start= 354\n",
    "sweep_end= 818\n",
    "\n",
    "freqs= np.arange(20, 1041, 4)\n"
   ]
  },
  {
   "cell_type": "code",
   "execution_count": 32,
   "metadata": {},
   "outputs": [
    {
     "name": "stdout",
     "output_type": "stream",
     "text": [
      "Frequency Bin Centers: [  20.   24.   28.   32.   36.   40.   44.   48.   52.   56.   60.   64.\n",
      "   68.   72.   76.   80.   84.   88.   92.   96.  100.  104.  108.  112.\n",
      "  116.  120.  124.  128.  132.  136.  140.  144.  148.  152.  156.  160.\n",
      "  164.  168.  172.  176.  180.  184.  188.  192.  196.  200.  204.  208.\n",
      "  212.  216.  220.  224.  228.  232.  236.  240.  244.  248.  252.  256.\n",
      "  260.  264.  268.  272.  276.  280.  284.  288.  292.  296.  300.  304.\n",
      "  308.  312.  316.  320.  324.  328.  332.  336.  340.  344.  348.  352.\n",
      "  356.  360.  364.  368.  372.  376.  380.  384.  388.  392.  396.  400.\n",
      "  404.  408.  412.  416.  420.  424.  428.  432.  436.  440.  444.  448.\n",
      "  452.  456.  460.  464.  468.  472.  476.  480.  484.  488.  492.  496.\n",
      "  500.  504.  508.  512.  516.  520.  524.  528.  532.  536.  540.  544.\n",
      "  548.  552.  556.  560.  564.  568.  572.  576.  580.  584.  588.  592.\n",
      "  596.  600.  604.  608.  612.  616.  620.  624.  628.  632.  636.  640.\n",
      "  644.  648.  652.  656.  660.  664.  668.  672.  676.  680.  684.  688.\n",
      "  692.  696.  700.  704.  708.  712.  716.  720.  724.  728.  732.  736.\n",
      "  740.  744.  748.  752.  756.  760.  764.  768.  772.  776.  780.  784.\n",
      "  788.  792.  796.  800.  804.  808.  812.  816.  820.  824.  828.  832.\n",
      "  836.  840.  844.  848.  852.  856.  860.  864.  868.  872.  876.  880.\n",
      "  884.  888.  892.  896.  900.  904.  908.  912.  916.  920.  924.  928.\n",
      "  932.  936.  940.  944.  948.  952.  956.  960.  964.  968.  972.  976.\n",
      "  980.  984.  988.  992.  996. 1000. 1004. 1008. 1012. 1016. 1020. 1024.\n",
      " 1028. 1032. 1036. 1040.]\n",
      "Frequency Bin Edges: [  18.   22.   26.   30.   34.   38.   42.   46.   50.   54.   58.   62.\n",
      "   66.   70.   74.   78.   82.   86.   90.   94.   98.  102.  106.  110.\n",
      "  114.  118.  122.  126.  130.  134.  138.  142.  146.  150.  154.  158.\n",
      "  162.  166.  170.  174.  178.  182.  186.  190.  194.  198.  202.  206.\n",
      "  210.  214.  218.  222.  226.  230.  234.  238.  242.  246.  250.  254.\n",
      "  258.  262.  266.  270.  274.  278.  282.  286.  290.  294.  298.  302.\n",
      "  306.  310.  314.  318.  322.  326.  330.  334.  338.  342.  346.  350.\n",
      "  354.  358.  362.  366.  370.  374.  378.  382.  386.  390.  394.  398.\n",
      "  402.  406.  410.  414.  418.  422.  426.  430.  434.  438.  442.  446.\n",
      "  450.  454.  458.  462.  466.  470.  474.  478.  482.  486.  490.  494.\n",
      "  498.  502.  506.  510.  514.  518.  522.  526.  530.  534.  538.  542.\n",
      "  546.  550.  554.  558.  562.  566.  570.  574.  578.  582.  586.  590.\n",
      "  594.  598.  602.  606.  610.  614.  618.  622.  626.  630.  634.  638.\n",
      "  642.  646.  650.  654.  658.  662.  666.  670.  674.  678.  682.  686.\n",
      "  690.  694.  698.  702.  706.  710.  714.  718.  722.  726.  730.  734.\n",
      "  738.  742.  746.  750.  754.  758.  762.  766.  770.  774.  778.  782.\n",
      "  786.  790.  794.  798.  802.  806.  810.  814.  818.  822.  826.  830.\n",
      "  834.  838.  842.  846.  850.  854.  858.  862.  866.  870.  874.  878.\n",
      "  882.  886.  890.  894.  898.  902.  906.  910.  914.  918.  922.  926.\n",
      "  930.  934.  938.  942.  946.  950.  954.  958.  962.  966.  970.  974.\n",
      "  978.  982.  986.  990.  994.  998. 1002. 1006. 1010. 1014. 1018. 1022.\n",
      " 1026. 1030. 1034. 1038. 1042.]\n",
      "Sweep Bin Centers: [354. 355. 356. 357. 358. 359. 360. 361. 362. 363. 364. 365. 366. 367.\n",
      " 368. 369. 370. 371. 372. 373. 374. 375. 376. 377. 378. 379. 380. 381.\n",
      " 382. 383. 384. 385. 386. 387. 388. 389. 390. 391. 392. 393. 394. 395.\n",
      " 396. 397. 398. 399. 400. 401. 402. 403. 404. 405. 406. 407. 408. 409.\n",
      " 410. 411. 412. 413. 414. 415. 416. 417. 418. 419. 420. 421. 422. 423.\n",
      " 424. 425. 426. 427. 428. 429. 430. 431. 432. 433. 434. 435. 436. 437.\n",
      " 438. 439. 440. 441. 442. 443. 444. 445. 446. 447. 448. 449. 450. 451.\n",
      " 452. 453. 454. 455. 456. 457. 458. 459. 460. 461. 462. 463. 464. 465.\n",
      " 466. 467. 468. 469. 470. 471. 472. 473. 474. 475. 476. 477. 478. 479.\n",
      " 480. 481. 482. 483. 484. 485. 486. 487. 488. 489. 490. 491. 492. 493.\n",
      " 494. 495. 496. 497. 498. 499. 500. 501. 502. 503. 504. 505. 506. 507.\n",
      " 508. 509. 510. 511. 512. 513. 514. 515. 516. 517. 518. 519. 520. 521.\n",
      " 522. 523. 524. 525. 526. 527. 528. 529. 530. 531. 532. 533. 534. 535.\n",
      " 536. 537. 538. 539. 540. 541. 542. 543. 544. 545. 546. 547. 548. 549.\n",
      " 550. 551. 552. 553. 554. 555. 556. 557. 558. 559. 560. 561. 562. 563.\n",
      " 564. 565. 566. 567. 568. 569. 570. 571. 572. 573. 574. 575. 576. 577.\n",
      " 578. 579. 580. 581. 582. 583. 584. 585. 586. 587. 588. 589. 590. 591.\n",
      " 592. 593. 594. 595. 596. 597. 598. 599. 600. 601. 602. 603. 604. 605.\n",
      " 606. 607. 608. 609. 610. 611. 612. 613. 614. 615. 616. 617. 618. 619.\n",
      " 620. 621. 622. 623. 624. 625. 626. 627. 628. 629. 630. 631. 632. 633.\n",
      " 634. 635. 636. 637. 638. 639. 640. 641. 642. 643. 644. 645. 646. 647.\n",
      " 648. 649. 650. 651. 652. 653. 654. 655. 656. 657. 658. 659. 660. 661.\n",
      " 662. 663. 664. 665. 666. 667. 668. 669. 670. 671. 672. 673. 674. 675.\n",
      " 676. 677. 678. 679. 680. 681. 682. 683. 684. 685. 686. 687. 688. 689.\n",
      " 690. 691. 692. 693. 694. 695. 696. 697. 698. 699. 700. 701. 702. 703.\n",
      " 704. 705. 706. 707. 708. 709. 710. 711. 712. 713. 714. 715. 716. 717.\n",
      " 718. 719. 720. 721. 722. 723. 724. 725. 726. 727. 728. 729. 730. 731.\n",
      " 732. 733. 734. 735. 736. 737. 738. 739. 740. 741. 742. 743. 744. 745.\n",
      " 746. 747. 748. 749. 750. 751. 752. 753. 754. 755. 756. 757. 758. 759.\n",
      " 760. 761. 762. 763. 764. 765. 766. 767. 768. 769. 770. 771. 772. 773.\n",
      " 774. 775. 776. 777. 778. 779. 780. 781. 782. 783. 784. 785. 786. 787.\n",
      " 788. 789. 790. 791. 792. 793. 794. 795. 796. 797. 798. 799. 800. 801.\n",
      " 802. 803. 804. 805. 806. 807. 808. 809. 810. 811. 812. 813. 814. 815.\n",
      " 816. 817. 818.]\n",
      "Sweep Bin Edges: [353.5 354.5 355.5 356.5 357.5 358.5 359.5 360.5 361.5 362.5 363.5 364.5\n",
      " 365.5 366.5 367.5 368.5 369.5 370.5 371.5 372.5 373.5 374.5 375.5 376.5\n",
      " 377.5 378.5 379.5 380.5 381.5 382.5 383.5 384.5 385.5 386.5 387.5 388.5\n",
      " 389.5 390.5 391.5 392.5 393.5 394.5 395.5 396.5 397.5 398.5 399.5 400.5\n",
      " 401.5 402.5 403.5 404.5 405.5 406.5 407.5 408.5 409.5 410.5 411.5 412.5\n",
      " 413.5 414.5 415.5 416.5 417.5 418.5 419.5 420.5 421.5 422.5 423.5 424.5\n",
      " 425.5 426.5 427.5 428.5 429.5 430.5 431.5 432.5 433.5 434.5 435.5 436.5\n",
      " 437.5 438.5 439.5 440.5 441.5 442.5 443.5 444.5 445.5 446.5 447.5 448.5\n",
      " 449.5 450.5 451.5 452.5 453.5 454.5 455.5 456.5 457.5 458.5 459.5 460.5\n",
      " 461.5 462.5 463.5 464.5 465.5 466.5 467.5 468.5 469.5 470.5 471.5 472.5\n",
      " 473.5 474.5 475.5 476.5 477.5 478.5 479.5 480.5 481.5 482.5 483.5 484.5\n",
      " 485.5 486.5 487.5 488.5 489.5 490.5 491.5 492.5 493.5 494.5 495.5 496.5\n",
      " 497.5 498.5 499.5 500.5 501.5 502.5 503.5 504.5 505.5 506.5 507.5 508.5\n",
      " 509.5 510.5 511.5 512.5 513.5 514.5 515.5 516.5 517.5 518.5 519.5 520.5\n",
      " 521.5 522.5 523.5 524.5 525.5 526.5 527.5 528.5 529.5 530.5 531.5 532.5\n",
      " 533.5 534.5 535.5 536.5 537.5 538.5 539.5 540.5 541.5 542.5 543.5 544.5\n",
      " 545.5 546.5 547.5 548.5 549.5 550.5 551.5 552.5 553.5 554.5 555.5 556.5\n",
      " 557.5 558.5 559.5 560.5 561.5 562.5 563.5 564.5 565.5 566.5 567.5 568.5\n",
      " 569.5 570.5 571.5 572.5 573.5 574.5 575.5 576.5 577.5 578.5 579.5 580.5\n",
      " 581.5 582.5 583.5 584.5 585.5 586.5 587.5 588.5 589.5 590.5 591.5 592.5\n",
      " 593.5 594.5 595.5 596.5 597.5 598.5 599.5 600.5 601.5 602.5 603.5 604.5\n",
      " 605.5 606.5 607.5 608.5 609.5 610.5 611.5 612.5 613.5 614.5 615.5 616.5\n",
      " 617.5 618.5 619.5 620.5 621.5 622.5 623.5 624.5 625.5 626.5 627.5 628.5\n",
      " 629.5 630.5 631.5 632.5 633.5 634.5 635.5 636.5 637.5 638.5 639.5 640.5\n",
      " 641.5 642.5 643.5 644.5 645.5 646.5 647.5 648.5 649.5 650.5 651.5 652.5\n",
      " 653.5 654.5 655.5 656.5 657.5 658.5 659.5 660.5 661.5 662.5 663.5 664.5\n",
      " 665.5 666.5 667.5 668.5 669.5 670.5 671.5 672.5 673.5 674.5 675.5 676.5\n",
      " 677.5 678.5 679.5 680.5 681.5 682.5 683.5 684.5 685.5 686.5 687.5 688.5\n",
      " 689.5 690.5 691.5 692.5 693.5 694.5 695.5 696.5 697.5 698.5 699.5 700.5\n",
      " 701.5 702.5 703.5 704.5 705.5 706.5 707.5 708.5 709.5 710.5 711.5 712.5\n",
      " 713.5 714.5 715.5 716.5 717.5 718.5 719.5 720.5 721.5 722.5 723.5 724.5\n",
      " 725.5 726.5 727.5 728.5 729.5 730.5 731.5 732.5 733.5 734.5 735.5 736.5\n",
      " 737.5 738.5 739.5 740.5 741.5 742.5 743.5 744.5 745.5 746.5 747.5 748.5\n",
      " 749.5 750.5 751.5 752.5 753.5 754.5 755.5 756.5 757.5 758.5 759.5 760.5\n",
      " 761.5 762.5 763.5 764.5 765.5 766.5 767.5 768.5 769.5 770.5 771.5 772.5\n",
      " 773.5 774.5 775.5 776.5 777.5 778.5 779.5 780.5 781.5 782.5 783.5 784.5\n",
      " 785.5 786.5 787.5 788.5 789.5 790.5 791.5 792.5 793.5 794.5 795.5 796.5\n",
      " 797.5 798.5 799.5 800.5 801.5 802.5 803.5 804.5 805.5 806.5 807.5 808.5\n",
      " 809.5 810.5 811.5 812.5 813.5 814.5 815.5 816.5 817.5 818.5]\n"
     ]
    }
   ],
   "source": [
    "print('Frequency Bin Centers:', raw.bin_centers(raw.freq, shape=256, limits=[18, 1042]))\n",
    "print('Frequency Bin Edges:', raw.bin_edges(raw.freq, shape=256, limits=[18, 1042]))\n",
    "print('Sweep Bin Centers:', raw.bin_centers(raw.SWEEP, shape=465, limits=[353.5, 818.5]))\n",
    "print('Sweep Bin Edges:', raw.bin_edges(raw.SWEEP, shape=465, limits=[353.5, 818.5]))"
   ]
  },
  {
   "cell_type": "code",
   "execution_count": 36,
   "metadata": {},
   "outputs": [],
   "source": [
    "rw= raw.mean(raw.AMPL_Z, binby=[raw.freq, raw.SWEEP], limits=([18, 1042], [353.3, 818.5]), shape=[256, 465], array_type='xarray')"
   ]
  },
  {
   "cell_type": "code",
   "execution_count": 40,
   "metadata": {},
   "outputs": [
    {
     "data": {
      "text/plain": [
       "<matplotlib.collections.QuadMesh at 0x797fd411e3b0>"
      ]
     },
     "execution_count": 40,
     "metadata": {},
     "output_type": "execute_result"
    },
    {
     "data": {
      "image/png": "[encoded data removed]",
      "text/plain": [
       "<Figure size 640x480 with 2 Axes>"
      ]
     },
     "metadata": {},
     "output_type": "display_data"
    }
   ],
   "source": [
    "import matplotlib.colors as mp_colors\n",
    "rw.plot.pcolormesh('SWEEP', 'freq', norm=mp_colors.LogNorm(vmin=10**-3.5, vmax=10**-2), yscale='log')"
   ]
  }
 ],
 "metadata": {
  "language_info": {
   "name": "python"
  }
 },
 "nbformat": 4,
 "nbformat_minor": 2
}
