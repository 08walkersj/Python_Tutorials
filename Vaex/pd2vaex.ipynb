{
 "cells": [
  {
   "cell_type": "markdown",
   "id": "2e5b6a4d",
   "metadata": {},
   "source": [
    "# How to convert a pandas written hdf file with multiple keys into vaex written hdf file\n",
    "#### Where the keys will be strings in an a new column"
   ]
  },
  {
   "cell_type": "markdown",
   "id": "af00c0bc",
   "metadata": {},
   "source": [
    "First we will load the neccesary packages"
   ]
  },
  {
   "cell_type": "code",
   "execution_count": 1,
   "id": "34d0ded1",
   "metadata": {},
   "outputs": [],
   "source": [
    "import pandas as pd\n",
    "import numpy as np\n",
    "import vaex as vx"
   ]
  },
  {
   "cell_type": "markdown",
   "id": "2a6b38e0",
   "metadata": {},
   "source": [
    "Next we will inform the code where the original file is and where we would like the new file to go"
   ]
  },
  {
   "cell_type": "code",
   "execution_count": 2,
   "id": "804fd0e2",
   "metadata": {},
   "outputs": [],
   "source": [
    "pandas_path= 'test.h5'\n",
    "vaex_path= 'test_vaex.hdf5'"
   ]
  },
  {
   "cell_type": "markdown",
   "id": "3fa9baef",
   "metadata": {},
   "source": [
    "We now need to load the pandas HDF file as a store using the pandas package"
   ]
  },
  {
   "cell_type": "code",
   "execution_count": 3,
   "id": "2edd9755",
   "metadata": {},
   "outputs": [
    {
     "name": "stderr",
     "output_type": "stream",
     "text": [
      "INFO:MainThread:numexpr.utils:Note: NumExpr detected 16 cores but \"NUMEXPR_MAX_THREADS\" not set, so enforcing safe limit of 8.\n",
      "INFO:MainThread:numexpr.utils:NumExpr defaulting to 8 threads.\n"
     ]
    }
   ],
   "source": [
    "store=pd.HDFStore(pandas_path, mode='r')"
   ]
  },
  {
   "cell_type": "markdown",
   "id": "589f2c8f",
   "metadata": {},
   "source": [
    "As we will be going through each key in the HDF store we need an empty list to put the dataframe from each key in\n",
    "- It may become clearer as to why we do this when you get to after the loop"
   ]
  },
  {
   "cell_type": "code",
   "execution_count": 4,
   "id": "ae57fa2c",
   "metadata": {},
   "outputs": [],
   "source": [
    "dfs= []"
   ]
  },
  {
   "cell_type": "markdown",
   "id": "4cc66d9d",
   "metadata": {},
   "source": [
    "For the next step we need to know the names of the keys in the hdf file, this line can be used to retrieve those"
   ]
  },
  {
   "cell_type": "code",
   "execution_count": 5,
   "id": "6f8182cf",
   "metadata": {},
   "outputs": [
    {
     "data": {
      "text/plain": [
       "['/f06',\n",
       " '/f07',\n",
       " '/f08',\n",
       " '/f09',\n",
       " '/f12',\n",
       " '/f13',\n",
       " '/f14',\n",
       " '/f15',\n",
       " '/f16',\n",
       " '/f17',\n",
       " '/f18']"
      ]
     },
     "execution_count": 5,
     "metadata": {},
     "output_type": "execute_result"
    }
   ],
   "source": [
    "store.keys()"
   ]
  },
  {
   "cell_type": "markdown",
   "id": "92625a98",
   "metadata": {},
   "source": [
    "The satellite name can be retrieved from the key"
   ]
  },
  {
   "cell_type": "code",
   "execution_count": 6,
   "id": "d3b77259",
   "metadata": {},
   "outputs": [
    {
     "data": {
      "text/plain": [
       "'/f06'"
      ]
     },
     "execution_count": 6,
     "metadata": {},
     "output_type": "execute_result"
    }
   ],
   "source": [
    "key= store.keys()[0]\n",
    "key"
   ]
  },
  {
   "cell_type": "code",
   "execution_count": 7,
   "id": "33ab2365",
   "metadata": {},
   "outputs": [
    {
     "data": {
      "text/plain": [
       "'f06'"
      ]
     },
     "execution_count": 7,
     "metadata": {},
     "output_type": "execute_result"
    }
   ],
   "source": [
    "key[1:]"
   ]
  },
  {
   "cell_type": "markdown",
   "id": "d4bb42d6",
   "metadata": {},
   "source": [
    "The next step is to:\n",
    "- loop through the keys\n",
    "- load the dataframe for the key using store.select(key)\n",
    "- convert the dataframe into vaex format\n",
    "- create a new column that refers to the key the data comes from\n",
    "- add the dataframe to the list \"dfs\""
   ]
  },
  {
   "cell_type": "markdown",
   "id": "c852ffa0",
   "metadata": {},
   "source": [
    "First lets look at each step in the loop individually before creating"
   ]
  },
  {
   "cell_type": "markdown",
   "id": "1905ff68",
   "metadata": {},
   "source": [
    "Here we select the dataframe with the key we chose above"
   ]
  },
  {
   "cell_type": "code",
   "execution_count": 8,
   "id": "288933b0",
   "metadata": {},
   "outputs": [
    {
     "data": {
      "text/html": [
       "<div>\n",
       "<style scoped>\n",
       "    .dataframe tbody tr th:only-of-type {\n",
       "        vertical-align: middle;\n",
       "    }\n",
       "\n",
       "    .dataframe tbody tr th {\n",
       "        vertical-align: top;\n",
       "    }\n",
       "\n",
       "    .dataframe thead th {\n",
       "        text-align: right;\n",
       "    }\n",
       "</style>\n",
       "<table border=\"1\" class=\"dataframe\">\n",
       "  <thead>\n",
       "    <tr style=\"text-align: right;\">\n",
       "      <th></th>\n",
       "      <th>ELE_TOTAL_ENERGY_FLUX</th>\n",
       "      <th>APEX_LAT</th>\n",
       "      <th>APEX_MLT</th>\n",
       "      <th>Kilcommons_ELE_ENERGY_FLUX</th>\n",
       "      <th>aurora</th>\n",
       "      <th>omni_By</th>\n",
       "      <th>omni_Bz</th>\n",
       "    </tr>\n",
       "  </thead>\n",
       "  <tbody>\n",
       "    <tr>\n",
       "      <th>1987-01-01 00:00:00</th>\n",
       "      <td>NaN</td>\n",
       "      <td>40.382637</td>\n",
       "      <td>5.544327</td>\n",
       "      <td>0.000000e+00</td>\n",
       "      <td>False</td>\n",
       "      <td>NaN</td>\n",
       "      <td>NaN</td>\n",
       "    </tr>\n",
       "    <tr>\n",
       "      <th>1987-01-01 00:01:40</th>\n",
       "      <td>NaN</td>\n",
       "      <td>45.788013</td>\n",
       "      <td>5.439890</td>\n",
       "      <td>0.000000e+00</td>\n",
       "      <td>False</td>\n",
       "      <td>NaN</td>\n",
       "      <td>NaN</td>\n",
       "    </tr>\n",
       "    <tr>\n",
       "      <th>1987-01-01 00:03:20</th>\n",
       "      <td>NaN</td>\n",
       "      <td>51.172146</td>\n",
       "      <td>5.313400</td>\n",
       "      <td>0.000000e+00</td>\n",
       "      <td>False</td>\n",
       "      <td>NaN</td>\n",
       "      <td>NaN</td>\n",
       "    </tr>\n",
       "    <tr>\n",
       "      <th>1987-01-01 00:05:00</th>\n",
       "      <td>NaN</td>\n",
       "      <td>56.465580</td>\n",
       "      <td>5.157762</td>\n",
       "      <td>0.000000e+00</td>\n",
       "      <td>False</td>\n",
       "      <td>NaN</td>\n",
       "      <td>NaN</td>\n",
       "    </tr>\n",
       "    <tr>\n",
       "      <th>1987-01-01 00:06:40</th>\n",
       "      <td>NaN</td>\n",
       "      <td>61.619465</td>\n",
       "      <td>4.961373</td>\n",
       "      <td>0.000000e+00</td>\n",
       "      <td>False</td>\n",
       "      <td>NaN</td>\n",
       "      <td>NaN</td>\n",
       "    </tr>\n",
       "    <tr>\n",
       "      <th>...</th>\n",
       "      <td>...</td>\n",
       "      <td>...</td>\n",
       "      <td>...</td>\n",
       "      <td>...</td>\n",
       "      <td>...</td>\n",
       "      <td>...</td>\n",
       "      <td>...</td>\n",
       "    </tr>\n",
       "    <tr>\n",
       "      <th>1987-07-21 23:51:40</th>\n",
       "      <td>8.050353e+07</td>\n",
       "      <td>-66.042656</td>\n",
       "      <td>18.260845</td>\n",
       "      <td>0.000000e+00</td>\n",
       "      <td>False</td>\n",
       "      <td>NaN</td>\n",
       "      <td>NaN</td>\n",
       "    </tr>\n",
       "    <tr>\n",
       "      <th>1987-07-21 23:53:20</th>\n",
       "      <td>4.335704e+09</td>\n",
       "      <td>-71.643639</td>\n",
       "      <td>18.200677</td>\n",
       "      <td>1.315906e+10</td>\n",
       "      <td>True</td>\n",
       "      <td>NaN</td>\n",
       "      <td>NaN</td>\n",
       "    </tr>\n",
       "    <tr>\n",
       "      <th>1987-07-21 23:55:00</th>\n",
       "      <td>3.078362e+09</td>\n",
       "      <td>-77.254066</td>\n",
       "      <td>18.088217</td>\n",
       "      <td>3.720737e+08</td>\n",
       "      <td>False</td>\n",
       "      <td>NaN</td>\n",
       "      <td>NaN</td>\n",
       "    </tr>\n",
       "    <tr>\n",
       "      <th>1987-07-21 23:56:40</th>\n",
       "      <td>0.000000e+00</td>\n",
       "      <td>-82.843079</td>\n",
       "      <td>17.809943</td>\n",
       "      <td>0.000000e+00</td>\n",
       "      <td>False</td>\n",
       "      <td>NaN</td>\n",
       "      <td>NaN</td>\n",
       "    </tr>\n",
       "    <tr>\n",
       "      <th>1987-07-21 23:58:20</th>\n",
       "      <td>1.328642e+08</td>\n",
       "      <td>-88.166389</td>\n",
       "      <td>15.847458</td>\n",
       "      <td>0.000000e+00</td>\n",
       "      <td>False</td>\n",
       "      <td>NaN</td>\n",
       "      <td>NaN</td>\n",
       "    </tr>\n",
       "  </tbody>\n",
       "</table>\n",
       "<p>83808 rows × 7 columns</p>\n",
       "</div>"
      ],
      "text/plain": [
       "                     ELE_TOTAL_ENERGY_FLUX   APEX_LAT   APEX_MLT  \\\n",
       "1987-01-01 00:00:00                    NaN  40.382637   5.544327   \n",
       "1987-01-01 00:01:40                    NaN  45.788013   5.439890   \n",
       "1987-01-01 00:03:20                    NaN  51.172146   5.313400   \n",
       "1987-01-01 00:05:00                    NaN  56.465580   5.157762   \n",
       "1987-01-01 00:06:40                    NaN  61.619465   4.961373   \n",
       "...                                    ...        ...        ...   \n",
       "1987-07-21 23:51:40           8.050353e+07 -66.042656  18.260845   \n",
       "1987-07-21 23:53:20           4.335704e+09 -71.643639  18.200677   \n",
       "1987-07-21 23:55:00           3.078362e+09 -77.254066  18.088217   \n",
       "1987-07-21 23:56:40           0.000000e+00 -82.843079  17.809943   \n",
       "1987-07-21 23:58:20           1.328642e+08 -88.166389  15.847458   \n",
       "\n",
       "                     Kilcommons_ELE_ENERGY_FLUX  aurora  omni_By  omni_Bz  \n",
       "1987-01-01 00:00:00                0.000000e+00   False      NaN      NaN  \n",
       "1987-01-01 00:01:40                0.000000e+00   False      NaN      NaN  \n",
       "1987-01-01 00:03:20                0.000000e+00   False      NaN      NaN  \n",
       "1987-01-01 00:05:00                0.000000e+00   False      NaN      NaN  \n",
       "1987-01-01 00:06:40                0.000000e+00   False      NaN      NaN  \n",
       "...                                         ...     ...      ...      ...  \n",
       "1987-07-21 23:51:40                0.000000e+00   False      NaN      NaN  \n",
       "1987-07-21 23:53:20                1.315906e+10    True      NaN      NaN  \n",
       "1987-07-21 23:55:00                3.720737e+08   False      NaN      NaN  \n",
       "1987-07-21 23:56:40                0.000000e+00   False      NaN      NaN  \n",
       "1987-07-21 23:58:20                0.000000e+00   False      NaN      NaN  \n",
       "\n",
       "[83808 rows x 7 columns]"
      ]
     },
     "execution_count": 8,
     "metadata": {},
     "output_type": "execute_result"
    }
   ],
   "source": [
    "data= store.select(key)\n",
    "data"
   ]
  },
  {
   "cell_type": "markdown",
   "id": "65388fe4",
   "metadata": {},
   "source": [
    "Next we convert into the vaex format"
   ]
  },
  {
   "cell_type": "code",
   "execution_count": 9,
   "id": "f2b08de7",
   "metadata": {},
   "outputs": [
    {
     "data": {
      "text/html": [
       "<table>\n",
       "<thead>\n",
       "<tr><th>#                                 </th><th>ELE_TOTAL_ENERGY_FLUX  </th><th>APEX_LAT          </th><th>APEX_MLT          </th><th>Kilcommons_ELE_ENERGY_FLUX  </th><th>aurora  </th><th>omni_By  </th><th>omni_Bz  </th><th>index                        </th></tr>\n",
       "</thead>\n",
       "<tbody>\n",
       "<tr><td><i style='opacity: 0.6'>0</i>     </td><td>nan                    </td><td>40.38263702392578 </td><td>5.544326922848863 </td><td>0.0                         </td><td>False   </td><td>nan      </td><td>nan      </td><td>1987-01-01 00:00:00.000000000</td></tr>\n",
       "<tr><td><i style='opacity: 0.6'>1</i>     </td><td>nan                    </td><td>45.78801345825195 </td><td>5.439889926138547 </td><td>0.0                         </td><td>False   </td><td>nan      </td><td>nan      </td><td>1987-01-01 00:01:40.000000000</td></tr>\n",
       "<tr><td><i style='opacity: 0.6'>2</i>     </td><td>nan                    </td><td>51.17214584350586 </td><td>5.313399980995317 </td><td>0.0                         </td><td>False   </td><td>nan      </td><td>nan      </td><td>1987-01-01 00:03:20.000000000</td></tr>\n",
       "<tr><td><i style='opacity: 0.6'>3</i>     </td><td>nan                    </td><td>56.465579986572266</td><td>5.157761853469031 </td><td>0.0                         </td><td>False   </td><td>nan      </td><td>nan      </td><td>1987-01-01 00:05:00.000000000</td></tr>\n",
       "<tr><td><i style='opacity: 0.6'>4</i>     </td><td>nan                    </td><td>61.61946487426758 </td><td>4.961372861905423 </td><td>0.0                         </td><td>False   </td><td>nan      </td><td>nan      </td><td>1987-01-01 00:06:40.000000000</td></tr>\n",
       "<tr><td>...                               </td><td>...                    </td><td>...               </td><td>...               </td><td>...                         </td><td>...     </td><td>...      </td><td>...      </td><td>...                          </td></tr>\n",
       "<tr><td><i style='opacity: 0.6'>83,803</i></td><td>80503528.0             </td><td>-66.04265594482422</td><td>18.260845121092423</td><td>0.0                         </td><td>False   </td><td>nan      </td><td>nan      </td><td>1987-07-21 23:51:40.000000000</td></tr>\n",
       "<tr><td><i style='opacity: 0.6'>83,804</i></td><td>4335703552.0           </td><td>-71.64363861083984</td><td>18.200676976056375</td><td>13159058432.0               </td><td>True    </td><td>nan      </td><td>nan      </td><td>1987-07-21 23:53:20.000000000</td></tr>\n",
       "<tr><td><i style='opacity: 0.6'>83,805</i></td><td>3078361856.0           </td><td>-77.25406646728516</td><td>18.088217058900128</td><td>372073664.0                 </td><td>False   </td><td>nan      </td><td>nan      </td><td>1987-07-21 23:55:00.000000000</td></tr>\n",
       "<tr><td><i style='opacity: 0.6'>83,806</i></td><td>0.0                    </td><td>-82.84307861328125</td><td>17.80994257960121 </td><td>0.0                         </td><td>False   </td><td>nan      </td><td>nan      </td><td>1987-07-21 23:56:40.000000000</td></tr>\n",
       "<tr><td><i style='opacity: 0.6'>83,807</i></td><td>132864192.0            </td><td>-88.16638946533203</td><td>15.847458171187267</td><td>0.0                         </td><td>False   </td><td>nan      </td><td>nan      </td><td>1987-07-21 23:58:20.000000000</td></tr>\n",
       "</tbody>\n",
       "</table>"
      ],
      "text/plain": [
       "#       ELE_TOTAL_ENERGY_FLUX    APEX_LAT            APEX_MLT            Kilcommons_ELE_ENERGY_FLUX    aurora    omni_By    omni_Bz    index\n",
       "0       nan                      40.38263702392578   5.544326922848863   0.0                           False     nan        nan        1987-01-01 00:00:00.000000000\n",
       "1       nan                      45.78801345825195   5.439889926138547   0.0                           False     nan        nan        1987-01-01 00:01:40.000000000\n",
       "2       nan                      51.17214584350586   5.313399980995317   0.0                           False     nan        nan        1987-01-01 00:03:20.000000000\n",
       "3       nan                      56.465579986572266  5.157761853469031   0.0                           False     nan        nan        1987-01-01 00:05:00.000000000\n",
       "4       nan                      61.61946487426758   4.961372861905423   0.0                           False     nan        nan        1987-01-01 00:06:40.000000000\n",
       "...     ...                      ...                 ...                 ...                           ...       ...        ...        ...\n",
       "83,803  80503528.0               -66.04265594482422  18.260845121092423  0.0                           False     nan        nan        1987-07-21 23:51:40.000000000\n",
       "83,804  4335703552.0             -71.64363861083984  18.200676976056375  13159058432.0                 True      nan        nan        1987-07-21 23:53:20.000000000\n",
       "83,805  3078361856.0             -77.25406646728516  18.088217058900128  372073664.0                   False     nan        nan        1987-07-21 23:55:00.000000000\n",
       "83,806  0.0                      -82.84307861328125  17.80994257960121   0.0                           False     nan        nan        1987-07-21 23:56:40.000000000\n",
       "83,807  132864192.0              -88.16638946533203  15.847458171187267  0.0                           False     nan        nan        1987-07-21 23:58:20.000000000"
      ]
     },
     "execution_count": 9,
     "metadata": {},
     "output_type": "execute_result"
    }
   ],
   "source": [
    "data= vx.from_pandas(data,copy_index=True)\n",
    "data"
   ]
  },
  {
   "cell_type": "markdown",
   "id": "8f75487f",
   "metadata": {},
   "source": [
    "Now we add in a new column that has the satellite name so we know which key it came from, you might have to scroll to the right to see the new column"
   ]
  },
  {
   "cell_type": "code",
   "execution_count": 10,
   "id": "9f2d97fe",
   "metadata": {},
   "outputs": [
    {
     "data": {
      "text/html": [
       "<table>\n",
       "<thead>\n",
       "<tr><th>#                                 </th><th>ELE_TOTAL_ENERGY_FLUX  </th><th>APEX_LAT          </th><th>APEX_MLT          </th><th>Kilcommons_ELE_ENERGY_FLUX  </th><th>aurora  </th><th>omni_By  </th><th>omni_Bz  </th><th>index                        </th><th>sat_id  </th></tr>\n",
       "</thead>\n",
       "<tbody>\n",
       "<tr><td><i style='opacity: 0.6'>0</i>     </td><td>nan                    </td><td>40.38263702392578 </td><td>5.544326922848863 </td><td>0.0                         </td><td>False   </td><td>nan      </td><td>nan      </td><td>1987-01-01 00:00:00.000000000</td><td>&#x27;f06&#x27;   </td></tr>\n",
       "<tr><td><i style='opacity: 0.6'>1</i>     </td><td>nan                    </td><td>45.78801345825195 </td><td>5.439889926138547 </td><td>0.0                         </td><td>False   </td><td>nan      </td><td>nan      </td><td>1987-01-01 00:01:40.000000000</td><td>&#x27;f06&#x27;   </td></tr>\n",
       "<tr><td><i style='opacity: 0.6'>2</i>     </td><td>nan                    </td><td>51.17214584350586 </td><td>5.313399980995317 </td><td>0.0                         </td><td>False   </td><td>nan      </td><td>nan      </td><td>1987-01-01 00:03:20.000000000</td><td>&#x27;f06&#x27;   </td></tr>\n",
       "<tr><td><i style='opacity: 0.6'>3</i>     </td><td>nan                    </td><td>56.465579986572266</td><td>5.157761853469031 </td><td>0.0                         </td><td>False   </td><td>nan      </td><td>nan      </td><td>1987-01-01 00:05:00.000000000</td><td>&#x27;f06&#x27;   </td></tr>\n",
       "<tr><td><i style='opacity: 0.6'>4</i>     </td><td>nan                    </td><td>61.61946487426758 </td><td>4.961372861905423 </td><td>0.0                         </td><td>False   </td><td>nan      </td><td>nan      </td><td>1987-01-01 00:06:40.000000000</td><td>&#x27;f06&#x27;   </td></tr>\n",
       "<tr><td>...                               </td><td>...                    </td><td>...               </td><td>...               </td><td>...                         </td><td>...     </td><td>...      </td><td>...      </td><td>...                          </td><td>...     </td></tr>\n",
       "<tr><td><i style='opacity: 0.6'>83,803</i></td><td>80503528.0             </td><td>-66.04265594482422</td><td>18.260845121092423</td><td>0.0                         </td><td>False   </td><td>nan      </td><td>nan      </td><td>1987-07-21 23:51:40.000000000</td><td>&#x27;f06&#x27;   </td></tr>\n",
       "<tr><td><i style='opacity: 0.6'>83,804</i></td><td>4335703552.0           </td><td>-71.64363861083984</td><td>18.200676976056375</td><td>13159058432.0               </td><td>True    </td><td>nan      </td><td>nan      </td><td>1987-07-21 23:53:20.000000000</td><td>&#x27;f06&#x27;   </td></tr>\n",
       "<tr><td><i style='opacity: 0.6'>83,805</i></td><td>3078361856.0           </td><td>-77.25406646728516</td><td>18.088217058900128</td><td>372073664.0                 </td><td>False   </td><td>nan      </td><td>nan      </td><td>1987-07-21 23:55:00.000000000</td><td>&#x27;f06&#x27;   </td></tr>\n",
       "<tr><td><i style='opacity: 0.6'>83,806</i></td><td>0.0                    </td><td>-82.84307861328125</td><td>17.80994257960121 </td><td>0.0                         </td><td>False   </td><td>nan      </td><td>nan      </td><td>1987-07-21 23:56:40.000000000</td><td>&#x27;f06&#x27;   </td></tr>\n",
       "<tr><td><i style='opacity: 0.6'>83,807</i></td><td>132864192.0            </td><td>-88.16638946533203</td><td>15.847458171187267</td><td>0.0                         </td><td>False   </td><td>nan      </td><td>nan      </td><td>1987-07-21 23:58:20.000000000</td><td>&#x27;f06&#x27;   </td></tr>\n",
       "</tbody>\n",
       "</table>"
      ],
      "text/plain": [
       "#       ELE_TOTAL_ENERGY_FLUX    APEX_LAT            APEX_MLT            Kilcommons_ELE_ENERGY_FLUX    aurora    omni_By    omni_Bz    index                          sat_id\n",
       "0       nan                      40.38263702392578   5.544326922848863   0.0                           False     nan        nan        1987-01-01 00:00:00.000000000  'f06'\n",
       "1       nan                      45.78801345825195   5.439889926138547   0.0                           False     nan        nan        1987-01-01 00:01:40.000000000  'f06'\n",
       "2       nan                      51.17214584350586   5.313399980995317   0.0                           False     nan        nan        1987-01-01 00:03:20.000000000  'f06'\n",
       "3       nan                      56.465579986572266  5.157761853469031   0.0                           False     nan        nan        1987-01-01 00:05:00.000000000  'f06'\n",
       "4       nan                      61.61946487426758   4.961372861905423   0.0                           False     nan        nan        1987-01-01 00:06:40.000000000  'f06'\n",
       "...     ...                      ...                 ...                 ...                           ...       ...        ...        ...                            ...\n",
       "83,803  80503528.0               -66.04265594482422  18.260845121092423  0.0                           False     nan        nan        1987-07-21 23:51:40.000000000  'f06'\n",
       "83,804  4335703552.0             -71.64363861083984  18.200676976056375  13159058432.0                 True      nan        nan        1987-07-21 23:53:20.000000000  'f06'\n",
       "83,805  3078361856.0             -77.25406646728516  18.088217058900128  372073664.0                   False     nan        nan        1987-07-21 23:55:00.000000000  'f06'\n",
       "83,806  0.0                      -82.84307861328125  17.80994257960121   0.0                           False     nan        nan        1987-07-21 23:56:40.000000000  'f06'\n",
       "83,807  132864192.0              -88.16638946533203  15.847458171187267  0.0                           False     nan        nan        1987-07-21 23:58:20.000000000  'f06'"
      ]
     },
     "execution_count": 10,
     "metadata": {},
     "output_type": "execute_result"
    }
   ],
   "source": [
    "data['sat_id']= np.array([key[1:]]*len(data))\n",
    "data"
   ]
  },
  {
   "cell_type": "markdown",
   "id": "1e3f7b59",
   "metadata": {},
   "source": [
    "You may have noticed the date is shown as a column called index, this is because the index in the pandas file was the dates. So we will rename this \"index\" column to something more sensible"
   ]
  },
  {
   "cell_type": "code",
   "execution_count": 11,
   "id": "736696b1",
   "metadata": {
    "scrolled": true
   },
   "outputs": [
    {
     "data": {
      "text/html": [
       "<table>\n",
       "<thead>\n",
       "<tr><th>#                                 </th><th>ELE_TOTAL_ENERGY_FLUX  </th><th>APEX_LAT          </th><th>APEX_MLT          </th><th>Kilcommons_ELE_ENERGY_FLUX  </th><th>aurora  </th><th>omni_By  </th><th>omni_Bz  </th><th>Date_UTC                     </th><th>sat_id  </th></tr>\n",
       "</thead>\n",
       "<tbody>\n",
       "<tr><td><i style='opacity: 0.6'>0</i>     </td><td>nan                    </td><td>40.38263702392578 </td><td>5.544326922848863 </td><td>0.0                         </td><td>False   </td><td>nan      </td><td>nan      </td><td>1987-01-01 00:00:00.000000000</td><td>&#x27;f06&#x27;   </td></tr>\n",
       "<tr><td><i style='opacity: 0.6'>1</i>     </td><td>nan                    </td><td>45.78801345825195 </td><td>5.439889926138547 </td><td>0.0                         </td><td>False   </td><td>nan      </td><td>nan      </td><td>1987-01-01 00:01:40.000000000</td><td>&#x27;f06&#x27;   </td></tr>\n",
       "<tr><td><i style='opacity: 0.6'>2</i>     </td><td>nan                    </td><td>51.17214584350586 </td><td>5.313399980995317 </td><td>0.0                         </td><td>False   </td><td>nan      </td><td>nan      </td><td>1987-01-01 00:03:20.000000000</td><td>&#x27;f06&#x27;   </td></tr>\n",
       "<tr><td><i style='opacity: 0.6'>3</i>     </td><td>nan                    </td><td>56.465579986572266</td><td>5.157761853469031 </td><td>0.0                         </td><td>False   </td><td>nan      </td><td>nan      </td><td>1987-01-01 00:05:00.000000000</td><td>&#x27;f06&#x27;   </td></tr>\n",
       "<tr><td><i style='opacity: 0.6'>4</i>     </td><td>nan                    </td><td>61.61946487426758 </td><td>4.961372861905423 </td><td>0.0                         </td><td>False   </td><td>nan      </td><td>nan      </td><td>1987-01-01 00:06:40.000000000</td><td>&#x27;f06&#x27;   </td></tr>\n",
       "<tr><td>...                               </td><td>...                    </td><td>...               </td><td>...               </td><td>...                         </td><td>...     </td><td>...      </td><td>...      </td><td>...                          </td><td>...     </td></tr>\n",
       "<tr><td><i style='opacity: 0.6'>83,803</i></td><td>80503528.0             </td><td>-66.04265594482422</td><td>18.260845121092423</td><td>0.0                         </td><td>False   </td><td>nan      </td><td>nan      </td><td>1987-07-21 23:51:40.000000000</td><td>&#x27;f06&#x27;   </td></tr>\n",
       "<tr><td><i style='opacity: 0.6'>83,804</i></td><td>4335703552.0           </td><td>-71.64363861083984</td><td>18.200676976056375</td><td>13159058432.0               </td><td>True    </td><td>nan      </td><td>nan      </td><td>1987-07-21 23:53:20.000000000</td><td>&#x27;f06&#x27;   </td></tr>\n",
       "<tr><td><i style='opacity: 0.6'>83,805</i></td><td>3078361856.0           </td><td>-77.25406646728516</td><td>18.088217058900128</td><td>372073664.0                 </td><td>False   </td><td>nan      </td><td>nan      </td><td>1987-07-21 23:55:00.000000000</td><td>&#x27;f06&#x27;   </td></tr>\n",
       "<tr><td><i style='opacity: 0.6'>83,806</i></td><td>0.0                    </td><td>-82.84307861328125</td><td>17.80994257960121 </td><td>0.0                         </td><td>False   </td><td>nan      </td><td>nan      </td><td>1987-07-21 23:56:40.000000000</td><td>&#x27;f06&#x27;   </td></tr>\n",
       "<tr><td><i style='opacity: 0.6'>83,807</i></td><td>132864192.0            </td><td>-88.16638946533203</td><td>15.847458171187267</td><td>0.0                         </td><td>False   </td><td>nan      </td><td>nan      </td><td>1987-07-21 23:58:20.000000000</td><td>&#x27;f06&#x27;   </td></tr>\n",
       "</tbody>\n",
       "</table>"
      ],
      "text/plain": [
       "#       ELE_TOTAL_ENERGY_FLUX    APEX_LAT            APEX_MLT            Kilcommons_ELE_ENERGY_FLUX    aurora    omni_By    omni_Bz    Date_UTC                       sat_id\n",
       "0       nan                      40.38263702392578   5.544326922848863   0.0                           False     nan        nan        1987-01-01 00:00:00.000000000  'f06'\n",
       "1       nan                      45.78801345825195   5.439889926138547   0.0                           False     nan        nan        1987-01-01 00:01:40.000000000  'f06'\n",
       "2       nan                      51.17214584350586   5.313399980995317   0.0                           False     nan        nan        1987-01-01 00:03:20.000000000  'f06'\n",
       "3       nan                      56.465579986572266  5.157761853469031   0.0                           False     nan        nan        1987-01-01 00:05:00.000000000  'f06'\n",
       "4       nan                      61.61946487426758   4.961372861905423   0.0                           False     nan        nan        1987-01-01 00:06:40.000000000  'f06'\n",
       "...     ...                      ...                 ...                 ...                           ...       ...        ...        ...                            ...\n",
       "83,803  80503528.0               -66.04265594482422  18.260845121092423  0.0                           False     nan        nan        1987-07-21 23:51:40.000000000  'f06'\n",
       "83,804  4335703552.0             -71.64363861083984  18.200676976056375  13159058432.0                 True      nan        nan        1987-07-21 23:53:20.000000000  'f06'\n",
       "83,805  3078361856.0             -77.25406646728516  18.088217058900128  372073664.0                   False     nan        nan        1987-07-21 23:55:00.000000000  'f06'\n",
       "83,806  0.0                      -82.84307861328125  17.80994257960121   0.0                           False     nan        nan        1987-07-21 23:56:40.000000000  'f06'\n",
       "83,807  132864192.0              -88.16638946533203  15.847458171187267  0.0                           False     nan        nan        1987-07-21 23:58:20.000000000  'f06'"
      ]
     },
     "execution_count": 11,
     "metadata": {},
     "output_type": "execute_result"
    }
   ],
   "source": [
    "data.rename('index', 'Date_UTC')\n",
    "data"
   ]
  },
  {
   "cell_type": "markdown",
   "id": "cb54ccdd",
   "metadata": {},
   "source": [
    "Now we will apply these steps to all the keys in a for loop that loops through the keys in the hdf file"
   ]
  },
  {
   "cell_type": "code",
   "execution_count": 12,
   "id": "213669a0",
   "metadata": {},
   "outputs": [],
   "source": [
    "for key in store.keys(): #Loop through the keys in the HDF store\n",
    "    # Load the data frame for the chosen key and change to vaex format\n",
    "    data= vx.from_pandas(store.select(key),copy_index=True) # copy index is important to preserve the index from the pandas data frame\n",
    "    # Create a new column and populate it with strings based on the key\n",
    "    data['sat_id']= np.array([key[1:]]*len(data))\n",
    "    # rename the index column (that would've orginally been the actual index in the pandas file) to something sensible\n",
    "    data.rename('index', 'Date_UTC')\n",
    "    # add the vaex data frame to the list\n",
    "    dfs.append(data)"
   ]
  },
  {
   "cell_type": "markdown",
   "id": "414c4c25",
   "metadata": {},
   "source": [
    "Finally we will use the concat function that takes a list of vaex dataframes combines into one by sticking them on top of each other"
   ]
  },
  {
   "cell_type": "code",
   "execution_count": 15,
   "id": "913d6df3",
   "metadata": {},
   "outputs": [
    {
     "data": {
      "text/html": [
       "<table>\n",
       "<thead>\n",
       "<tr><th>#                                    </th><th>ELE_TOTAL_ENERGY_FLUX  </th><th>APEX_LAT           </th><th>APEX_MLT         </th><th>Kilcommons_ELE_ENERGY_FLUX  </th><th>aurora  </th><th>omni_By            </th><th>omni_Bz           </th><th>Date_UTC                     </th><th>sat_id  </th></tr>\n",
       "</thead>\n",
       "<tbody>\n",
       "<tr><td><i style='opacity: 0.6'>0</i>        </td><td>nan                    </td><td>40.38263702392578  </td><td>5.544326922848863</td><td>0.0                         </td><td>False   </td><td>nan                </td><td>nan               </td><td>1987-01-01 00:00:00.000000000</td><td>&#x27;f06&#x27;   </td></tr>\n",
       "<tr><td><i style='opacity: 0.6'>1</i>        </td><td>nan                    </td><td>45.78801345825195  </td><td>5.439889926138547</td><td>0.0                         </td><td>False   </td><td>nan                </td><td>nan               </td><td>1987-01-01 00:01:40.000000000</td><td>&#x27;f06&#x27;   </td></tr>\n",
       "<tr><td><i style='opacity: 0.6'>2</i>        </td><td>nan                    </td><td>51.17214584350586  </td><td>5.313399980995317</td><td>0.0                         </td><td>False   </td><td>nan                </td><td>nan               </td><td>1987-01-01 00:03:20.000000000</td><td>&#x27;f06&#x27;   </td></tr>\n",
       "<tr><td><i style='opacity: 0.6'>3</i>        </td><td>nan                    </td><td>56.465579986572266 </td><td>5.157761853469031</td><td>0.0                         </td><td>False   </td><td>nan                </td><td>nan               </td><td>1987-01-01 00:05:00.000000000</td><td>&#x27;f06&#x27;   </td></tr>\n",
       "<tr><td><i style='opacity: 0.6'>4</i>        </td><td>nan                    </td><td>61.61946487426758  </td><td>4.961372861905423</td><td>0.0                         </td><td>False   </td><td>nan                </td><td>nan               </td><td>1987-01-01 00:06:40.000000000</td><td>&#x27;f06&#x27;   </td></tr>\n",
       "<tr><td>...                                  </td><td>...                    </td><td>...                </td><td>...              </td><td>...                         </td><td>...     </td><td>...                </td><td>...               </td><td>...                          </td><td>...     </td></tr>\n",
       "<tr><td><i style='opacity: 0.6'>9,613,723</i></td><td>161507696.0            </td><td>29.03656578063965  </td><td>7.6839360889233  </td><td>100973448.0                 </td><td>False   </td><td>-1.309999942779541 </td><td>2.140000104904175 </td><td>2014-12-31 23:51:40.000000000</td><td>&#x27;f18&#x27;   </td></tr>\n",
       "<tr><td><i style='opacity: 0.6'>9,613,724</i></td><td>343186880.0            </td><td>24.836381912231445 </td><td>7.596553715727309</td><td>0.0                         </td><td>False   </td><td>-1.100000023841858 </td><td>2.0899999141693115</td><td>2014-12-31 23:53:20.000000000</td><td>&#x27;f18&#x27;   </td></tr>\n",
       "<tr><td><i style='opacity: 0.6'>9,613,725</i></td><td>321288672.0            </td><td>21.413782119750977 </td><td>7.517882096917265</td><td>0.0                         </td><td>False   </td><td>-2.0899999141693115</td><td>1.7699999809265137</td><td>2014-12-31 23:55:00.000000000</td><td>&#x27;f18&#x27;   </td></tr>\n",
       "<tr><td><i style='opacity: 0.6'>9,613,726</i></td><td>162384752.0            </td><td>19.240137100219727 </td><td>7.447675145180358</td><td>0.0                         </td><td>False   </td><td>-2.2300000190734863</td><td>1.7400000095367432</td><td>2014-12-31 23:56:40.000000000</td><td>&#x27;f18&#x27;   </td></tr>\n",
       "<tr><td><i style='opacity: 0.6'>9,613,727</i></td><td>579293504.0            </td><td>-18.820056915283203</td><td>7.384339929670833</td><td>493969600.0                 </td><td>False   </td><td>-1.9299999475479126</td><td>1.600000023841858 </td><td>2014-12-31 23:58:20.000000000</td><td>&#x27;f18&#x27;   </td></tr>\n",
       "</tbody>\n",
       "</table>"
      ],
      "text/plain": [
       "#          ELE_TOTAL_ENERGY_FLUX    APEX_LAT             APEX_MLT           Kilcommons_ELE_ENERGY_FLUX    aurora    omni_By              omni_Bz             Date_UTC                       sat_id\n",
       "0          nan                      40.38263702392578    5.544326922848863  0.0                           False     nan                  nan                 1987-01-01 00:00:00.000000000  'f06'\n",
       "1          nan                      45.78801345825195    5.439889926138547  0.0                           False     nan                  nan                 1987-01-01 00:01:40.000000000  'f06'\n",
       "2          nan                      51.17214584350586    5.313399980995317  0.0                           False     nan                  nan                 1987-01-01 00:03:20.000000000  'f06'\n",
       "3          nan                      56.465579986572266   5.157761853469031  0.0                           False     nan                  nan                 1987-01-01 00:05:00.000000000  'f06'\n",
       "4          nan                      61.61946487426758    4.961372861905423  0.0                           False     nan                  nan                 1987-01-01 00:06:40.000000000  'f06'\n",
       "...        ...                      ...                  ...                ...                           ...       ...                  ...                 ...                            ...\n",
       "9,613,723  161507696.0              29.03656578063965    7.6839360889233    100973448.0                   False     -1.309999942779541   2.140000104904175   2014-12-31 23:51:40.000000000  'f18'\n",
       "9,613,724  343186880.0              24.836381912231445   7.596553715727309  0.0                           False     -1.100000023841858   2.0899999141693115  2014-12-31 23:53:20.000000000  'f18'\n",
       "9,613,725  321288672.0              21.413782119750977   7.517882096917265  0.0                           False     -2.0899999141693115  1.7699999809265137  2014-12-31 23:55:00.000000000  'f18'\n",
       "9,613,726  162384752.0              19.240137100219727   7.447675145180358  0.0                           False     -2.2300000190734863  1.7400000095367432  2014-12-31 23:56:40.000000000  'f18'\n",
       "9,613,727  579293504.0              -18.820056915283203  7.384339929670833  493969600.0                   False     -1.9299999475479126  1.600000023841858   2014-12-31 23:58:20.000000000  'f18'"
      ]
     },
     "execution_count": 15,
     "metadata": {},
     "output_type": "execute_result"
    }
   ],
   "source": [
    "# combine the vaex data frame together\n",
    "data= vx.concat(dfs)\n",
    "data"
   ]
  },
  {
   "cell_type": "markdown",
   "id": "2ee02a36",
   "metadata": {},
   "source": [
    "Last but not least we will export the new dataframe as a hdf file, now in the vaex format so it can be read easily"
   ]
  },
  {
   "cell_type": "code",
   "execution_count": 14,
   "id": "15e4d1e6",
   "metadata": {},
   "outputs": [],
   "source": [
    "# export the new vaex data frame as a hdf5 file\n",
    "data.export_hdf5(vaex_path)"
   ]
  }
 ],
 "metadata": {
  "kernelspec": {
   "display_name": "Python 3 (ipykernel)",
   "language": "python",
   "name": "python3"
  },
  "language_info": {
   "codemirror_mode": {
    "name": "ipython",
    "version": 3
   },
   "file_extension": ".py",
   "mimetype": "text/x-python",
   "name": "python",
   "nbconvert_exporter": "python",
   "pygments_lexer": "ipython3",
   "version": "3.10.11"
  }
 },
 "nbformat": 4,
 "nbformat_minor": 5
}
