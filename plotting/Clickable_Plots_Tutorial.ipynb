{
 "cells": [
  {
   "cell_type": "markdown",
   "id": "87be3c41",
   "metadata": {},
   "source": [
    "# How to make matplotlib more interactive\n",
    "### In this notebook you will learn how to run a function when a figure is clicked\n",
    "This will include:\n",
    "- A simple function that will plot where you click\n",
    "- Tackle situations where you have more than one subplot\n",
    "- Do different things in different subplots\n",
    "- A boolean array approach to indentifying which subplot has been selected and will be interacted with\n"
   ]
  },
  {
   "cell_type": "markdown",
   "id": "8b1ced39",
   "metadata": {},
   "source": [
    "## Changing the matplotlib backend\n",
    "- This magic command will make the figures appear in the new window \n",
    "\n",
    "I would not ordinarily do this in a jupyter notebook as it takes away the ability read it without running notebook but it is neccesary to interact with figures in the way will do in this tutorial"
   ]
  },
  {
   "cell_type": "code",
   "execution_count": 1,
   "id": "9baa70d6",
   "metadata": {},
   "outputs": [],
   "source": [
    "%matplotlib qt"
   ]
  },
  {
   "cell_type": "markdown",
   "id": "d031921a",
   "metadata": {},
   "source": [
    "### These are the packages we will be using in this tutorial"
   ]
  },
  {
   "cell_type": "code",
   "execution_count": 2,
   "id": "e6b7abb9",
   "metadata": {},
   "outputs": [],
   "source": [
    "import matplotlib.pyplot as plt\n",
    "import numpy as np\n",
    "import functools # needed to create the on click wrapper"
   ]
  },
  {
   "cell_type": "markdown",
   "id": "1d9c716d",
   "metadata": {},
   "source": [
    "## Example 1- Simple'\n",
    "- In this example we make it plot a red diamond at the location that is clicked in the figure\n",
    "\n",
    "This first cell is creating the function that will be run when we click on the **figure**\n",
    "\n",
    "#### arguments of the function:\n",
    "\n",
    "- fig: The matplotlib figure object that you are going to interact with\n",
    "- axis: The matplotlib axis object (subplot) you are going to interact with\n",
    "- event: This you do not need to define it, matplolib will pass an \"event\" into the function when the figure is clicked. This is event will be a \"button_press_event\" and contains information about the click such as location\n",
    "\n",
    "#### function explaination:\n",
    "- The first thing that happens in the function is extracting the co-ordinates of the click from the event object (event.xdata, event.ydata)\n",
    "- The second is scattering at the co-ordinates provided by the event (scatter at the location of the click)\n",
    "- The third is running plt.draw() this is important as it forces the figure to update and show any changes\n",
    "- We return a blank space (this is the same as return None), matplotlib requires that None is returned\n"
   ]
  },
  {
   "cell_type": "code",
   "execution_count": 3,
   "id": "72cead96",
   "metadata": {},
   "outputs": [],
   "source": [
    "# This definition will be called everytime you click, the last argument is the click \"event\"\n",
    "def onclick(fig, axis, event):\n",
    "    ix, iy= event.xdata, event.ydata # Collect the click co-ordinates\n",
    "    axis.scatter(ix, iy, color='red', marker='d') #scatter the location of the click\n",
    "    plt.draw() #makes the scatter show\n",
    "    return"
   ]
  },
  {
   "cell_type": "markdown",
   "id": "e2091d00",
   "metadata": {},
   "source": [
    "### Create and Setup Figure\n",
    "- Here we create the figure and a subplot.\n",
    "- Then we scatter some random points just have something on it\n",
    "- Then we use the functools package to create a wrapper\n",
    "You do not need to worry too much about the term wrapper. What is being done here is converting our onclick function into a function that only takes one argument which is event by already pre including the figure and axis arguments.\n",
    "- Finally we using the canvas.mpl_connect to connect the onlick_wrapper to the \"button_press_event\" for the figure.\n",
    "\n",
    "It will now run the onclick function whenever the figure is clicked.\n",
    "\n",
    "### So try it out!"
   ]
  },
  {
   "cell_type": "code",
   "execution_count": 4,
   "id": "325e0766",
   "metadata": {},
   "outputs": [
    {
     "name": "stderr",
     "output_type": "stream",
     "text": [
      "libGL error: MESA-LOADER: failed to open iris: /usr/lib/dri/iris_dri.so: cannot open shared object file: No such file or directory (search paths /usr/lib/x86_64-linux-gnu/dri:\\$${ORIGIN}/dri:/usr/lib/dri, suffix _dri)\n",
      "libGL error: failed to load driver: iris\n",
      "libGL error: MESA-LOADER: failed to open iris: /usr/lib/dri/iris_dri.so: cannot open shared object file: No such file or directory (search paths /usr/lib/x86_64-linux-gnu/dri:\\$${ORIGIN}/dri:/usr/lib/dri, suffix _dri)\n",
      "libGL error: failed to load driver: iris\n",
      "libGL error: MESA-LOADER: failed to open swrast: /usr/lib/dri/swrast_dri.so: cannot open shared object file: No such file or directory (search paths /usr/lib/x86_64-linux-gnu/dri:\\$${ORIGIN}/dri:/usr/lib/dri, suffix _dri)\n",
      "libGL error: failed to load driver: swrast\n"
     ]
    }
   ],
   "source": [
    "fig= plt.figure(num= 'Example 1')\n",
    "ax= fig.add_subplot(111)\n",
    "x, y= np.random.uniform(-100, 100, size=1000), np.random.uniform(-100, 100, size=1000)\n",
    "ax.scatter(x, y)\n",
    "onclick_wrapper=functools.partial(onclick, fig,  ax) # Create the wrapper\n",
    "cid = fig.canvas.mpl_connect('button_press_event', onclick_wrapper) # Attach it to the click function in the figure"
   ]
  },
  {
   "cell_type": "markdown",
   "id": "b959c17e",
   "metadata": {},
   "source": [
    "## Example 2- What if we have more than one subplot in the figure?\n",
    "- In this example we will deal the case where we have more than one axis (subplot) and we only want the function to run for one of them\n",
    "\n",
    "Again the first step is creating the function that will be run when we click on the figure.\n",
    "\n",
    "There is one change to the function:\n",
    "- axis.in_axes(event)\n",
    "this function will return True if the event (the click) occurred in the axis (subplot) that was provided to the function. By using this along with an if statement we can ensure the scatter only happens in one of the axes (subplots)\n",
    "\n",
    "We then follow the same steps as in the prior example:\n",
    "- Create figure\n",
    "- Create subplots\n",
    "- Scatter some data\n",
    "- Create wrapper for onclick\n",
    "- Attach wrapper to \"button_press_event\""
   ]
  },
  {
   "cell_type": "code",
   "execution_count": 5,
   "id": "abb30e6c",
   "metadata": {},
   "outputs": [],
   "source": [
    "# This definition will be called everytime you click, the last argument is the click \"event\"\n",
    "def onclick(fig, axis, event):\n",
    "    if axis.in_axes(event): # check if the event is in the subplot provided\n",
    "        ix, iy= event.xdata, event.ydata # Collect the click co-ordinates\n",
    "        axis.scatter(ix, iy, color='red', marker='d') #scatter the location of the click\n",
    "        plt.draw() #makes the scatter show\n",
    "    return\n",
    "fig2= plt.figure(num= 'Example 2')\n",
    "ax2= fig2.add_subplot(121)\n",
    "ax3= fig2.add_subplot(122)\n",
    "x, y= np.random.uniform(-100, 100, size=1000), np.random.uniform(-100, 100, size=1000)\n",
    "ax2.scatter(x, y)\n",
    "onclick_wrapper=functools.partial(onclick, fig2,  ax2) # Create the wrapper\n",
    "cid = fig2.canvas.mpl_connect('button_press_event', onclick_wrapper) # Attach it to the click function in the figure"
   ]
  },
  {
   "cell_type": "markdown",
   "id": "27b6292d",
   "metadata": {},
   "source": [
    "Try changing the axis object from ax2 to ax3 in the wrapper line and notive "
   ]
  },
  {
   "cell_type": "markdown",
   "id": "59041afd",
   "metadata": {},
   "source": [
    "## Example 3 - What if we want to do different things depending on which subplot we click in?\n",
    "- In this example we will perform different actions depending the axis (subplot) we click\n",
    "Again we focus on the onclick function\n",
    "- Now we use if and elif and the in_axes function to perform different actions depending on which axis (subplot) we are in\n",
    "- Left axis (subplot): scatter red diamond at click location\n",
    "- Right axis (subplot): scatter green hexagon at click location"
   ]
  },
  {
   "cell_type": "code",
   "execution_count": 6,
   "id": "2fd524a8",
   "metadata": {},
   "outputs": [],
   "source": [
    "# This definition will be called everytime you click, the last argument is the click \"event\"\n",
    "def onclick(fig, axis, axis2, event):\n",
    "    if axis.in_axes(event): # check if the event is in the subplot provided\n",
    "        ix, iy= event.xdata, event.ydata # Collect the click co-ordinates\n",
    "        axis.scatter(ix, iy, color='red', marker='d') #scatter on first subplot\n",
    "        plt.draw() #makes the scatter show\n",
    "    elif axis2.in_axes(event):\n",
    "        ix, iy= event.xdata, event.ydata\n",
    "        axis2.scatter(ix, iy, color='green', marker='h') #scatter on second subplot\n",
    "        plt.draw()\n",
    "    return\n",
    "fig3= plt.figure(num= 'Example 3')\n",
    "ax4= fig3.add_subplot(121)\n",
    "ax5= fig3.add_subplot(122)\n",
    "x, y= np.random.uniform(-100, 100, size=1000), np.random.uniform(-100, 100, size=1000)\n",
    "ax4.scatter(x, y)\n",
    "x, y= np.random.uniform(-100, 100, size=1000), np.random.uniform(-100, 100, size=1000)\n",
    "ax5.scatter(x, y)\n",
    "onclick_wrapper=functools.partial(onclick, fig3,  ax4, ax5) # Create the wrapper\n",
    "cid = fig3.canvas.mpl_connect('button_press_event', onclick_wrapper) # Attach it to the click function in the figure"
   ]
  },
  {
   "cell_type": "markdown",
   "id": "a1e1c49f",
   "metadata": {},
   "source": [
    "## Example 4- Same but lots of axes (subplots) and peforming the same action on all of them\n",
    "In this example we have lots of subplots and we want to apply the same action for the click for all subplots\n",
    "- Instead of having indivual axes (subplots) as arguments we will provide a list\n",
    "- We use list compression to create an array of booleans (True or False)\n",
    "- Check if the click occured in any of the axes (subplots)\n",
    "- Use the boolean array to select the correct axis (subplot) and plot on it"
   ]
  },
  {
   "cell_type": "code",
   "execution_count": 7,
   "id": "6fda8b14",
   "metadata": {},
   "outputs": [],
   "source": [
    "# This definition will be called everytime you click, the last argument is the click \"event\"\n",
    "def onclick(fig, axes, event):\n",
    "    bools= np.array([axis.in_axes(event) for axis in axes]) #Has True for which subplot the click is in\n",
    "    if any(bools):\n",
    "        axis= np.array(axes)[bools][0] # Select the axis\n",
    "        ix, iy= event.xdata, event.ydata # Collect the click co-ordinates\n",
    "        axis.scatter(ix, iy, color='purple', marker='p')\n",
    "        plt.draw() #makes the scatter show\n",
    "    return\n",
    "fig4= plt.figure(num='Example 4')\n",
    "gs=fig4.add_gridspec(10, 10,\n",
    "                     wspace=0, hspace=0)\n",
    "axes= [fig4.add_subplot(i) for i in gs]\n",
    "onclick_wrapper=functools.partial(onclick, fig4,  axes) # Create the wrapper\n",
    "cid = fig4.canvas.mpl_connect('button_press_event', onclick_wrapper) # Attach it to the click function in the figure"
   ]
  },
  {
   "cell_type": "markdown",
   "id": "46d3dd78",
   "metadata": {},
   "source": [
    "## Example 5- How useful is this? Lets make a interactable colour bar\n",
    "In this example we will load some field-aligned current data and equivalent field-aligned current data from a substorm.\n",
    "Function:\n",
    "- Create a boolean array that is True for the colour bar that has been clicked on\n",
    "- Then we use any to find out if we have clicked in any of the colour bars\n",
    "- We assume that the colour bars and axes are in the same order so that the first colour is used for the first axis\n",
    "- We use the colour bar boolean array to select the correct axis and the correct colour bar\n",
    "- We get the x and y co-ordinates of the click\n",
    "- We get the current colour bar limits (we have to check the orientation so we get the limits from the correct axis x or y)\n",
    "- We alter the colour bar limits of the what was plotted (which is the image attribute of the axis, we assign this when we plot it, its not there by default)\n",
    "- Then we as usual run plt.draw() to update the figure"
   ]
  },
  {
   "cell_type": "code",
   "execution_count": 8,
   "id": "314d846e",
   "metadata": {},
   "outputs": [],
   "source": [
    "def onclick(fig, axes, cbars, event):\n",
    "    cbar_bools= np.array([cbar.ax.in_axes(event) for cbar in cbars]) #Has True for which colour bar the click is in\n",
    "    if any(cbar_bools):\n",
    "        axis= np.array(axes)[cbar_bools][0] # Select the axis\n",
    "        cbar= np.array(cbars)[cbar_bools][0] # Select the cbar\n",
    "        ix, iy= event.xdata, event.ydata # Collect the click co-ordinates\n",
    "        if cbar.orientation=='horizontal': #Check the orientation of the colour bar to find the limits\n",
    "            crange=np.array(cbars)[cbar_bools][0].ax.get_xlim()\n",
    "            coord= ix\n",
    "        elif cbar.orientation=='vertical': #Check the orientation of the colour bar to find the limits\n",
    "            crange=caxes[cbar_bools][0].ax.get_ylim() \n",
    "            coord= iy\n",
    "        np.array(cbars)[cbar_bools][0].ax.clear()\n",
    "        if coord<sum(crange)/2:\n",
    "                axis.image.set_clim(coord, crange[-1])\n",
    "        if coord>=sum(crange)/2:\n",
    "                axis.image.set_clim(crange[0], coord)\n",
    "    plt.draw() #makes the changes visible\n",
    "    return\n",
    "fig5= plt.figure(num='Example 5')\n",
    "gs= fig5.add_gridspec(2, 2, height_ratios=[1, .1])\n",
    "ax6= fig5.add_subplot(gs[0, 0])\n",
    "ax6.set_title('FACs')\n",
    "ax6.set_aspect('equal')\n",
    "ax7= fig5.add_subplot(gs[0, 1])\n",
    "ax7.set_title('EFACs')\n",
    "ax7.set_aspect('equal')\n",
    "caxes= [fig5.add_subplot(gs[1, i]) for i in range(2)]\n",
    "try:\n",
    "    from xarray import load_dataset\n",
    "    ds= load_dataset('./Data/SECS_Amplitudes.ncdf')\n",
    "    date= np.datetime64('2011-06-01T07:51')\n",
    "    vals= (ds.sel(substorm_onset=date, epoch=20).Amplitude_cf/-ds.sel(substorm_onset=date, epoch=20).Grid_Area).values.T\n",
    "    vals2= (ds.sel(substorm_onset=date, epoch=20).Amplitude_df/ds.sel(substorm_onset=date, epoch=20).Grid_Area).values.T\n",
    "    x= ds.sel(substorm_onset=date, epoch=20).xi.values\n",
    "    y= ds.sel(substorm_onset=date, epoch=20).eta.values\n",
    "except ImportError:\n",
    "    vals= np.loadtxt('./Data/Amplitude.txt')\n",
    "    vals2= np.loadtxt('./Data/Amplitude2.txt')\n",
    "    x= np.loadtxt('./Data/xi.txt')\n",
    "    y= np.loadtxt('./Data/eta.txt')\n",
    "diffx= np.diff(x)[0]\n",
    "diffy= np.diff(y)[0]\n",
    "x_mesh=np.append([x[0]-diffx/2], x+diffx/2)\n",
    "y_mesh=np.append([y[0]-diffy/2], y+diffy/2)\n",
    "ax6.image= ax6.pcolormesh(x_mesh, y_mesh, vals, cmap='seismic', vmin=-1, vmax= 1)\n",
    "cbars=[fig5.colorbar(ax6.image, cax=caxes[0], orientation='horizontal')]\n",
    "ax7.image= ax7.pcolormesh(x_mesh, y_mesh, vals2, cmap='seismic', vmin=-1, vmax= 1)\n",
    "cbars.append(fig5.colorbar(ax7.image, cax=caxes[1], orientation='horizontal'))\n",
    "\n",
    "onclick_wrapper=functools.partial(onclick, fig5,  [ax6, ax7], cbars) # Create the wrapper\n",
    "cid = fig5.canvas.mpl_connect('button_press_event', onclick_wrapper) # Attach it to the click function in the figure"
   ]
  }
 ],
 "metadata": {
  "kernelspec": {
   "display_name": "Python 3 (ipykernel)",
   "language": "python",
   "name": "python3"
  },
  "language_info": {
   "codemirror_mode": {
    "name": "ipython",
    "version": 3
   },
   "file_extension": ".py",
   "mimetype": "text/x-python",
   "name": "python",
   "nbconvert_exporter": "python",
   "pygments_lexer": "ipython3",
   "version": "3.8.10"
  }
 },
 "nbformat": 4,
 "nbformat_minor": 5
}
