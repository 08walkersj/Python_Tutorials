{
 "cells": [
  {
   "cell_type": "markdown",
   "id": "87be3c41",
   "metadata": {},
   "source": [
    "# How to make matplotlib more interactive\n",
    "### In this notebook you will learn how to run a function when a figure is clicked\n",
    "This will include:\n",
    "- A simple function that will plot where you click\n",
    "- Tackle situations where you have more than one subplot\n",
    "- Do different things in different subplots\n",
    "- A boolean array approach to indentifying which subplot has been selected and will be interacted with\n"
   ]
  },
  {
   "cell_type": "markdown",
   "id": "8b1ced39",
   "metadata": {},
   "source": [
    "## Changing the matplotlib backend\n",
    "- This magic command will make the figures interactabe (the standard qt backend works as well but widget is better for this notebook scenario)\n",
    "- This isn't something need to worry about unless you're planning to code in a notebook"
   ]
  },
  {
   "cell_type": "code",
   "execution_count": 1,
   "id": "9baa70d6",
   "metadata": {},
   "outputs": [],
   "source": [
    "%matplotlib widget"
   ]
  },
  {
   "cell_type": "markdown",
   "id": "d031921a",
   "metadata": {},
   "source": [
    "### These are the packages we will be using in this tutorial"
   ]
  },
  {
   "cell_type": "code",
   "execution_count": 2,
   "id": "e6b7abb9",
   "metadata": {},
   "outputs": [],
   "source": [
    "import matplotlib.pyplot as plt\n",
    "import numpy as np\n",
    "import functools # needed to create the on click wrapper"
   ]
  },
  {
   "cell_type": "markdown",
   "id": "1d9c716d",
   "metadata": {},
   "source": [
    "## Example 1- \"Simple\"\n",
    "- In this example we make it plot a red diamond at the location that is clicked in the figure\n",
    "\n",
    "This first cell is creating the function that will be run when we click on the **figure**\n",
    "\n",
    "#### arguments of the function:\n",
    "\n",
    "- fig: The matplotlib figure object that you are going to interact with\n",
    "- axis: The matplotlib axis object (subplot) you are going to interact with\n",
    "- event: This you do not need to define it, matplolib will pass an \"event\" into the function when the figure is clicked. This is event will be a \"button_press_event\" and contains information about the click such as location\n",
    "\n",
    "#### function explaination:\n",
    "- The first thing that happens in the function is extracting the co-ordinates of the click from the event object (event.xdata, event.ydata)\n",
    "- The second is scattering at the co-ordinates provided by the event (scatter at the location of the click)\n",
    "- The third is running plt.draw() this is important as it forces the figure to update and show any changes\n",
    "- We return a blank space (this is the same as return None), matplotlib requires that None is returned\n"
   ]
  },
  {
   "cell_type": "code",
   "execution_count": 3,
   "id": "72cead96",
   "metadata": {},
   "outputs": [],
   "source": [
    "# This definition will be called everytime you click, the last argument is the click \"event\"\n",
    "def onclick(fig, axis, event):\n",
    "    ix, iy= event.xdata, event.ydata # Collect the click co-ordinates\n",
    "    axis.scatter(ix, iy, color='red', marker='d') #scatter the location of the click\n",
    "    plt.draw() #makes the scatter show\n",
    "    return"
   ]
  },
  {
   "cell_type": "markdown",
   "id": "e2091d00",
   "metadata": {},
   "source": [
    "### Create and Setup Figure\n",
    "- Here we create the figure and a subplot.\n",
    "- Then we scatter some random points just have something on it\n",
    "- Then we use the functools package to create a wrapper\n",
    "You do not need to worry too much about the term wrapper. What is being done here is converting our onclick function into a function that only takes one argument which is event by already pre including the figure and axis arguments.\n",
    "- Finally we using the canvas.mpl_connect to connect the onlick_wrapper to the \"button_press_event\" for the figure.\n",
    "\n",
    "It will now run the onclick function whenever the figure is clicked.\n",
    "\n",
    "### So try it out!"
   ]
  },
  {
   "cell_type": "code",
   "execution_count": 5,
   "id": "325e0766",
   "metadata": {},
   "outputs": [],
   "source": [
    "fig= plt.figure(num= 'Example 1')\n",
    "ax= fig.add_subplot(111)\n",
    "x, y= np.random.uniform(-100, 100, size=1000), np.random.uniform(-100, 100, size=1000)\n",
    "ax.scatter(x, y)\n",
    "onclick_wrapper=functools.partial(onclick, fig,  ax) # Create the wrapper\n",
    "cid = fig.canvas.mpl_connect('button_press_event', onclick_wrapper) # Attach it to the click function in the figure"
   ]
  },
  {
   "cell_type": "markdown",
   "id": "b959c17e",
   "metadata": {},
   "source": [
    "## Example 2- What if we have more than one subplot in the figure?\n",
    "- In this example we will deal the case where we have more than one axis (subplot) and we only want the function to run for one of them\n",
    "\n",
    "Again the first step is creating the function that will be run when we click on the figure.\n",
    "\n",
    "There is one change to the function:\n",
    "- axis.in_axes(event)\n",
    "this function will return True if the event (the click) occurred in the axis (subplot) that was provided to the function. By using this along with an if statement we can ensure the scatter only happens in one of the axes (subplots)\n",
    "\n",
    "We then follow the same steps as in the prior example:\n",
    "- Create figure\n",
    "- Create subplots\n",
    "- Scatter some data\n",
    "- Create wrapper for onclick\n",
    "- Attach wrapper to \"button_press_event\""
   ]
  },
  {
   "cell_type": "code",
   "execution_count": 7,
   "id": "abb30e6c",
   "metadata": {},
   "outputs": [],
   "source": [
    "# This definition will be called everytime you click, the last argument is the click \"event\"\n",
    "def onclick(fig, axis, event):\n",
    "    if axis.in_axes(event): # check if the event is in the subplot provided\n",
    "        ix, iy= event.xdata, event.ydata # Collect the click co-ordinates\n",
    "        axis.scatter(ix, iy, color='red', marker='d') #scatter the location of the click\n",
    "        plt.draw() #makes the scatter show\n",
    "    return\n",
    "fig2= plt.figure(num= 'Example 2')\n",
    "ax2= fig2.add_subplot(121)\n",
    "ax3= fig2.add_subplot(122)\n",
    "x, y= np.random.uniform(-100, 100, size=1000), np.random.uniform(-100, 100, size=1000)\n",
    "ax2.scatter(x, y)\n",
    "onclick_wrapper=functools.partial(onclick, fig2,  ax2) # Create the wrapper\n",
    "cid = fig2.canvas.mpl_connect('button_press_event', onclick_wrapper) # Attach it to the click function in the figure"
   ]
  },
  {
   "cell_type": "markdown",
   "id": "27b6292d",
   "metadata": {},
   "source": [
    "Try changing the axis object from ax2 to ax3 in the wrapper line and notive "
   ]
  },
  {
   "cell_type": "markdown",
   "id": "59041afd",
   "metadata": {},
   "source": [
    "## Example 3 - What if we want to do different things depending on which subplot we click in?\n",
    "- In this example we will perform different actions depending the axis (subplot) we click\n",
    "Again we focus on the onclick function\n",
    "- Now we use if and elif and the in_axes function to perform different actions depending on which axis (subplot) we are in\n",
    "- Left axis (subplot): scatter red diamond at click location\n",
    "- Right axis (subplot): scatter green hexagon at click location"
   ]
  },
  {
   "cell_type": "code",
   "execution_count": 9,
   "id": "2fd524a8",
   "metadata": {},
   "outputs": [],
   "source": [
    "# This definition will be called everytime you click, the last argument is the click \"event\"\n",
    "def onclick(fig, axis, axis2, event):\n",
    "    if axis.in_axes(event): # check if the event is in the subplot provided\n",
    "        ix, iy= event.xdata, event.ydata # Collect the click co-ordinates\n",
    "        axis.scatter(ix, iy, color='red', marker='d') #scatter on first subplot\n",
    "        plt.draw() #makes the scatter show\n",
    "    elif axis2.in_axes(event):\n",
    "        ix, iy= event.xdata, event.ydata\n",
    "        axis2.scatter(ix, iy, color='green', marker='h') #scatter on second subplot\n",
    "        plt.draw()\n",
    "    return\n",
    "fig3= plt.figure(num= 'Example 3')\n",
    "ax4= fig3.add_subplot(121)\n",
    "ax5= fig3.add_subplot(122)\n",
    "x, y= np.random.uniform(-100, 100, size=1000), np.random.uniform(-100, 100, size=1000)\n",
    "ax4.scatter(x, y)\n",
    "x, y= np.random.uniform(-100, 100, size=1000), np.random.uniform(-100, 100, size=1000)\n",
    "ax5.scatter(x, y)\n",
    "onclick_wrapper=functools.partial(onclick, fig3,  ax4, ax5) # Create the wrapper\n",
    "cid = fig3.canvas.mpl_connect('button_press_event', onclick_wrapper) # Attach it to the click function in the figure"
   ]
  },
  {
   "cell_type": "markdown",
   "id": "a1e1c49f",
   "metadata": {},
   "source": [
    "## Example 4- Same but lots of axes (subplots) and peforming the same action on all of them\n",
    "In this example we have lots of subplots and we want to apply the same action for the click for all subplots\n",
    "- Instead of having indivual axes (subplots) as arguments we will provide a list\n",
    "- We use list compression to create an array of booleans (True or False)\n",
    "- Check if the click occured in any of the axes (subplots)\n",
    "- Use the boolean array to select the correct axis (subplot) and plot on it"
   ]
  },
  {
   "cell_type": "code",
   "execution_count": 11,
   "id": "6fda8b14",
   "metadata": {},
   "outputs": [],
   "source": [
    "# This definition will be called everytime you click, the last argument is the click \"event\"\n",
    "def onclick(fig, axes, event):\n",
    "    bools= np.array([axis.in_axes(event) for axis in axes]) #Has True for which subplot the click is in\n",
    "    if any(bools):\n",
    "        axis= np.array(axes)[bools][0] # Select the axis\n",
    "        ix, iy= event.xdata, event.ydata # Collect the click co-ordinates\n",
    "        axis.scatter(ix, iy, color='purple', marker='p')\n",
    "        plt.draw() #makes the scatter show\n",
    "    return\n",
    "fig4= plt.figure(num='Example 4')\n",
    "gs=fig4.add_gridspec(10, 10,\n",
    "                     wspace=0, hspace=0)\n",
    "axes= [fig4.add_subplot(i) for i in gs]\n",
    "onclick_wrapper=functools.partial(onclick, fig4,  axes) # Create the wrapper\n",
    "cid = fig4.canvas.mpl_connect('button_press_event', onclick_wrapper) # Attach it to the click function in the figure"
   ]
  },
  {
   "cell_type": "markdown",
   "id": "46d3dd78",
   "metadata": {},
   "source": [
    "## Example 5- How useful is this? Lets make a interactable colour bar\n",
    "In this example we will load some field-aligned current data and equivalent field-aligned current data from a substorm.\n",
    "Function:\n",
    "- Create a boolean array that is True for the colour bar that has been clicked on\n",
    "- Then we use any to find out if we have clicked in any of the colour bars\n",
    "- We assume that the colour bars and axes are in the same order so that the first colour is used for the first axis\n",
    "- We use the colour bar boolean array to select the correct axis and the correct colour bar\n",
    "- We get the x and y co-ordinates of the click\n",
    "- We get the current colour bar limits (we have to check the orientation so we get the limits from the correct axis x or y)\n",
    "- We alter the colour bar limits of the what was plotted (which is the image attribute of the axis, we assign this when we plot it, its not there by default)\n",
    "- Then we as usual run plt.draw() to update the figure"
   ]
  },
  {
   "cell_type": "code",
   "execution_count": 12,
   "id": "314d846e",
   "metadata": {},
   "outputs": [
    {
     "data": {
      "application/vnd.jupyter.widget-view+json": {
       "model_id": "5cfafa639b0e470db039ab0f44793542",
       "version_major": 2,
       "version_minor": 0
      },
      "image/png": "[encoded data removed]",
      "text/html": [
       "\n",
       "            <div style=\"display: inline-block;\">\n",
       "                <div class=\"jupyter-widgets widget-label\" style=\"text-align: center;\">\n",
       "                    Example 5\n",
       "                </div>\n",
       "                <img src='data:image/png;base64,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' width=640.0/>\n",
       "            </div>\n",
       "        "
      ],
      "text/plain": [
       "Canvas(toolbar=Toolbar(toolitems=[('Home', 'Reset original view', 'home', 'home'), ('Back', 'Back to previous …"
      ]
     },
     "metadata": {},
     "output_type": "display_data"
    }
   ],
   "source": [
    "def onclick(fig, axes, cbars, event):\n",
    "    cbar_bools= np.array([cbar.ax.in_axes(event) for cbar in cbars]) #Has True for which colour bar the click is in\n",
    "    if any(cbar_bools):\n",
    "        axis= np.array(axes)[cbar_bools][0] # Select the axis\n",
    "        cbar= np.array(cbars)[cbar_bools][0] # Select the cbar\n",
    "        ix, iy= event.xdata, event.ydata # Collect the click co-ordinates\n",
    "        if cbar.orientation=='horizontal': #Check the orientation of the colour bar to find the limits\n",
    "            crange=np.array(cbars)[cbar_bools][0].ax.get_xlim()\n",
    "            coord= ix\n",
    "        elif cbar.orientation=='vertical': #Check the orientation of the colour bar to find the limits\n",
    "            crange=caxes[cbar_bools][0].ax.get_ylim() \n",
    "            coord= iy\n",
    "        np.array(cbars)[cbar_bools][0].ax.clear()\n",
    "        if coord<sum(crange)/2:\n",
    "                axis.image.set_clim(coord, crange[-1])\n",
    "        if coord>=sum(crange)/2:\n",
    "                axis.image.set_clim(crange[0], coord)\n",
    "    plt.draw() #makes the changes visible\n",
    "    return\n",
    "\n",
    "#Figure setup\n",
    "fig5= plt.figure(num='Example 5')\n",
    "gs= fig5.add_gridspec(2, 2, height_ratios=[1, .1])\n",
    "ax6= fig5.add_subplot(gs[0, 0])\n",
    "ax6.set_title('FACs')\n",
    "ax6.set_aspect('equal')\n",
    "ax7= fig5.add_subplot(gs[0, 1])\n",
    "ax7.set_title('EFACs')\n",
    "ax7.set_aspect('equal')\n",
    "caxes= [fig5.add_subplot(gs[1, i]) for i in range(2)]\n",
    "\n",
    "# Load dataset try and except is to combat whether user has the package xarray\n",
    "try:\n",
    "    from xarray import load_dataset\n",
    "    ds= load_dataset('./Data/SECS_Amplitudes.ncdf')\n",
    "    date= np.datetime64('2011-06-01T07:51')\n",
    "    vals= (ds.sel(substorm_onset=date, epoch=20).Amplitude_cf/-ds.sel(substorm_onset=date, epoch=20).Grid_Area).values.T\n",
    "    vals2= (ds.sel(substorm_onset=date, epoch=20).Amplitude_df/ds.sel(substorm_onset=date, epoch=20).Grid_Area).values.T\n",
    "    x= ds.sel(substorm_onset=date, epoch=20).xi.values\n",
    "    y= ds.sel(substorm_onset=date, epoch=20).eta.values\n",
    "except ImportError:\n",
    "    vals= np.loadtxt('./Data/Amplitude.txt')\n",
    "    vals2= np.loadtxt('./Data/Amplitude2.txt')\n",
    "    x= np.loadtxt('./Data/xi.txt')\n",
    "    y= np.loadtxt('./Data/eta.txt')\n",
    "\n",
    "#Creating the edges of the \"pixels\" for pcolormesh\n",
    "diffx= np.diff(x)[0]\n",
    "diffy= np.diff(y)[0]\n",
    "x_mesh=np.append([x[0]-diffx/2], x+diffx/2)\n",
    "y_mesh=np.append([y[0]-diffy/2], y+diffy/2)\n",
    "\n",
    "#Adding the pcolormesh as an attribue image to the subplot for easy access later\n",
    "ax6.image= ax6.pcolormesh(x_mesh, y_mesh, vals, cmap='seismic', vmin=-1, vmax= 1)\n",
    "ax7.image= ax7.pcolormesh(x_mesh, y_mesh, vals2, cmap='seismic', vmin=-1, vmax= 1)\n",
    "\n",
    "#Creating list of colour bars\n",
    "cbars=[fig5.colorbar(ax6.image, cax=caxes[0], orientation='horizontal')]\n",
    "#Adding to the list of colour bars\n",
    "cbars.append(fig5.colorbar(ax7.image, cax=caxes[1], orientation='horizontal'))\n",
    "\n",
    "onclick_wrapper=functools.partial(onclick, fig5,  [ax6, ax7], cbars) # Create the wrapper\n",
    "cid = fig5.canvas.mpl_connect('button_press_event', onclick_wrapper) # Attach it to the click function in the figure"
   ]
  }
 ],
 "metadata": {
  "kernelspec": {
   "display_name": "Python 3 (ipykernel)",
   "language": "python",
   "name": "python3"
  },
  "language_info": {
   "codemirror_mode": {
    "name": "ipython",
    "version": 3
   },
   "file_extension": ".py",
   "mimetype": "text/x-python",
   "name": "python",
   "nbconvert_exporter": "python",
   "pygments_lexer": "ipython3",
   "version": "3.10.14"
  }
 },
 "nbformat": 4,
 "nbformat_minor": 5
}
